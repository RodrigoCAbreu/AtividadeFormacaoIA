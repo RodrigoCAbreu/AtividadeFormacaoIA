{
 "cells": [
  {
   "cell_type": "markdown",
   "id": "ebaae06a",
   "metadata": {},
   "source": [
    "# Analisador de sentimentos"
   ]
  },
  {
   "cell_type": "code",
   "execution_count": 3,
   "id": "0483bfa2",
   "metadata": {},
   "outputs": [],
   "source": [
    "# Imports\n",
    "import copy\n",
    "import operator\n",
    "import os, glob, re\n",
    "import numpy as np\n",
    "from sklearn import metrics\n",
    "from string import punctuation\n",
    "from collections import defaultdict\n",
    "from collections import Counter\n",
    "from collections import OrderedDict\n",
    "from textblob.classifiers import NaiveBayesClassifier"
   ]
  },
  {
   "cell_type": "code",
   "execution_count": 10,
   "id": "57ffd050",
   "metadata": {},
   "outputs": [],
   "source": [
    "#inicializando o contador\n",
    "count_neg = 0\n",
    "count_pos = 0\n",
    "\n",
    "#Criando lista vazias\n",
    "Train_Set_NEG  = []\n",
    "Train_Set_POS  = []\n",
    "Training_Set = []\n",
    "ID_val_List  = []\n",
    "\n",
    "#Abrindo reviews negativas\n",
    "for line in open(\"datasets/treino/train_review_hotel_neg.txt\",'r',encoding=\"utf8\").readlines():\n",
    "    \n",
    "    if re.match(r'ID-[0-9].*',line):\n",
    "        count_neg+=1\n",
    "        each_line = re.sub(r'ID-[0-9].*_','',line)\n",
    "        each_line = each_line.strip(\"\\n\")\n",
    "        Train_Set_NEG.append(each_line[8:])\n",
    "        \n",
    "for each_sentence in Train_Set_NEG:\n",
    "    Training_Set.append((each_sentence,'NEG'))\n",
    "    \n",
    "#Abrindo reviews positivas\n",
    "for line in open(\"datasets/treino/train_review_hotel_pos.txt\",'r',encoding=\"utf8\").readlines():\n",
    "        \n",
    "    if re.match(r'ID-[0-9].*',line):\n",
    "        count_pos+=1\n",
    "        each_line = re.sub(r'ID-[0-9].*_','',line)\n",
    "        each_line = each_line.strip()\n",
    "        Train_Set_POS.append(each_line[8:])\n",
    "\n",
    "for each_sentence in Train_Set_POS:\n",
    "    Training_Set.append((each_sentence,'POS'))"
   ]
  },
  {
   "cell_type": "code",
   "execution_count": 11,
   "id": "6ddc0957",
   "metadata": {},
   "outputs": [],
   "source": [
    "# Criando o classificador Naive Bayes\n",
    "classifier = NaiveBayesClassifier(Training_Set)"
   ]
  },
  {
   "cell_type": "code",
   "execution_count": 12,
   "id": "73151f43",
   "metadata": {},
   "outputs": [],
   "source": [
    "#Dados de validação\n",
    "Test_Set = []\n",
    "\n",
    "for line in open(\"datasets/teste/test_dataset.txt\",'r',encoding=\"utf8\").readlines():\n",
    "    if re.match(r'ID-[0-9].*',line):\n",
    "        each_line = re.sub(r'ID-[0-9].*_','',line)\n",
    "        each_line = each_line.strip()\n",
    "        Test_Set.append(each_line[8:])\n",
    "        ID_val_List.append(each_line[0:7])\n",
    "        \n",
    "sol_list = []\n",
    "for each_item in Test_Set:\n",
    "    sol_list.append (classifier.classify(each_item))"
   ]
  },
  {
   "cell_type": "code",
   "execution_count": 14,
   "id": "c7bb983a",
   "metadata": {},
   "outputs": [],
   "source": [
    "# Comparativo entre previsões e dados reais\n",
    "dictionary = OrderedDict()\n",
    "dictionary = dict(zip(ID_val_List, sol_list))"
   ]
  },
  {
   "cell_type": "code",
   "execution_count": 15,
   "id": "99f067d8",
   "metadata": {},
   "outputs": [
    {
     "data": {
      "text/plain": [
       "{'ID-2996': 'NEG',\n",
       " 'ID-2966': 'POS',\n",
       " 'ID-2032': 'NEG',\n",
       " 'ID-1158': 'POS',\n",
       " 'ID-2888': 'NEG',\n",
       " 'ID-2980': 'NEG',\n",
       " 'ID-1038': 'POS',\n",
       " 'ID-1170': 'POS',\n",
       " 'ID-1236': 'POS',\n",
       " 'ID-1058': 'NEG',\n",
       " 'ID-1080': 'POS',\n",
       " 'ID-2862': 'NEG',\n",
       " 'ID-1172': 'POS',\n",
       " 'ID-2838': 'NEG',\n",
       " 'ID-2866': 'NEG',\n",
       " 'ID-2858': 'NEG',\n",
       " 'ID-1186': 'POS',\n",
       " 'ID-2904': 'POS',\n",
       " 'ID-1218': 'POS',\n",
       " 'ID-2854': 'NEG',\n",
       " 'ID-2882': 'NEG',\n",
       " 'ID-1260': 'POS',\n",
       " 'ID-1220': 'POS',\n",
       " 'ID-2852': 'NEG',\n",
       " 'ID-1068': 'POS',\n",
       " 'ID-1176': 'POS',\n",
       " 'ID-2944': 'NEG',\n",
       " 'ID-1048': 'POS',\n",
       " 'ID-1086': 'POS',\n",
       " 'ID-1214': 'POS',\n",
       " 'ID-2938': 'NEG',\n",
       " 'ID-2020': 'NEG',\n",
       " 'ID-2936': 'NEG',\n",
       " 'ID-2798': 'NEG',\n",
       " 'ID-1148': 'POS',\n",
       " 'ID-2846': 'POS',\n",
       " 'ID-1040': 'POS',\n",
       " 'ID-1050': 'POS',\n",
       " 'ID-1250': 'POS',\n",
       " 'ID-1140': 'POS',\n",
       " 'ID-2926': 'NEG',\n",
       " 'ID-2878': 'NEG',\n",
       " 'ID-1240': 'NEG',\n",
       " 'ID-2892': 'NEG',\n",
       " 'ID-2832': 'NEG',\n",
       " 'ID-1070': 'POS',\n",
       " 'ID-1090': 'POS',\n",
       " 'ID-1198': 'POS',\n",
       " 'ID-2816': 'NEG',\n",
       " 'ID-2864': 'NEG'}"
      ]
     },
     "execution_count": 15,
     "metadata": {},
     "output_type": "execute_result"
    }
   ],
   "source": [
    "dictionary"
   ]
  }
 ],
 "metadata": {
  "kernelspec": {
   "display_name": "Python 3 (ipykernel)",
   "language": "python",
   "name": "python3"
  },
  "language_info": {
   "codemirror_mode": {
    "name": "ipython",
    "version": 3
   },
   "file_extension": ".py",
   "mimetype": "text/x-python",
   "name": "python",
   "nbconvert_exporter": "python",
   "pygments_lexer": "ipython3",
   "version": "3.9.7"
  }
 },
 "nbformat": 4,
 "nbformat_minor": 5
}
