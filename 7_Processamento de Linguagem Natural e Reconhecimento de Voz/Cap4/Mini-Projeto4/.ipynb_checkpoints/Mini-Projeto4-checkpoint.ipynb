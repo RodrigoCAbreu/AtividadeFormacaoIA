{
 "cells": [
  {
   "cell_type": "markdown",
   "metadata": {},
   "source": [
    "# <font color='blue'>Data Science Academy</font>\n",
    "# <font color='blue'>Processamento de Linguagem Natural</font>\n",
    "\n",
    "\n",
    "## Mini-Projeto 4\n",
    "\n",
    "### Analisador de Sentimentos das Avaliações de Apps da Google Store com Web Scraping e Modelo BERT"
   ]
  },
  {
   "cell_type": "code",
   "execution_count": 1,
   "metadata": {},
   "outputs": [
    {
     "name": "stdout",
     "output_type": "stream",
     "text": [
      "Versão da Linguagem Python Usada Neste Jupyter Notebook: 3.7.6\n"
     ]
    }
   ],
   "source": [
    "# Versão da Linguagem Python\n",
    "from platform import python_version\n",
    "print('Versão da Linguagem Python Usada Neste Jupyter Notebook:', python_version())"
   ]
  },
  {
   "cell_type": "markdown",
   "metadata": {},
   "source": [
    "![title](imagens/mp4.png)"
   ]
  },
  {
   "cell_type": "markdown",
   "metadata": {},
   "source": [
    "Neste Mini-Projeto vamos construir um Analisador de Sentimentos das avaliações de apps da Google Store. E usaremos um dos maiores avanços em Processamento de Linguagem Natural dos últimos anos, o modelo BERT.\n",
    "\n",
    "Para extrair as avaliações, usaremos um pacote Python que conecta direto à Google Store e faz extração com pouquíssimo código. Processaremos os dados e faremos o download do modelo pré-treinado BERT, que então será treinado com um pequeno corpus criado com as avaliações das apps (leia os manuais em pdf dos itens anteriores para compreender o funcionamento do BERT).\n",
    "\n",
    "Após treinar e testar o modelo, criaremos novas avaliações de usuários e usaremos o Analisador de Sentimentos para prever o sentimento nas avaliações.\n",
    "\n",
    "Tudo isso, com o alto grau de precisão oferecido pelo BERT.\n",
    "\n",
    "O Jupyter Notebook em anexo mostra tudo passo a passo, com comentários em cada linha. Leia todos os comentários, execute o código e experimente o mini-projeto. Recomendamos o Titan (servidor da DSA) para treinar o modelo, pois o treinamento é demorado, mesmo com um volume de dados pequeno.\n",
    "\n",
    "Boa aula.\n",
    "\n",
    "Aqui está o paper original do BERT e recomendamos a leitura: <a href=\"https://arxiv.org/pdf/1810.04805.pdf\">BERT: Pre-training of Deep Bidirectional Transformers for Language Understanding</a>\n",
    "\n",
    "Este mini-projeto considera que você leu os manuais em pdf sobre o BERT no Capítulo 4 do curso <a href=\"https://www.datascienceacademy.com.br/course?courseid=processamento-de-linguagem-natural-e-reconhecimento-de-voz\">Processamento de Linguagem Natural</a>."
   ]
  },
  {
   "cell_type": "markdown",
   "metadata": {},
   "source": [
    "## Definição do Projeto\n",
    "\n",
    "O objetivo deste projeto é a análise de sentimentos (positiva, neutra e negativa) das análises de aplicativos de saúde e fitness. Para esta tarefa, as análises de apps são coletadas na loja do Google Play. \n",
    "\n",
    "Coletamos avaliações (reviews) de 10 apps de saúde e fitness. São coletadas mais de 10 mil avaliações recentes. As classificações são consideradas como a medida / rótulo do sentimento positivo, negativo e neutro das avaliações. Os dados coletados são pré-processados e treinados usando um modelo Transformer.\n",
    "\n",
    "- Os dados são coletados usando o google-play-scrapper.\n",
    "- O modelo é treinado usando PyTorch.\n",
    "- Para pré-processamento e treinamento, o modelo BERT, em combinação com algumas camadas de dropout e densas, é usado.\n"
   ]
  },
  {
   "cell_type": "code",
   "execution_count": 2,
   "metadata": {},
   "outputs": [],
   "source": [
    "# Para atualizar um pacote, execute o comando abaixo no terminal ou prompt de comando:\n",
    "# pip install -U nome_pacote\n",
    "\n",
    "# Para instalar a versão exata de um pacote, execute o comando abaixo no terminal ou prompt de comando:\n",
    "# pip install nome_pacote==versão_desejada\n",
    "\n",
    "# Depois de instalar ou atualizar o pacote, reinicie o jupyter notebook.\n",
    "\n",
    "# Instala o pacote watermark. \n",
    "# Esse pacote é usado para gravar as versões de outros pacotes usados neste jupyter notebook.\n",
    "!pip install -q -U watermark"
   ]
  },
  {
   "cell_type": "code",
   "execution_count": 3,
   "metadata": {
    "colab": {
     "base_uri": "https://localhost:8080/",
     "height": 663
    },
    "colab_type": "code",
    "id": "7dmNrXS1NDcV",
    "outputId": "48ad9cb7-7e18-4958-9852-0dde83fb8438"
   },
   "outputs": [],
   "source": [
    "# Pacote para baixar modelos BERT e processar os dados\n",
    "!pip install -q transformers"
   ]
  },
  {
   "cell_type": "code",
   "execution_count": 4,
   "metadata": {},
   "outputs": [],
   "source": [
    "# Instala o PyTorch\n",
    "!pip install -q torch"
   ]
  },
  {
   "cell_type": "code",
   "execution_count": 5,
   "metadata": {},
   "outputs": [],
   "source": [
    "# Pacote para scraper da Google Store\n",
    "# https://pypi.org/project/google-play-scraper/\n",
    "!pip install -q google_play_scraper"
   ]
  },
  {
   "cell_type": "code",
   "execution_count": 6,
   "metadata": {
    "colab": {
     "base_uri": "https://localhost:8080/",
     "height": 68
    },
    "colab_type": "code",
    "id": "554u2zsMIsyc",
    "outputId": "21b36c12-0bf8-43de-92c6-abdb3a799c3f"
   },
   "outputs": [],
   "source": [
    "# Imports\n",
    "\n",
    "# Manipulação e visualização de dados\n",
    "import numpy as np\n",
    "import pandas as pd\n",
    "import seaborn as sns\n",
    "import matplotlib\n",
    "import matplotlib.pyplot as plt\n",
    "from pylab import rcParams\n",
    "from matplotlib import rc\n",
    "from tqdm import tqdm\n",
    "\n",
    "# Deep Learning, PLN e Métricas\n",
    "import sklearn\n",
    "import torch\n",
    "import transformers \n",
    "from textwrap import wrap\n",
    "from torch import nn, optim \n",
    "from torch.utils import data\n",
    "from collections import defaultdict\n",
    "from sklearn.model_selection import train_test_split\n",
    "from sklearn.metrics import confusion_matrix\n",
    "from sklearn.metrics import classification_report\n",
    "from transformers import BertModel\n",
    "from transformers import BertTokenizer\n",
    "from transformers import AdamW\n",
    "from transformers import get_linear_schedule_with_warmup\n",
    "\n",
    "# Imports para web scraping\n",
    "# https://pypi.org/project/Pygments/\n",
    "import json\n",
    "import pygments\n",
    "import google_play_scraper\n",
    "from pygments import highlight\n",
    "from pygments.lexers import JsonLexer\n",
    "from pygments.formatters import TerminalFormatter\n",
    "\n",
    "# Random seed\n",
    "RANDOM_SEED = 99\n",
    "np.random.seed(RANDOM_SEED)\n",
    "torch.manual_seed(RANDOM_SEED)\n",
    "\n",
    "%matplotlib inline"
   ]
  },
  {
   "cell_type": "code",
   "execution_count": 7,
   "metadata": {},
   "outputs": [
    {
     "name": "stdout",
     "output_type": "stream",
     "text": [
      "pandas              1.0.3\n",
      "torch               1.4.0+cu100\n",
      "numpy               1.18.4\n",
      "json                2.0.9\n",
      "matplotlib          3.2.1\n",
      "transformers        2.8.0\n",
      "pygments            2.5.2\n",
      "seaborn             0.10.1\n",
      "sklearn             0.22.2\n",
      "google_play_scraper 0.0.2.4\n",
      "Data Science Academy\n"
     ]
    }
   ],
   "source": [
    "# Versões dos pacotes usados neste jupyter notebook\n",
    "%reload_ext watermark\n",
    "%watermark -a \"Data Science Academy\" --iversions"
   ]
  },
  {
   "cell_type": "markdown",
   "metadata": {},
   "source": [
    "## Parte 1 - Web Scraping\n",
    "\n",
    "Na primeira parte do projeto, vamos conectar na Google Store e coletar as avaliações. Evite executar esta etapa muitas vezes seguidas, ou você será bloqueado pela Google Store."
   ]
  },
  {
   "cell_type": "code",
   "execution_count": 8,
   "metadata": {},
   "outputs": [],
   "source": [
    "# Função para imprimir a request em formato JSON\n",
    "def print_json(json_object):\n",
    "    \n",
    "    # Gera o formato json\n",
    "    json_str = json.dumps(json_object, \n",
    "                          indent = 2, \n",
    "                          sort_keys = True, \n",
    "                          default = str)\n",
    "    \n",
    "    # A função highlight do pacote pygments realça o texto\n",
    "    print(highlight(json_str, JsonLexer(), TerminalFormatter()))"
   ]
  },
  {
   "cell_type": "code",
   "execution_count": 9,
   "metadata": {},
   "outputs": [],
   "source": [
    "# Função para formatar o título das apps\n",
    "def formata_titulo(title):\n",
    "    \n",
    "    # Ajusta o título com : ou -\n",
    "    sep_index = title.find(':') if title.find(':') != -1 else title.find('-')\n",
    "    \n",
    "    # Grava a lista de títulos das apps\n",
    "    if sep_index != -1:\n",
    "        title = title[:sep_index]\n",
    "        \n",
    "    return title[:10]"
   ]
  },
  {
   "cell_type": "code",
   "execution_count": 10,
   "metadata": {},
   "outputs": [],
   "source": [
    "# Lista de apps que iremos coletar\n",
    "# Fique à vontade para tentar outras apps\n",
    "# Consulte a documentação do pacote google_play_scraper para obter detalher sobre como coletar a url de cada app:\n",
    "# https://github.com/facundoolano/google-play-scraper\n",
    "lista_apps = ['com.sillens.shapeupclub',\n",
    "              'com.alltrails.alltrails', \n",
    "              'com.getsomeheadspace.android',                     \n",
    "              'com.endomondo.android',          \n",
    "              'com.myfitnesspal.android',            \n",
    "              'com.onepeloton.callisto',                \n",
    "              'com.winwalk.android',                  \n",
    "              'com.calm.android',                     \n",
    "              'com.fitbit.FitbitMobile',\n",
    "              'com.strava']"
   ]
  },
  {
   "cell_type": "code",
   "execution_count": 11,
   "metadata": {},
   "outputs": [],
   "source": [
    "# Lista para armazenar detalhes das apps\n",
    "detalhes_apps = []"
   ]
  },
  {
   "cell_type": "code",
   "execution_count": 12,
   "metadata": {},
   "outputs": [
    {
     "name": "stderr",
     "output_type": "stream",
     "text": [
      "100%|██████████| 10/10 [00:02<00:00,  4.24it/s]\n"
     ]
    }
   ],
   "source": [
    "# Loop pela lista de apps para coletar detalhes de cada uma\n",
    "for ap in tqdm(lista_apps):\n",
    "    \n",
    "    # Coleta os detalhes das apps\n",
    "    info = google_play_scraper.app(ap, lang = 'en', country = 'us')\n",
    "    \n",
    "    # Deleta a coluna de comentários, pois queremos as avaliações\n",
    "    del info['comments']\n",
    "    \n",
    "    # Grava os detalhes\n",
    "    detalhes_apps.append(info)"
   ]
  },
  {
   "cell_type": "code",
   "execution_count": 13,
   "metadata": {},
   "outputs": [
    {
     "name": "stdout",
     "output_type": "stream",
     "text": [
      "{\n",
      "  \u001b[94m\"adSupported\"\u001b[39;49;00m: \u001b[34mtrue\u001b[39;49;00m,\n",
      "  \u001b[94m\"androidVersion\"\u001b[39;49;00m: \u001b[33m\"6.0\"\u001b[39;49;00m,\n",
      "  \u001b[94m\"androidVersionText\"\u001b[39;49;00m: \u001b[33m\"6.0 and up\"\u001b[39;49;00m,\n",
      "  \u001b[94m\"appId\"\u001b[39;49;00m: \u001b[33m\"com.alltrails.alltrails\"\u001b[39;49;00m,\n",
      "  \u001b[94m\"containsAds\"\u001b[39;49;00m: \u001b[34mtrue\u001b[39;49;00m,\n",
      "  \u001b[94m\"contentRating\"\u001b[39;49;00m: \u001b[33m\"Everyone\"\u001b[39;49;00m,\n",
      "  \u001b[94m\"contentRatingDescription\"\u001b[39;49;00m: \u001b[34mnull\u001b[39;49;00m,\n",
      "  \u001b[94m\"currency\"\u001b[39;49;00m: \u001b[33m\"USD\"\u001b[39;49;00m,\n",
      "  \u001b[94m\"description\"\u001b[39;49;00m: \u001b[33m\"Explore the outdoors with AllTrails! Discover nature with hiking, biking, backpacking and running trails around the world. Log your hike, walk, run or mountain bike ride with our GPS activity tracker. Looking for a good spot for camping or backpacking? The AllTrails community is a great place to get inspired. \\r\\n\\r\\nView trail maps to find that kid friendly or dog friendly trails that you\\u2019ve been searching for. Take the mountain biking, horseback riding, or backpacking trip you\\u2019ve always wanted to do. Explore national parks or discover new running maps, biking and hiking trails in your area. Download offline maps, get to the trailhead and start your outdoor adventure.\\r\\n\\r\\nWhether it\\u2019s a hike or a cycling ride you\\u2019re after, AllTrails inspires you with trail maps for your next outdoor adventure.\\r\\n\\r\\n<b>Explore 100,000+ Hiking Trails and Mountain Bike Routes</b>\\r\\n\\u2022 AllTrails has the largest collection of GPS trail maps, topo maps, and downloadable offline maps for trails in national parks and your own neighborhood\\r\\n\\u2022 Discover the outdoors with new mountain biking, running or hiking trails, with reviews and ratings from a community of hikers, cyclists and trail runners like you\\r\\n\\u2022 Find a hike, mountain bike ride, or trail run that\\u2019s perfect for your fitness and experience level\\r\\n\\u2022 Filter by dog friendly, kid friendly, and wheelchair friendly walking trails\\r\\n\\r\\n<b>Record Your Outdoor Adventures with the AllTrails GPS Activity Tracker</b>\\r\\n\\u2022 Turn your phone into a GPS activity tracker and follow your trail so you don\\u2019t get lost while exploring the outdoors\\r\\n\\u2022 View your hiking, running and cycling stats at a glance\\r\\n\\u2022 Share your latest backpacking, hiking, running and mountain biking activities with friends on Facebook, Instagram, and WhatsApp\\r\\n\\r\\n<b>Save Your Favorite Trails</b>\\r\\n\\u2022 Explore all the hiking and cycling trails on your bucket list and add new ones to check out\\r\\n\\u2022 Easily save your favorite trails to run, hike, camp or bike again and again\\r\\n\\u2022 Follow the hikers, cyclists and runners that inspire you\\r\\n\\r\\n<b>Get GPS Driving Directions to the Trailhead</b>\\r\\n\\u2022 With just one tap, get GPS driving directions so you can get to the trailhead in no time\\r\\n\\r\\nHike across the most beautiful national parks and nature preserves on the planet. Whatever your fitness or experience level, AllTrails will help you explore new trails with confidence.\\r\\n\\r\\n---\\r\\n\\r\\n<b>Get More with AllTrails Pro!</b>\\r\\n\\u2022 Download offline maps - track your exact GPS location as you navigate the trail, even when you don\\u2019t have a signal\\r\\n\\u2022 Never miss a turn with off-route notifications\\r\\n\\u2022 Stay safe with Lifeline - assign safety contacts who know your plan and can track your progress\\r\\n\\u2022 Know what to expect with real-time map overlays including air quality, satellite weather, pollen, and light pollution\\r\\n\\u2022 Always have a backup - design and print stunning custom topo maps\\r\\n\\u2022 Experience AllTrails ad-free - remove the distraction of ads and focus on the journey\\r\\n\\u2022 1% for the Planet - feel good knowing that part of your subscription will be going directly to helping the environment\\r\\n\\r\\nAllTrails Pro is available as an annual subscription for USD $29.99/year, or you can get three years for the price of two when you buy our 3 Year Plan via a one-time payment of USD $59.99. You can subscribe and pay through your Google Play account. Your annual subscription will automatically renew unless cancelled at least 24 hours before the end of the current period. Auto-renew can be turned off anytime by going to your My Subscriptions page on Google Wallet. Access more AllTrails Pro features on our website: https://www.alltrails.com\\r\\n\\r\\n---\\r\\n\\r\\nCOMPATIBILITY\\r\\nSign up required to favorite trails, record your activity, or follow users\\r\\n\\r\\nSUPPORT\\r\\nWe love hearing from our users! Email us here: android-support@alltrails.com\\r\\n\\r\\nLEGAL\\r\\nTerms of Use: https://www.alltrails.com/terms\"\u001b[39;49;00m,\n",
      "  \u001b[94m\"descriptionHTML\"\u001b[39;49;00m: \u001b[33m\"Explore the outdoors with AllTrails! Discover nature with hiking, biking, backpacking and running trails around the world. Log your hike, walk, run or mountain bike ride with our GPS activity tracker. Looking for a good spot for camping or backpacking? The AllTrails community is a great place to get inspired. <br><br>View trail maps to find that kid friendly or dog friendly trails that you\\u2019ve been searching for. Take the mountain biking, horseback riding, or backpacking trip you\\u2019ve always wanted to do. Explore national parks or discover new running maps, biking and hiking trails in your area. Download offline maps, get to the trailhead and start your outdoor adventure.<br><br>Whether it\\u2019s a hike or a cycling ride you\\u2019re after, AllTrails inspires you with trail maps for your next outdoor adventure.<br><br><b>Explore 100,000+ Hiking Trails and Mountain Bike Routes</b><br>\\u2022 AllTrails has the largest collection of GPS trail maps, topo maps, and downloadable offline maps for trails in national parks and your own neighborhood<br>\\u2022 Discover the outdoors with new mountain biking, running or hiking trails, with reviews and ratings from a community of hikers, cyclists and trail runners like you<br>\\u2022 Find a hike, mountain bike ride, or trail run that\\u2019s perfect for your fitness and experience level<br>\\u2022 Filter by dog friendly, kid friendly, and wheelchair friendly walking trails<br><br><b>Record Your Outdoor Adventures with the AllTrails GPS Activity Tracker</b><br>\\u2022 Turn your phone into a GPS activity tracker and follow your trail so you don\\u2019t get lost while exploring the outdoors<br>\\u2022 View your hiking, running and cycling stats at a glance<br>\\u2022 Share your latest backpacking, hiking, running and mountain biking activities with friends on Facebook, Instagram, and WhatsApp<br><br><b>Save Your Favorite Trails</b><br>\\u2022 Explore all the hiking and cycling trails on your bucket list and add new ones to check out<br>\\u2022 Easily save your favorite trails to run, hike, camp or bike again and again<br>\\u2022 Follow the hikers, cyclists and runners that inspire you<br><br><b>Get GPS Driving Directions to the Trailhead</b><br>\\u2022 With just one tap, get GPS driving directions so you can get to the trailhead in no time<br><br>Hike across the most beautiful national parks and nature preserves on the planet. Whatever your fitness or experience level, AllTrails will help you explore new trails with confidence.<br><br>---<br><br><b>Get More with AllTrails Pro!</b><br>\\u2022 Download offline maps - track your exact GPS location as you navigate the trail, even when you don\\u2019t have a signal<br>\\u2022 Never miss a turn with off-route notifications<br>\\u2022 Stay safe with Lifeline - assign safety contacts who know your plan and can track your progress<br>\\u2022 Know what to expect with real-time map overlays including air quality, satellite weather, pollen, and light pollution<br>\\u2022 Always have a backup - design and print stunning custom topo maps<br>\\u2022 Experience AllTrails ad-free - remove the distraction of ads and focus on the journey<br>\\u2022 1% for the Planet - feel good knowing that part of your subscription will be going directly to helping the environment<br><br>AllTrails Pro is available as an annual subscription for USD $29.99/year, or you can get three years for the price of two when you buy our 3 Year Plan via a one-time payment of USD $59.99. You can subscribe and pay through your Google Play account. Your annual subscription will automatically renew unless cancelled at least 24 hours before the end of the current period. Auto-renew can be turned off anytime by going to your My Subscriptions page on Google Wallet. Access more AllTrails Pro features on our website: https://www.alltrails.com<br><br>---<br><br>COMPATIBILITY<br>Sign up required to favorite trails, record your activity, or follow users<br><br>SUPPORT<br>We love hearing from our users! Email us here: android-support@alltrails.com<br><br>LEGAL<br>Terms of Use: https://www.alltrails.com/terms\"\u001b[39;49;00m,\n",
      "  \u001b[94m\"developer\"\u001b[39;49;00m: \u001b[33m\"AllTrails, LLC\"\u001b[39;49;00m,\n",
      "  \u001b[94m\"developerAddress\"\u001b[39;49;00m: \u001b[33m\"530 Bush Street, Suite 900\\nSan Francisco, CA 94108\"\u001b[39;49;00m,\n",
      "  \u001b[94m\"developerEmail\"\u001b[39;49;00m: \u001b[33m\"android-support@alltrails.com\"\u001b[39;49;00m,\n",
      "  \u001b[94m\"developerId\"\u001b[39;49;00m: \u001b[33m\"AllTrails,+LLC\"\u001b[39;49;00m,\n",
      "  \u001b[94m\"developerInternalID\"\u001b[39;49;00m: \u001b[33m\"5465151512500722610\"\u001b[39;49;00m,\n",
      "  \u001b[94m\"developerWebsite\"\u001b[39;49;00m: \u001b[33m\"https://www.alltrails.com\"\u001b[39;49;00m,\n",
      "  \u001b[94m\"free\"\u001b[39;49;00m: \u001b[34mtrue\u001b[39;49;00m,\n",
      "  \u001b[94m\"genre\"\u001b[39;49;00m: \u001b[33m\"Health & Fitness\"\u001b[39;49;00m,\n",
      "  \u001b[94m\"genreId\"\u001b[39;49;00m: \u001b[33m\"HEALTH_AND_FITNESS\"\u001b[39;49;00m,\n",
      "  \u001b[94m\"headerImage\"\u001b[39;49;00m: \u001b[33m\"https://lh3.googleusercontent.com/37bvaXFDWqdqDe8q4Rf8sKf6pvfKLkT5_iEuuEYKS-JKUBestqHgT4sgPw9P9Tq0cQ\"\u001b[39;49;00m,\n",
      "  \u001b[94m\"histogram\"\u001b[39;49;00m: [\n",
      "    \u001b[34m2398\u001b[39;49;00m,\n",
      "    \u001b[34m820\u001b[39;49;00m,\n",
      "    \u001b[34m965\u001b[39;49;00m,\n",
      "    \u001b[34m4734\u001b[39;49;00m,\n",
      "    \u001b[34m30358\u001b[39;49;00m\n",
      "  ],\n",
      "  \u001b[94m\"icon\"\u001b[39;49;00m: \u001b[33m\"https://lh3.googleusercontent.com/Y8Fe2rRuRsUXx9JIyQ9xyYX9pwfFT0_tfudqgO8f_yvZJQICmN-rLIMPU6_IZTqNYg\"\u001b[39;49;00m,\n",
      "  \u001b[94m\"installs\"\u001b[39;49;00m: \u001b[33m\"5,000,000+\"\u001b[39;49;00m,\n",
      "  \u001b[94m\"minInstalls\"\u001b[39;49;00m: \u001b[34m5000000\u001b[39;49;00m,\n",
      "  \u001b[94m\"offersIAP\"\u001b[39;49;00m: \u001b[34mtrue\u001b[39;49;00m,\n",
      "  \u001b[94m\"price\"\u001b[39;49;00m: \u001b[34m0\u001b[39;49;00m,\n",
      "  \u001b[94m\"privacyPolicy\"\u001b[39;49;00m: \u001b[33m\"https://www.alltrails.com/privacy\"\u001b[39;49;00m,\n",
      "  \u001b[94m\"ratings\"\u001b[39;49;00m: \u001b[34m39277\u001b[39;49;00m,\n",
      "  \u001b[94m\"recentChanges\"\u001b[39;49;00m: \u001b[33m\"AllTrails is excited to release version 11.1. Search history is here!\\r\\n\\r\\nWe now make it easier to view your recent searches and find the trail you\\u2019re looking for. A list of recent searches is now displayed when searching for trails.\\r\\n\\r\\nAdditional items in this release:\\r\\n- Performance improvements for large maps\\r\\n- Off route notifications are now more reliable\"\u001b[39;49;00m,\n",
      "  \u001b[94m\"recentChangesHTML\"\u001b[39;49;00m: \u001b[33m\"AllTrails is excited to release version 11.1. Search history is here!<br><br>We now make it easier to view your recent searches and find the trail you\\u2019re looking for. A list of recent searches is now displayed when searching for trails.<br><br>Additional items in this release:<br>- Performance improvements for large maps<br>- Off route notifications are now more reliable\"\u001b[39;49;00m,\n",
      "  \u001b[94m\"released\"\u001b[39;49;00m: \u001b[33m\"Sep 13, 2011\"\u001b[39;49;00m,\n",
      "  \u001b[94m\"reviews\"\u001b[39;49;00m: \u001b[34m13199\u001b[39;49;00m,\n",
      "  \u001b[94m\"score\"\u001b[39;49;00m: \u001b[34m4.523394\u001b[39;49;00m,\n",
      "  \u001b[94m\"screenshots\"\u001b[39;49;00m: [\n",
      "    \u001b[33m\"https://lh3.googleusercontent.com/nIdbPRvbAcyTxCxYLGyCHHblYHGDO1_Yv92--xOiCNnbRBFW8hS9LlfG3J4IuKvZOsg\"\u001b[39;49;00m,\n",
      "    \u001b[33m\"https://lh3.googleusercontent.com/-ts3xkHm3pCnVElYQwXyUgHeoXjOVsWaa_F4Fzzv3ldEfqhOJWPKH3lLrms1tFeR0sI\"\u001b[39;49;00m,\n",
      "    \u001b[33m\"https://lh3.googleusercontent.com/LC5jO_VUzOTOnAdKcfqSKUswPfJDiE0l5h_HUIVJQT_P6Hg0mlOpx7Hh4xUKO3W1j6o\"\u001b[39;49;00m,\n",
      "    \u001b[33m\"https://lh3.googleusercontent.com/dxa4PQeFkQI4ZZwNZDYxghmdAAI_ZquuiwkMZC-rtr-awbcQaUurXEyRWd8FTV9w1EY\"\u001b[39;49;00m,\n",
      "    \u001b[33m\"https://lh3.googleusercontent.com/mG-854ufw5c0RDR6KOlvf8IvdWyZ4u82SFXyE1jieecwN1NU_GvrL68FuYe5AUum0g\"\u001b[39;49;00m\n",
      "  ],\n",
      "  \u001b[94m\"size\"\u001b[39;49;00m: \u001b[33m\"17M\"\u001b[39;49;00m,\n",
      "  \u001b[94m\"summary\"\u001b[39;49;00m: \u001b[33m\"Explore the outdoors: hiking trail maps, bike trails, camping & backpacking maps\"\u001b[39;49;00m,\n",
      "  \u001b[94m\"summaryHTML\"\u001b[39;49;00m: \u001b[33m\"Explore the outdoors: hiking trail maps, bike trails, camping &amp; backpacking maps\"\u001b[39;49;00m,\n",
      "  \u001b[94m\"title\"\u001b[39;49;00m: \u001b[33m\"AllTrails: Hiking, Running & Mountain Bike Trails\"\u001b[39;49;00m,\n",
      "  \u001b[94m\"updated\"\u001b[39;49;00m: \u001b[34m1588696434\u001b[39;49;00m,\n",
      "  \u001b[94m\"url\"\u001b[39;49;00m: \u001b[33m\"https://play.google.com/store/apps/details?id=com.alltrails.alltrails&hl=en&gl=us\"\u001b[39;49;00m,\n",
      "  \u001b[94m\"version\"\u001b[39;49;00m: \u001b[33m\"11.1.1\"\u001b[39;49;00m,\n",
      "  \u001b[94m\"video\"\u001b[39;49;00m: \u001b[33m\"https://www.youtube.com/embed/y7bq7x_k_Cw?ps=play&vq=large&rel=0&autohide=1&showinfo=0\"\u001b[39;49;00m,\n",
      "  \u001b[94m\"videoImage\"\u001b[39;49;00m: \u001b[33m\"https://i.ytimg.com/vi/y7bq7x_k_Cw/hqdefault.jpg\"\u001b[39;49;00m\n",
      "}\n",
      "\n"
     ]
    }
   ],
   "source": [
    "# Verificamos o resultado no formato JSON   \n",
    "print_json(detalhes_apps[1])"
   ]
  },
  {
   "cell_type": "code",
   "execution_count": 14,
   "metadata": {},
   "outputs": [],
   "source": [
    "# Cria o dataframe de detalhes das apps\n",
    "df_app_infos = pd.DataFrame(detalhes_apps)"
   ]
  },
  {
   "cell_type": "code",
   "execution_count": 15,
   "metadata": {},
   "outputs": [],
   "source": [
    "# Salva o detalhes das apps em disco\n",
    "df_app_infos.to_csv('dados/detalhes_apps.csv', header = True, index = None)"
   ]
  },
  {
   "cell_type": "code",
   "execution_count": 16,
   "metadata": {},
   "outputs": [],
   "source": [
    "# Lista para armazenar as avaliações\n",
    "avaliacoes_apps = []"
   ]
  },
  {
   "cell_type": "code",
   "execution_count": 17,
   "metadata": {},
   "outputs": [
    {
     "name": "stderr",
     "output_type": "stream",
     "text": [
      "100%|██████████| 10/10 [00:37<00:00,  3.73s/it]\n"
     ]
    }
   ],
   "source": [
    "# Loops para extrair as avaliações e armazenar na lista de avaliações\n",
    "for ap in tqdm(lista_apps):\n",
    "    \n",
    "    # Obtemos as avaliações com notas de 1 a 5\n",
    "    for score in list(range(1, 6)):\n",
    "        \n",
    "        # Obtemos as avaliações mais relevantes e mais novas\n",
    "        for sort_order in [google_play_scraper.Sort.MOST_RELEVANT, google_play_scraper.Sort.NEWEST]:\n",
    "            rvs, _ = google_play_scraper.reviews(ap,\n",
    "                                                 lang = 'en',\n",
    "                                                 country = 'us',\n",
    "                                                 sort = sort_order,\n",
    "                                                 count = 200 if score == 3 else 100,\n",
    "                                                 filter_score_with = score)\n",
    "            for r in rvs:\n",
    "                r['sortOrder'] = 'most_relevant' if sort_order == google_play_scraper.Sort.MOST_RELEVANT else 'newest'\n",
    "                r['appId'] = ap\n",
    "                \n",
    "            # Grava as avaliações\n",
    "            avaliacoes_apps.extend(rvs)"
   ]
  },
  {
   "cell_type": "code",
   "execution_count": 18,
   "metadata": {},
   "outputs": [],
   "source": [
    "# Gera um dataframe com as avaliações\n",
    "df_app_aval = pd.DataFrame(avaliacoes_apps)"
   ]
  },
  {
   "cell_type": "code",
   "execution_count": 19,
   "metadata": {},
   "outputs": [],
   "source": [
    "# Salva o dataframe em formato csv\n",
    "df_app_aval.to_csv(\"dados/avaliacoes_apps.csv\", header = True, index = None)"
   ]
  },
  {
   "cell_type": "markdown",
   "metadata": {
    "colab_type": "text",
    "id": "HCidvPVlKkLg"
   },
   "source": [
    "Vamos carregar o arquivo e checar o conteúdo."
   ]
  },
  {
   "cell_type": "code",
   "execution_count": 20,
   "metadata": {
    "colab": {
     "base_uri": "https://localhost:8080/",
     "height": 408
    },
    "colab_type": "code",
    "id": "tI5dRQsvJtr1",
    "outputId": "47ae1898-11c2-4a1b-a1f0-6f19ac4a3094"
   },
   "outputs": [
    {
     "data": {
      "text/html": [
       "<div>\n",
       "<style scoped>\n",
       "    .dataframe tbody tr th:only-of-type {\n",
       "        vertical-align: middle;\n",
       "    }\n",
       "\n",
       "    .dataframe tbody tr th {\n",
       "        vertical-align: top;\n",
       "    }\n",
       "\n",
       "    .dataframe thead th {\n",
       "        text-align: right;\n",
       "    }\n",
       "</style>\n",
       "<table border=\"1\" class=\"dataframe\">\n",
       "  <thead>\n",
       "    <tr style=\"text-align: right;\">\n",
       "      <th></th>\n",
       "      <th>userName</th>\n",
       "      <th>userImage</th>\n",
       "      <th>content</th>\n",
       "      <th>score</th>\n",
       "      <th>thumbsUpCount</th>\n",
       "      <th>reviewCreatedVersion</th>\n",
       "      <th>at</th>\n",
       "      <th>replyContent</th>\n",
       "      <th>repliedAt</th>\n",
       "      <th>sortOrder</th>\n",
       "      <th>appId</th>\n",
       "    </tr>\n",
       "  </thead>\n",
       "  <tbody>\n",
       "    <tr>\n",
       "      <th>0</th>\n",
       "      <td>Jenny Shaw</td>\n",
       "      <td>https://lh3.googleusercontent.com/-g7whd5JMNxQ...</td>\n",
       "      <td>Installed, then paid for Premium. Account then...</td>\n",
       "      <td>1</td>\n",
       "      <td>8</td>\n",
       "      <td>7.7.2</td>\n",
       "      <td>2020-04-16 04:39:53</td>\n",
       "      <td>Oh no! We sincerely apologize for the troubles...</td>\n",
       "      <td>2020-04-16 10:13:49</td>\n",
       "      <td>most_relevant</td>\n",
       "      <td>com.sillens.shapeupclub</td>\n",
       "    </tr>\n",
       "    <tr>\n",
       "      <th>1</th>\n",
       "      <td>Ido Kalir</td>\n",
       "      <td>https://lh3.googleusercontent.com/a-/AOh14Gj7f...</td>\n",
       "      <td>* see update below * This morning they had a s...</td>\n",
       "      <td>1</td>\n",
       "      <td>4</td>\n",
       "      <td>7.7.2</td>\n",
       "      <td>2020-04-23 13:11:21</td>\n",
       "      <td>We deeply apologize for the issue. \\n\\nThe res...</td>\n",
       "      <td>2020-04-23 08:19:32</td>\n",
       "      <td>most_relevant</td>\n",
       "      <td>com.sillens.shapeupclub</td>\n",
       "    </tr>\n",
       "    <tr>\n",
       "      <th>2</th>\n",
       "      <td>Lewy B</td>\n",
       "      <td>https://lh3.googleusercontent.com/-4qxkuY-xEuk...</td>\n",
       "      <td>This app is pretty much useless without paying...</td>\n",
       "      <td>1</td>\n",
       "      <td>113</td>\n",
       "      <td>7.7.1</td>\n",
       "      <td>2020-04-14 00:25:07</td>\n",
       "      <td>NaN</td>\n",
       "      <td>NaN</td>\n",
       "      <td>most_relevant</td>\n",
       "      <td>com.sillens.shapeupclub</td>\n",
       "    </tr>\n",
       "    <tr>\n",
       "      <th>3</th>\n",
       "      <td>Shan</td>\n",
       "      <td>https://lh3.googleusercontent.com/a-/AOh14Gj1i...</td>\n",
       "      <td>I used this for ONLY 2 DAYS and it was going g...</td>\n",
       "      <td>1</td>\n",
       "      <td>4</td>\n",
       "      <td>7.7.2</td>\n",
       "      <td>2020-04-22 17:38:06</td>\n",
       "      <td>We deeply apologize for the issue. \\n\\nThe res...</td>\n",
       "      <td>2020-04-23 08:04:15</td>\n",
       "      <td>most_relevant</td>\n",
       "      <td>com.sillens.shapeupclub</td>\n",
       "    </tr>\n",
       "    <tr>\n",
       "      <th>4</th>\n",
       "      <td>Caity Pitcher</td>\n",
       "      <td>https://lh3.googleusercontent.com/-RWP37oiE1Yg...</td>\n",
       "      <td>I have used this app in the past and loved it,...</td>\n",
       "      <td>1</td>\n",
       "      <td>4</td>\n",
       "      <td>7.7.2</td>\n",
       "      <td>2020-04-21 12:42:13</td>\n",
       "      <td>We deeply apologize for the issue. \\n\\nThe res...</td>\n",
       "      <td>2020-04-23 07:51:11</td>\n",
       "      <td>most_relevant</td>\n",
       "      <td>com.sillens.shapeupclub</td>\n",
       "    </tr>\n",
       "  </tbody>\n",
       "</table>\n",
       "</div>"
      ],
      "text/plain": [
       "        userName                                          userImage  \\\n",
       "0     Jenny Shaw  https://lh3.googleusercontent.com/-g7whd5JMNxQ...   \n",
       "1      Ido Kalir  https://lh3.googleusercontent.com/a-/AOh14Gj7f...   \n",
       "2         Lewy B  https://lh3.googleusercontent.com/-4qxkuY-xEuk...   \n",
       "3           Shan  https://lh3.googleusercontent.com/a-/AOh14Gj1i...   \n",
       "4  Caity Pitcher  https://lh3.googleusercontent.com/-RWP37oiE1Yg...   \n",
       "\n",
       "                                             content  score  thumbsUpCount  \\\n",
       "0  Installed, then paid for Premium. Account then...      1              8   \n",
       "1  * see update below * This morning they had a s...      1              4   \n",
       "2  This app is pretty much useless without paying...      1            113   \n",
       "3  I used this for ONLY 2 DAYS and it was going g...      1              4   \n",
       "4  I have used this app in the past and loved it,...      1              4   \n",
       "\n",
       "  reviewCreatedVersion                   at  \\\n",
       "0                7.7.2  2020-04-16 04:39:53   \n",
       "1                7.7.2  2020-04-23 13:11:21   \n",
       "2                7.7.1  2020-04-14 00:25:07   \n",
       "3                7.7.2  2020-04-22 17:38:06   \n",
       "4                7.7.2  2020-04-21 12:42:13   \n",
       "\n",
       "                                        replyContent            repliedAt  \\\n",
       "0  Oh no! We sincerely apologize for the troubles...  2020-04-16 10:13:49   \n",
       "1  We deeply apologize for the issue. \\n\\nThe res...  2020-04-23 08:19:32   \n",
       "2                                                NaN                  NaN   \n",
       "3  We deeply apologize for the issue. \\n\\nThe res...  2020-04-23 08:04:15   \n",
       "4  We deeply apologize for the issue. \\n\\nThe res...  2020-04-23 07:51:11   \n",
       "\n",
       "       sortOrder                    appId  \n",
       "0  most_relevant  com.sillens.shapeupclub  \n",
       "1  most_relevant  com.sillens.shapeupclub  \n",
       "2  most_relevant  com.sillens.shapeupclub  \n",
       "3  most_relevant  com.sillens.shapeupclub  \n",
       "4  most_relevant  com.sillens.shapeupclub  "
      ]
     },
     "execution_count": 20,
     "metadata": {},
     "output_type": "execute_result"
    }
   ],
   "source": [
    "# Carrega o arquivo com as avaliações\n",
    "df_avaliacoes = pd.read_csv('dados/avaliacoes_apps.csv')\n",
    "df_avaliacoes.head()"
   ]
  },
  {
   "cell_type": "code",
   "execution_count": 21,
   "metadata": {
    "colab": {
     "base_uri": "https://localhost:8080/",
     "height": 323
    },
    "colab_type": "code",
    "id": "Rl7w2mtkKG2s",
    "outputId": "66220245-25f0-4c3c-bee0-c67d39322339"
   },
   "outputs": [
    {
     "name": "stdout",
     "output_type": "stream",
     "text": [
      "<class 'pandas.core.frame.DataFrame'>\n",
      "RangeIndex: 11976 entries, 0 to 11975\n",
      "Data columns (total 11 columns):\n",
      " #   Column                Non-Null Count  Dtype \n",
      "---  ------                --------------  ----- \n",
      " 0   userName              11976 non-null  object\n",
      " 1   userImage             11976 non-null  object\n",
      " 2   content               11976 non-null  object\n",
      " 3   score                 11976 non-null  int64 \n",
      " 4   thumbsUpCount         11976 non-null  int64 \n",
      " 5   reviewCreatedVersion  10974 non-null  object\n",
      " 6   at                    11976 non-null  object\n",
      " 7   replyContent          3342 non-null   object\n",
      " 8   repliedAt             3342 non-null   object\n",
      " 9   sortOrder             11976 non-null  object\n",
      " 10  appId                 11976 non-null  object\n",
      "dtypes: int64(2), object(9)\n",
      "memory usage: 1.0+ MB\n"
     ]
    }
   ],
   "source": [
    "# Info do dataframe\n",
    "df_avaliacoes.info()"
   ]
  },
  {
   "cell_type": "code",
   "execution_count": 22,
   "metadata": {
    "colab": {
     "base_uri": "https://localhost:8080/",
     "height": 523
    },
    "colab_type": "code",
    "id": "eygu-iOdKa86",
    "outputId": "d29d444e-9881-4859-b611-8f30c4aa5cdb"
   },
   "outputs": [
    {
     "data": {
      "text/plain": [
       "Text(0, 0.5, 'Total')"
      ]
     },
     "execution_count": 22,
     "metadata": {},
     "output_type": "execute_result"
    },
    {
     "data": {
      "image/png": "[encoded data removed]",
      "text/plain": [
       "<Figure size 1080x648 with 1 Axes>"
      ]
     },
     "metadata": {},
     "output_type": "display_data"
    }
   ],
   "source": [
    "# Plot das avaliações\n",
    "sns.set(style = 'whitegrid', palette = 'muted', font_scale=1.2)\n",
    "rcParams['figure.figsize'] = 15, 9\n",
    "sns.countplot(df_avaliacoes.score)\n",
    "plt.xlabel('Avaliações')\n",
    "plt.ylabel('Total')"
   ]
  },
  {
   "cell_type": "markdown",
   "metadata": {},
   "source": [
    "Terminamos a Parte 1. Guarde os dados em disco e vamos para a Parte 2."
   ]
  },
  {
   "cell_type": "markdown",
   "metadata": {},
   "source": [
    "## Parte 2 - Analisador de Sentimentos"
   ]
  },
  {
   "cell_type": "markdown",
   "metadata": {
    "colab_type": "text",
    "id": "UpsqhHuVMvKe"
   },
   "source": [
    "Vamos pré-processar os dados para o treinamento do modelo."
   ]
  },
  {
   "cell_type": "code",
   "execution_count": 23,
   "metadata": {
    "colab": {},
    "colab_type": "code",
    "id": "HzhBVL1rK7J7"
   },
   "outputs": [],
   "source": [
    "# Função de agrupamento\n",
    "# Temos avaliações de 1 a 5 no dataset, conforme gráfico acima, mas vamos reduzir para 3 avaliações: 0, 1 e 2\n",
    "# Assim representamos 3 sentimentos: negativo, neutro e positivo\n",
    "def agrupaRating(rating):\n",
    "    grp_rating = -1\n",
    "    rating = int(rating)\n",
    "    \n",
    "    # Se rating maior que 3 então positivo (2)\n",
    "    if rating > 3:\n",
    "        grp_rating = 2\n",
    "        \n",
    "    # Se igual a 3 então neutro (1)\n",
    "    elif rating == 3:\n",
    "        grp_rating = 1\n",
    "        \n",
    "    # Se menor que 3 então negativo (0)\n",
    "    else:\n",
    "        grp_rating = 0\n",
    "    return grp_rating"
   ]
  },
  {
   "cell_type": "code",
   "execution_count": 24,
   "metadata": {
    "colab": {},
    "colab_type": "code",
    "id": "lviAJybXMJmF"
   },
   "outputs": [],
   "source": [
    "# Aplicamos a função ao dataset e criamos a coluna 'sentimento' para receber o resultado\n",
    "df_avaliacoes['sentimento'] = df_avaliacoes.score.apply(agrupaRating)"
   ]
  },
  {
   "cell_type": "code",
   "execution_count": 25,
   "metadata": {},
   "outputs": [
    {
     "data": {
      "text/html": [
       "<div>\n",
       "<style scoped>\n",
       "    .dataframe tbody tr th:only-of-type {\n",
       "        vertical-align: middle;\n",
       "    }\n",
       "\n",
       "    .dataframe tbody tr th {\n",
       "        vertical-align: top;\n",
       "    }\n",
       "\n",
       "    .dataframe thead th {\n",
       "        text-align: right;\n",
       "    }\n",
       "</style>\n",
       "<table border=\"1\" class=\"dataframe\">\n",
       "  <thead>\n",
       "    <tr style=\"text-align: right;\">\n",
       "      <th></th>\n",
       "      <th>userName</th>\n",
       "      <th>userImage</th>\n",
       "      <th>content</th>\n",
       "      <th>score</th>\n",
       "      <th>thumbsUpCount</th>\n",
       "      <th>reviewCreatedVersion</th>\n",
       "      <th>at</th>\n",
       "      <th>replyContent</th>\n",
       "      <th>repliedAt</th>\n",
       "      <th>sortOrder</th>\n",
       "      <th>appId</th>\n",
       "      <th>sentimento</th>\n",
       "    </tr>\n",
       "  </thead>\n",
       "  <tbody>\n",
       "    <tr>\n",
       "      <th>0</th>\n",
       "      <td>Jenny Shaw</td>\n",
       "      <td>https://lh3.googleusercontent.com/-g7whd5JMNxQ...</td>\n",
       "      <td>Installed, then paid for Premium. Account then...</td>\n",
       "      <td>1</td>\n",
       "      <td>8</td>\n",
       "      <td>7.7.2</td>\n",
       "      <td>2020-04-16 04:39:53</td>\n",
       "      <td>Oh no! We sincerely apologize for the troubles...</td>\n",
       "      <td>2020-04-16 10:13:49</td>\n",
       "      <td>most_relevant</td>\n",
       "      <td>com.sillens.shapeupclub</td>\n",
       "      <td>0</td>\n",
       "    </tr>\n",
       "    <tr>\n",
       "      <th>1</th>\n",
       "      <td>Ido Kalir</td>\n",
       "      <td>https://lh3.googleusercontent.com/a-/AOh14Gj7f...</td>\n",
       "      <td>* see update below * This morning they had a s...</td>\n",
       "      <td>1</td>\n",
       "      <td>4</td>\n",
       "      <td>7.7.2</td>\n",
       "      <td>2020-04-23 13:11:21</td>\n",
       "      <td>We deeply apologize for the issue. \\n\\nThe res...</td>\n",
       "      <td>2020-04-23 08:19:32</td>\n",
       "      <td>most_relevant</td>\n",
       "      <td>com.sillens.shapeupclub</td>\n",
       "      <td>0</td>\n",
       "    </tr>\n",
       "    <tr>\n",
       "      <th>2</th>\n",
       "      <td>Lewy B</td>\n",
       "      <td>https://lh3.googleusercontent.com/-4qxkuY-xEuk...</td>\n",
       "      <td>This app is pretty much useless without paying...</td>\n",
       "      <td>1</td>\n",
       "      <td>113</td>\n",
       "      <td>7.7.1</td>\n",
       "      <td>2020-04-14 00:25:07</td>\n",
       "      <td>NaN</td>\n",
       "      <td>NaN</td>\n",
       "      <td>most_relevant</td>\n",
       "      <td>com.sillens.shapeupclub</td>\n",
       "      <td>0</td>\n",
       "    </tr>\n",
       "    <tr>\n",
       "      <th>3</th>\n",
       "      <td>Shan</td>\n",
       "      <td>https://lh3.googleusercontent.com/a-/AOh14Gj1i...</td>\n",
       "      <td>I used this for ONLY 2 DAYS and it was going g...</td>\n",
       "      <td>1</td>\n",
       "      <td>4</td>\n",
       "      <td>7.7.2</td>\n",
       "      <td>2020-04-22 17:38:06</td>\n",
       "      <td>We deeply apologize for the issue. \\n\\nThe res...</td>\n",
       "      <td>2020-04-23 08:04:15</td>\n",
       "      <td>most_relevant</td>\n",
       "      <td>com.sillens.shapeupclub</td>\n",
       "      <td>0</td>\n",
       "    </tr>\n",
       "    <tr>\n",
       "      <th>4</th>\n",
       "      <td>Caity Pitcher</td>\n",
       "      <td>https://lh3.googleusercontent.com/-RWP37oiE1Yg...</td>\n",
       "      <td>I have used this app in the past and loved it,...</td>\n",
       "      <td>1</td>\n",
       "      <td>4</td>\n",
       "      <td>7.7.2</td>\n",
       "      <td>2020-04-21 12:42:13</td>\n",
       "      <td>We deeply apologize for the issue. \\n\\nThe res...</td>\n",
       "      <td>2020-04-23 07:51:11</td>\n",
       "      <td>most_relevant</td>\n",
       "      <td>com.sillens.shapeupclub</td>\n",
       "      <td>0</td>\n",
       "    </tr>\n",
       "  </tbody>\n",
       "</table>\n",
       "</div>"
      ],
      "text/plain": [
       "        userName                                          userImage  \\\n",
       "0     Jenny Shaw  https://lh3.googleusercontent.com/-g7whd5JMNxQ...   \n",
       "1      Ido Kalir  https://lh3.googleusercontent.com/a-/AOh14Gj7f...   \n",
       "2         Lewy B  https://lh3.googleusercontent.com/-4qxkuY-xEuk...   \n",
       "3           Shan  https://lh3.googleusercontent.com/a-/AOh14Gj1i...   \n",
       "4  Caity Pitcher  https://lh3.googleusercontent.com/-RWP37oiE1Yg...   \n",
       "\n",
       "                                             content  score  thumbsUpCount  \\\n",
       "0  Installed, then paid for Premium. Account then...      1              8   \n",
       "1  * see update below * This morning they had a s...      1              4   \n",
       "2  This app is pretty much useless without paying...      1            113   \n",
       "3  I used this for ONLY 2 DAYS and it was going g...      1              4   \n",
       "4  I have used this app in the past and loved it,...      1              4   \n",
       "\n",
       "  reviewCreatedVersion                   at  \\\n",
       "0                7.7.2  2020-04-16 04:39:53   \n",
       "1                7.7.2  2020-04-23 13:11:21   \n",
       "2                7.7.1  2020-04-14 00:25:07   \n",
       "3                7.7.2  2020-04-22 17:38:06   \n",
       "4                7.7.2  2020-04-21 12:42:13   \n",
       "\n",
       "                                        replyContent            repliedAt  \\\n",
       "0  Oh no! We sincerely apologize for the troubles...  2020-04-16 10:13:49   \n",
       "1  We deeply apologize for the issue. \\n\\nThe res...  2020-04-23 08:19:32   \n",
       "2                                                NaN                  NaN   \n",
       "3  We deeply apologize for the issue. \\n\\nThe res...  2020-04-23 08:04:15   \n",
       "4  We deeply apologize for the issue. \\n\\nThe res...  2020-04-23 07:51:11   \n",
       "\n",
       "       sortOrder                    appId  sentimento  \n",
       "0  most_relevant  com.sillens.shapeupclub           0  \n",
       "1  most_relevant  com.sillens.shapeupclub           0  \n",
       "2  most_relevant  com.sillens.shapeupclub           0  \n",
       "3  most_relevant  com.sillens.shapeupclub           0  \n",
       "4  most_relevant  com.sillens.shapeupclub           0  "
      ]
     },
     "execution_count": 25,
     "metadata": {},
     "output_type": "execute_result"
    }
   ],
   "source": [
    "# Visualiza os dados\n",
    "df_avaliacoes.head()"
   ]
  },
  {
   "cell_type": "code",
   "execution_count": 26,
   "metadata": {},
   "outputs": [],
   "source": [
    "# Lista com nomes das classes\n",
    "class_names = ['negativo', 'neutro', 'positivo']"
   ]
  },
  {
   "cell_type": "markdown",
   "metadata": {
    "colab_type": "text",
    "id": "UCqLlhKmPDoq"
   },
   "source": [
    "Agora fazemos o download do modelo BERT pré-treinado. Aqui você encontra a lista de modelos disponíveis:\n",
    "\n",
    "https://github.com/google-research/bert"
   ]
  },
  {
   "cell_type": "code",
   "execution_count": 27,
   "metadata": {
    "colab": {
     "base_uri": "https://localhost:8080/",
     "height": 66,
     "referenced_widgets": [
      "c76da9eeda944d1ea2947aee3b2c66be",
      "d0c366c508cd478e9a3195bbeb1c0025",
      "b63d7e2edc6e4a63832974ef5e445874",
      "2c50fecfa43b4ba597e03a93aa0765e9",
      "65c4ca8e9e3a4b859ea2608a2f2060df",
      "1cffc92b4baf44bca5fadc2466c852cb",
      "0d5ebb95e7d4468c9cc3670562bdd0b7",
      "e2ecc769605447899bf47b88d212535c"
     ]
    },
    "colab_type": "code",
    "id": "21vtgRjxMXlC",
    "outputId": "847bbc49-74bb-46f4-fa9e-6cc7263ea304"
   },
   "outputs": [],
   "source": [
    "# Download do modelo\n",
    "tokenizer = transformers.BertTokenizer.from_pretrained('bert-base-cased')"
   ]
  },
  {
   "cell_type": "code",
   "execution_count": 28,
   "metadata": {},
   "outputs": [],
   "source": [
    "# Texto de exemplo para testar o tokenizador BERT\n",
    "texto_exemplo = \"Just a test sentence. Test 2.\""
   ]
  },
  {
   "cell_type": "code",
   "execution_count": 29,
   "metadata": {},
   "outputs": [],
   "source": [
    "# Criamos os tokens\n",
    "tokens = tokenizer.tokenize(texto_exemplo)"
   ]
  },
  {
   "cell_type": "code",
   "execution_count": 30,
   "metadata": {},
   "outputs": [],
   "source": [
    "# Extraímos os tokens_ids\n",
    "token_ids = tokenizer.convert_tokens_to_ids(tokens)"
   ]
  },
  {
   "cell_type": "code",
   "execution_count": 31,
   "metadata": {},
   "outputs": [
    {
     "name": "stdout",
     "output_type": "stream",
     "text": [
      "Texto de Exemplo:Just a test sentence. Test 2.\n",
      "Tokens     :['Just', 'a', 'test', 'sentence', '.', 'Test', '2', '.']\n",
      "Token IDs  :[2066, 170, 2774, 5650, 119, 5960, 123, 119]\n"
     ]
    }
   ],
   "source": [
    "# Print\n",
    "print(f'Texto de Exemplo:{texto_exemplo}')\n",
    "print(f'Tokens     :{tokens}')\n",
    "print(f'Token IDs  :{token_ids}')"
   ]
  },
  {
   "cell_type": "code",
   "execution_count": 32,
   "metadata": {},
   "outputs": [],
   "source": [
    "# Criamos o objeto encoding que formata os dados para o modelo BERT\n",
    "encoding = tokenizer.encode_plus(texto_exemplo,\n",
    "                                 max_length = 32,\n",
    "                                 add_special_tokens = True,\n",
    "                                 pad_to_max_length = True,\n",
    "                                 return_attention_mask = True,\n",
    "                                 return_token_type_ids = False,\n",
    "                                 return_tensors = 'pt')"
   ]
  },
  {
   "cell_type": "code",
   "execution_count": 33,
   "metadata": {},
   "outputs": [
    {
     "data": {
      "text/plain": [
       "{'input_ids': tensor([[ 101, 2066,  170, 2774, 5650,  119, 5960,  123,  119,  102,    0,    0,\n",
       "             0,    0,    0,    0,    0,    0,    0,    0,    0,    0,    0,    0,\n",
       "             0,    0,    0,    0,    0,    0,    0,    0]]),\n",
       " 'attention_mask': tensor([[1, 1, 1, 1, 1, 1, 1, 1, 1, 1, 0, 0, 0, 0, 0, 0, 0, 0, 0, 0, 0, 0, 0, 0,\n",
       "          0, 0, 0, 0, 0, 0, 0, 0]])}"
      ]
     },
     "execution_count": 33,
     "metadata": {},
     "output_type": "execute_result"
    }
   ],
   "source": [
    "# Print\n",
    "encoding"
   ]
  },
  {
   "cell_type": "markdown",
   "metadata": {
    "colab_type": "text",
    "id": "wxkfhwGnVE4Z"
   },
   "source": [
    "Aplicamos o tokenizador com BERT em nosso dataset."
   ]
  },
  {
   "cell_type": "code",
   "execution_count": 34,
   "metadata": {
    "colab": {},
    "colab_type": "code",
    "id": "cCt6xvyEUfq_"
   },
   "outputs": [],
   "source": [
    "# Lista para os tokens\n",
    "token_length = []"
   ]
  },
  {
   "cell_type": "code",
   "execution_count": 35,
   "metadata": {},
   "outputs": [],
   "source": [
    "# Loop pelo conteúdo do dataset aplicando o tokenizador\n",
    "for content in df_avaliacoes.content:\n",
    "    tokens = tokenizer.encode(content)\n",
    "    token_length.append(len(tokens))"
   ]
  },
  {
   "cell_type": "code",
   "execution_count": 36,
   "metadata": {
    "colab": {
     "base_uri": "https://localhost:8080/",
     "height": 527
    },
    "colab_type": "code",
    "id": "9VCO_HloV1P5",
    "outputId": "c1d4fcbf-c485-4652-acc6-40d667371615"
   },
   "outputs": [
    {
     "data": {
      "text/plain": [
       "Text(0.5, 0, 'Comprimento dos Tokens')"
      ]
     },
     "execution_count": 36,
     "metadata": {},
     "output_type": "execute_result"
    },
    {
     "data": {
      "image/png": "[encoded data removed]",
      "text/plain": [
       "<Figure size 1080x648 with 1 Axes>"
      ]
     },
     "metadata": {},
     "output_type": "display_data"
    }
   ],
   "source": [
    "# Plot\n",
    "ax = sns.distplot(token_length)\n",
    "plt.xlim([0, 200]);\n",
    "plt.xlabel('Comprimento dos Tokens')"
   ]
  },
  {
   "cell_type": "markdown",
   "metadata": {
    "colab_type": "text",
    "id": "yebvv3TwWoB_"
   },
   "source": [
    "Estamos quase prontos para o treinamento. Agora preparamos o dataset final para treinar nosso modelo BERT."
   ]
  },
  {
   "cell_type": "code",
   "execution_count": 37,
   "metadata": {
    "colab": {},
    "colab_type": "code",
    "id": "RGzUk9RPV8P7"
   },
   "outputs": [],
   "source": [
    "# Classe para criar o dataset\n",
    "class DadosAval(data.Dataset):\n",
    "    \n",
    "    # Método construtor\n",
    "    def __init__(self, review, targets, tokenizer, max_len):\n",
    "        \n",
    "        # Inicializamos os atributos da classe\n",
    "        self.review = review\n",
    "        self.targets = targets\n",
    "        self.tokenizer = tokenizer\n",
    "        self.max_len = max_len\n",
    "\n",
    "    # Método para  comprimento das avaliações\n",
    "    def __len__(self):\n",
    "        return len(self.review)\n",
    "\n",
    "    # Método para obter cada avaliação\n",
    "    def __getitem__(self, item):\n",
    "        \n",
    "        # Carrega uma avaliação\n",
    "        review = str(self.review[item])\n",
    "        \n",
    "        # Cria o embedding da avaliação\n",
    "        encoding = tokenizer.encode_plus(review,\n",
    "                                         max_length = self.max_len,\n",
    "                                         add_special_tokens = True,\n",
    "                                         pad_to_max_length = True,\n",
    "                                         return_attention_mask = True,\n",
    "                                         return_token_type_ids = False,\n",
    "                                         return_tensors = 'pt')\n",
    "    \n",
    "        # Entre os retornos do método temos o attention mask\n",
    "        return {'review_text': review,\n",
    "                'input_ids': encoding['input_ids'].flatten(),\n",
    "                'attention_mask': encoding['attention_mask'].flatten(),\n",
    "                'targets': torch.tensor(self.targets[item], dtype = torch.long)}"
   ]
  },
  {
   "cell_type": "markdown",
   "metadata": {
    "colab_type": "text",
    "id": "2_yDFXC6JxNl"
   },
   "source": [
    "Podemos então definir os hiperparâmetros para treinar o modelo."
   ]
  },
  {
   "cell_type": "code",
   "execution_count": 38,
   "metadata": {
    "colab": {},
    "colab_type": "code",
    "id": "cXe5dSMAiJLD"
   },
   "outputs": [],
   "source": [
    "# Definição dos hiperparâmetros\n",
    "EPOCHS = 40\n",
    "BATCH_SIZE = 16\n",
    "MAX_LENGTH = 150\n",
    "LEARNING_RATE = 2e-5"
   ]
  },
  {
   "cell_type": "markdown",
   "metadata": {
    "colab_type": "text",
    "id": "BfWPWJlcJtC9"
   },
   "source": [
    "Assim como qualquer modelo de aprendizado de máquina, fazemos a divisão em dados de treino e de teste (e também de validação)."
   ]
  },
  {
   "cell_type": "code",
   "execution_count": 39,
   "metadata": {
    "colab": {},
    "colab_type": "code",
    "id": "D5MXvJqWibrr"
   },
   "outputs": [],
   "source": [
    "# Gera dados de treino e de teste\n",
    "df_treino, df_teste = train_test_split(df_avaliacoes, test_size = 0.1, random_state = RANDOM_SEED)"
   ]
  },
  {
   "cell_type": "code",
   "execution_count": 40,
   "metadata": {},
   "outputs": [],
   "source": [
    "# Dividimos os dados de teste em teste e validação\n",
    "df_val, df_teste = train_test_split(df_teste, test_size = 0.5, random_state = RANDOM_SEED)"
   ]
  },
  {
   "cell_type": "code",
   "execution_count": 41,
   "metadata": {
    "colab": {},
    "colab_type": "code",
    "id": "IGnwp09kjPDK"
   },
   "outputs": [],
   "source": [
    "# Esta função cria o data loader que usaremos para converter os dados de treino, teste e validação no formato BERT\n",
    "def create_data_loader(df, tokenizer, max_len, batch_size):\n",
    "    ds = DadosAval(review = df.content.to_numpy(),\n",
    "                   targets = df.sentimento.to_numpy(),\n",
    "                   tokenizer = tokenizer,\n",
    "                   max_len = max_len)\n",
    "\n",
    "    return data.DataLoader(ds, batch_size = batch_size, num_workers = 4)"
   ]
  },
  {
   "cell_type": "code",
   "execution_count": 42,
   "metadata": {
    "colab": {},
    "colab_type": "code",
    "id": "2LWfz7q9jk2u"
   },
   "outputs": [],
   "source": [
    "# Carrega os loaders\n",
    "treino_data_loader = create_data_loader(df_treino, tokenizer, MAX_LENGTH, BATCH_SIZE)\n",
    "teste_data_loader = create_data_loader(df_teste, tokenizer, MAX_LENGTH, BATCH_SIZE)\n",
    "val_data_loader = create_data_loader(df_val, tokenizer, MAX_LENGTH, BATCH_SIZE)"
   ]
  },
  {
   "cell_type": "code",
   "execution_count": 43,
   "metadata": {
    "colab": {
     "base_uri": "https://localhost:8080/",
     "height": 68
    },
    "colab_type": "code",
    "id": "ZmMWfYhlkh-f",
    "outputId": "0d1d01ce-5244-42b8-d6c1-a65644b4ba84"
   },
   "outputs": [
    {
     "name": "stdout",
     "output_type": "stream",
     "text": [
      "torch.Size([16, 150])\n",
      "torch.Size([16, 150])\n",
      "torch.Size([16])\n"
     ]
    }
   ],
   "source": [
    "# Vamos visualizar um item dos dados de treino\n",
    "amostra = next(iter(treino_data_loader))\n",
    "print(amostra['input_ids'].shape)\n",
    "print(amostra['attention_mask'].shape)\n",
    "print(amostra['targets'].shape)"
   ]
  },
  {
   "cell_type": "code",
   "execution_count": 44,
   "metadata": {},
   "outputs": [
    {
     "name": "stdout",
     "output_type": "stream",
     "text": [
      "{'review_text': [\"I cannot figure out how to upgrade to pro. It doesn't work. If I miss out on the half price 1 year deal. I'm out.\", 'It takes a bajillion points to get anything.', \"loved my charge 3 until I got a new phone and it will not sync/pair. I have spent hours looking for a solution but seems to be a common issue that hasn't been I now have a versa 2 and apps that I try to load through the fitbit app have been trying to load for several days and i can delete/stop them.\", 'Excellent, better interface than myfitnesspal and less buggy. Still has pretty much all food you could wish for', 'Me app keeps crashing... always tells me it lost signal etc... use to be very hood now this is happening any help??', 'Great app. Very addictive to do better with my self. How ever if the calorie count was correct it be 10 stone. Needs fixing', \"My app worked perfectly fine up until the update an hour ago. When I open it nothing loads for my daily readings, it's all blank.\", 'Cool app but in my opinion but the annual price is too expensive', 'I love it! It helps me keep in track, would totally recommend for those who tend to overeat', 'The distance and miles are always wrong and my rides are flagged and thinking you would fix it, but strava has not.', 'Gives a clear understanding and explanation on how to control your weight with a very wide variety of foods and amazing recipes...only negative thing is that you have to pay to access recipes and complex controls that are important as well as some diets, programs and exercises.', \"Dear peloton, You don't have enough analytics on your Android app as on the bike tablet. I cannot even see calories burned for a workout on Android. That should be simple. Also calendar view would be great.\", 'Bugging out for a month now, even after I updated it. Items get entered twice, then when I try to delete, the whole thing gets deleted. Had premium when it was $50, now they want to charge $80?! Finding something else.', 'Don\\'t do it! Installing this app gets you a \"free\" trial that lasts a few days and then automatically charges you $69.99. I didn\\'t enter my credit card info, the app already had ALL my info.', 'The best meditation app', 'Android App Struggles - Class Quality Incredible Buffering issues make workouts subpar. No extra features beyond just hitting play. Wish there was a main tab for YOUR schedule to see the classes you sign up for from the various categories (to avoid conflicting times). No way to sync with Strava or other tracking apps. Will keep struggling but hope things are remedied unless something better comes along. Definitely wouldnt invest in the bike since the tablet is android based too.'], 'input_ids': tensor([[  101,   146,  2834,  ...,     0,     0,     0],\n",
      "        [  101,  1135,  2274,  ...,     0,     0,     0],\n",
      "        [  101,  3097,  1139,  ...,     0,     0,     0],\n",
      "        ...,\n",
      "        [  101,  1790,   112,  ...,     0,     0,     0],\n",
      "        [  101,  1109,  1436,  ...,     0,     0,     0],\n",
      "        [  101, 13693,   138,  ...,     0,     0,     0]]), 'attention_mask': tensor([[1, 1, 1,  ..., 0, 0, 0],\n",
      "        [1, 1, 1,  ..., 0, 0, 0],\n",
      "        [1, 1, 1,  ..., 0, 0, 0],\n",
      "        ...,\n",
      "        [1, 1, 1,  ..., 0, 0, 0],\n",
      "        [1, 1, 1,  ..., 0, 0, 0],\n",
      "        [1, 1, 1,  ..., 0, 0, 0]]), 'targets': tensor([0, 1, 0, 2, 1, 2, 1, 1, 2, 0, 2, 1, 0, 0, 2, 0])}\n"
     ]
    }
   ],
   "source": [
    "# Aqui o exemplo do que temos em uma única avaliação já no fomato BERT\n",
    "print(amostra)"
   ]
  },
  {
   "cell_type": "markdown",
   "metadata": {
    "colab_type": "text",
    "id": "3lBSg5ORel6_"
   },
   "source": [
    "Carregamos agora o modelo BERT pré-treinado."
   ]
  },
  {
   "cell_type": "code",
   "execution_count": 45,
   "metadata": {
    "colab": {
     "base_uri": "https://localhost:8080/",
     "height": 115,
     "referenced_widgets": [
      "bb15398cf40c40c09bb0625665d514ac",
      "9b10efc6ba5a45e5b7b75869deb14a5a",
      "2d8778fbf0af4fc9a83262d624a8fa88",
      "2abf887f51ff4f04ae04f513d576af9d",
      "1b57f9b73a6e4a8b8e47bbea1131a788",
      "6b32880c31254a60a9da83bcd40b593f",
      "eef99d8169fe448ebd59afbf112fe9c0",
      "8a6a7d164eae491bbc1286c2a59f0185",
      "2a6daad2f9c34bdeb81ef6d94c516041",
      "fc51182f96b145cdab6f09727816072f",
      "2dfe898a66a64559b80881a081f24bd7",
      "535adfbebfab41f580b4d6bef7098936",
      "27eb3f971b3e4f6790fe6569b2e8e5ab",
      "d23069250cdf4cf7a661fb9f9f3643c5",
      "2802055011d7492ca018ae7d8cba5d83",
      "7fbb804f0cac486eb3ba6e3054a3e07e"
     ]
    },
    "colab_type": "code",
    "id": "QYxfU002krX9",
    "outputId": "bb938e9e-1a8b-48e1-f4d4-450299050f52"
   },
   "outputs": [],
   "source": [
    "# Carrega o modelo\n",
    "modelo_bert = BertModel.from_pretrained(\"bert-base-cased\")"
   ]
  },
  {
   "cell_type": "code",
   "execution_count": 46,
   "metadata": {},
   "outputs": [
    {
     "data": {
      "text/plain": [
       "BertModel(\n",
       "  (embeddings): BertEmbeddings(\n",
       "    (word_embeddings): Embedding(28996, 768, padding_idx=0)\n",
       "    (position_embeddings): Embedding(512, 768)\n",
       "    (token_type_embeddings): Embedding(2, 768)\n",
       "    (LayerNorm): LayerNorm((768,), eps=1e-12, elementwise_affine=True)\n",
       "    (dropout): Dropout(p=0.1, inplace=False)\n",
       "  )\n",
       "  (encoder): BertEncoder(\n",
       "    (layer): ModuleList(\n",
       "      (0): BertLayer(\n",
       "        (attention): BertAttention(\n",
       "          (self): BertSelfAttention(\n",
       "            (query): Linear(in_features=768, out_features=768, bias=True)\n",
       "            (key): Linear(in_features=768, out_features=768, bias=True)\n",
       "            (value): Linear(in_features=768, out_features=768, bias=True)\n",
       "            (dropout): Dropout(p=0.1, inplace=False)\n",
       "          )\n",
       "          (output): BertSelfOutput(\n",
       "            (dense): Linear(in_features=768, out_features=768, bias=True)\n",
       "            (LayerNorm): LayerNorm((768,), eps=1e-12, elementwise_affine=True)\n",
       "            (dropout): Dropout(p=0.1, inplace=False)\n",
       "          )\n",
       "        )\n",
       "        (intermediate): BertIntermediate(\n",
       "          (dense): Linear(in_features=768, out_features=3072, bias=True)\n",
       "        )\n",
       "        (output): BertOutput(\n",
       "          (dense): Linear(in_features=3072, out_features=768, bias=True)\n",
       "          (LayerNorm): LayerNorm((768,), eps=1e-12, elementwise_affine=True)\n",
       "          (dropout): Dropout(p=0.1, inplace=False)\n",
       "        )\n",
       "      )\n",
       "      (1): BertLayer(\n",
       "        (attention): BertAttention(\n",
       "          (self): BertSelfAttention(\n",
       "            (query): Linear(in_features=768, out_features=768, bias=True)\n",
       "            (key): Linear(in_features=768, out_features=768, bias=True)\n",
       "            (value): Linear(in_features=768, out_features=768, bias=True)\n",
       "            (dropout): Dropout(p=0.1, inplace=False)\n",
       "          )\n",
       "          (output): BertSelfOutput(\n",
       "            (dense): Linear(in_features=768, out_features=768, bias=True)\n",
       "            (LayerNorm): LayerNorm((768,), eps=1e-12, elementwise_affine=True)\n",
       "            (dropout): Dropout(p=0.1, inplace=False)\n",
       "          )\n",
       "        )\n",
       "        (intermediate): BertIntermediate(\n",
       "          (dense): Linear(in_features=768, out_features=3072, bias=True)\n",
       "        )\n",
       "        (output): BertOutput(\n",
       "          (dense): Linear(in_features=3072, out_features=768, bias=True)\n",
       "          (LayerNorm): LayerNorm((768,), eps=1e-12, elementwise_affine=True)\n",
       "          (dropout): Dropout(p=0.1, inplace=False)\n",
       "        )\n",
       "      )\n",
       "      (2): BertLayer(\n",
       "        (attention): BertAttention(\n",
       "          (self): BertSelfAttention(\n",
       "            (query): Linear(in_features=768, out_features=768, bias=True)\n",
       "            (key): Linear(in_features=768, out_features=768, bias=True)\n",
       "            (value): Linear(in_features=768, out_features=768, bias=True)\n",
       "            (dropout): Dropout(p=0.1, inplace=False)\n",
       "          )\n",
       "          (output): BertSelfOutput(\n",
       "            (dense): Linear(in_features=768, out_features=768, bias=True)\n",
       "            (LayerNorm): LayerNorm((768,), eps=1e-12, elementwise_affine=True)\n",
       "            (dropout): Dropout(p=0.1, inplace=False)\n",
       "          )\n",
       "        )\n",
       "        (intermediate): BertIntermediate(\n",
       "          (dense): Linear(in_features=768, out_features=3072, bias=True)\n",
       "        )\n",
       "        (output): BertOutput(\n",
       "          (dense): Linear(in_features=3072, out_features=768, bias=True)\n",
       "          (LayerNorm): LayerNorm((768,), eps=1e-12, elementwise_affine=True)\n",
       "          (dropout): Dropout(p=0.1, inplace=False)\n",
       "        )\n",
       "      )\n",
       "      (3): BertLayer(\n",
       "        (attention): BertAttention(\n",
       "          (self): BertSelfAttention(\n",
       "            (query): Linear(in_features=768, out_features=768, bias=True)\n",
       "            (key): Linear(in_features=768, out_features=768, bias=True)\n",
       "            (value): Linear(in_features=768, out_features=768, bias=True)\n",
       "            (dropout): Dropout(p=0.1, inplace=False)\n",
       "          )\n",
       "          (output): BertSelfOutput(\n",
       "            (dense): Linear(in_features=768, out_features=768, bias=True)\n",
       "            (LayerNorm): LayerNorm((768,), eps=1e-12, elementwise_affine=True)\n",
       "            (dropout): Dropout(p=0.1, inplace=False)\n",
       "          )\n",
       "        )\n",
       "        (intermediate): BertIntermediate(\n",
       "          (dense): Linear(in_features=768, out_features=3072, bias=True)\n",
       "        )\n",
       "        (output): BertOutput(\n",
       "          (dense): Linear(in_features=3072, out_features=768, bias=True)\n",
       "          (LayerNorm): LayerNorm((768,), eps=1e-12, elementwise_affine=True)\n",
       "          (dropout): Dropout(p=0.1, inplace=False)\n",
       "        )\n",
       "      )\n",
       "      (4): BertLayer(\n",
       "        (attention): BertAttention(\n",
       "          (self): BertSelfAttention(\n",
       "            (query): Linear(in_features=768, out_features=768, bias=True)\n",
       "            (key): Linear(in_features=768, out_features=768, bias=True)\n",
       "            (value): Linear(in_features=768, out_features=768, bias=True)\n",
       "            (dropout): Dropout(p=0.1, inplace=False)\n",
       "          )\n",
       "          (output): BertSelfOutput(\n",
       "            (dense): Linear(in_features=768, out_features=768, bias=True)\n",
       "            (LayerNorm): LayerNorm((768,), eps=1e-12, elementwise_affine=True)\n",
       "            (dropout): Dropout(p=0.1, inplace=False)\n",
       "          )\n",
       "        )\n",
       "        (intermediate): BertIntermediate(\n",
       "          (dense): Linear(in_features=768, out_features=3072, bias=True)\n",
       "        )\n",
       "        (output): BertOutput(\n",
       "          (dense): Linear(in_features=3072, out_features=768, bias=True)\n",
       "          (LayerNorm): LayerNorm((768,), eps=1e-12, elementwise_affine=True)\n",
       "          (dropout): Dropout(p=0.1, inplace=False)\n",
       "        )\n",
       "      )\n",
       "      (5): BertLayer(\n",
       "        (attention): BertAttention(\n",
       "          (self): BertSelfAttention(\n",
       "            (query): Linear(in_features=768, out_features=768, bias=True)\n",
       "            (key): Linear(in_features=768, out_features=768, bias=True)\n",
       "            (value): Linear(in_features=768, out_features=768, bias=True)\n",
       "            (dropout): Dropout(p=0.1, inplace=False)\n",
       "          )\n",
       "          (output): BertSelfOutput(\n",
       "            (dense): Linear(in_features=768, out_features=768, bias=True)\n",
       "            (LayerNorm): LayerNorm((768,), eps=1e-12, elementwise_affine=True)\n",
       "            (dropout): Dropout(p=0.1, inplace=False)\n",
       "          )\n",
       "        )\n",
       "        (intermediate): BertIntermediate(\n",
       "          (dense): Linear(in_features=768, out_features=3072, bias=True)\n",
       "        )\n",
       "        (output): BertOutput(\n",
       "          (dense): Linear(in_features=3072, out_features=768, bias=True)\n",
       "          (LayerNorm): LayerNorm((768,), eps=1e-12, elementwise_affine=True)\n",
       "          (dropout): Dropout(p=0.1, inplace=False)\n",
       "        )\n",
       "      )\n",
       "      (6): BertLayer(\n",
       "        (attention): BertAttention(\n",
       "          (self): BertSelfAttention(\n",
       "            (query): Linear(in_features=768, out_features=768, bias=True)\n",
       "            (key): Linear(in_features=768, out_features=768, bias=True)\n",
       "            (value): Linear(in_features=768, out_features=768, bias=True)\n",
       "            (dropout): Dropout(p=0.1, inplace=False)\n",
       "          )\n",
       "          (output): BertSelfOutput(\n",
       "            (dense): Linear(in_features=768, out_features=768, bias=True)\n",
       "            (LayerNorm): LayerNorm((768,), eps=1e-12, elementwise_affine=True)\n",
       "            (dropout): Dropout(p=0.1, inplace=False)\n",
       "          )\n",
       "        )\n",
       "        (intermediate): BertIntermediate(\n",
       "          (dense): Linear(in_features=768, out_features=3072, bias=True)\n",
       "        )\n",
       "        (output): BertOutput(\n",
       "          (dense): Linear(in_features=3072, out_features=768, bias=True)\n",
       "          (LayerNorm): LayerNorm((768,), eps=1e-12, elementwise_affine=True)\n",
       "          (dropout): Dropout(p=0.1, inplace=False)\n",
       "        )\n",
       "      )\n",
       "      (7): BertLayer(\n",
       "        (attention): BertAttention(\n",
       "          (self): BertSelfAttention(\n",
       "            (query): Linear(in_features=768, out_features=768, bias=True)\n",
       "            (key): Linear(in_features=768, out_features=768, bias=True)\n",
       "            (value): Linear(in_features=768, out_features=768, bias=True)\n",
       "            (dropout): Dropout(p=0.1, inplace=False)\n",
       "          )\n",
       "          (output): BertSelfOutput(\n",
       "            (dense): Linear(in_features=768, out_features=768, bias=True)\n",
       "            (LayerNorm): LayerNorm((768,), eps=1e-12, elementwise_affine=True)\n",
       "            (dropout): Dropout(p=0.1, inplace=False)\n",
       "          )\n",
       "        )\n",
       "        (intermediate): BertIntermediate(\n",
       "          (dense): Linear(in_features=768, out_features=3072, bias=True)\n",
       "        )\n",
       "        (output): BertOutput(\n",
       "          (dense): Linear(in_features=3072, out_features=768, bias=True)\n",
       "          (LayerNorm): LayerNorm((768,), eps=1e-12, elementwise_affine=True)\n",
       "          (dropout): Dropout(p=0.1, inplace=False)\n",
       "        )\n",
       "      )\n",
       "      (8): BertLayer(\n",
       "        (attention): BertAttention(\n",
       "          (self): BertSelfAttention(\n",
       "            (query): Linear(in_features=768, out_features=768, bias=True)\n",
       "            (key): Linear(in_features=768, out_features=768, bias=True)\n",
       "            (value): Linear(in_features=768, out_features=768, bias=True)\n",
       "            (dropout): Dropout(p=0.1, inplace=False)\n",
       "          )\n",
       "          (output): BertSelfOutput(\n",
       "            (dense): Linear(in_features=768, out_features=768, bias=True)\n",
       "            (LayerNorm): LayerNorm((768,), eps=1e-12, elementwise_affine=True)\n",
       "            (dropout): Dropout(p=0.1, inplace=False)\n",
       "          )\n",
       "        )\n",
       "        (intermediate): BertIntermediate(\n",
       "          (dense): Linear(in_features=768, out_features=3072, bias=True)\n",
       "        )\n",
       "        (output): BertOutput(\n",
       "          (dense): Linear(in_features=3072, out_features=768, bias=True)\n",
       "          (LayerNorm): LayerNorm((768,), eps=1e-12, elementwise_affine=True)\n",
       "          (dropout): Dropout(p=0.1, inplace=False)\n",
       "        )\n",
       "      )\n",
       "      (9): BertLayer(\n",
       "        (attention): BertAttention(\n",
       "          (self): BertSelfAttention(\n",
       "            (query): Linear(in_features=768, out_features=768, bias=True)\n",
       "            (key): Linear(in_features=768, out_features=768, bias=True)\n",
       "            (value): Linear(in_features=768, out_features=768, bias=True)\n",
       "            (dropout): Dropout(p=0.1, inplace=False)\n",
       "          )\n",
       "          (output): BertSelfOutput(\n",
       "            (dense): Linear(in_features=768, out_features=768, bias=True)\n",
       "            (LayerNorm): LayerNorm((768,), eps=1e-12, elementwise_affine=True)\n",
       "            (dropout): Dropout(p=0.1, inplace=False)\n",
       "          )\n",
       "        )\n",
       "        (intermediate): BertIntermediate(\n",
       "          (dense): Linear(in_features=768, out_features=3072, bias=True)\n",
       "        )\n",
       "        (output): BertOutput(\n",
       "          (dense): Linear(in_features=3072, out_features=768, bias=True)\n",
       "          (LayerNorm): LayerNorm((768,), eps=1e-12, elementwise_affine=True)\n",
       "          (dropout): Dropout(p=0.1, inplace=False)\n",
       "        )\n",
       "      )\n",
       "      (10): BertLayer(\n",
       "        (attention): BertAttention(\n",
       "          (self): BertSelfAttention(\n",
       "            (query): Linear(in_features=768, out_features=768, bias=True)\n",
       "            (key): Linear(in_features=768, out_features=768, bias=True)\n",
       "            (value): Linear(in_features=768, out_features=768, bias=True)\n",
       "            (dropout): Dropout(p=0.1, inplace=False)\n",
       "          )\n",
       "          (output): BertSelfOutput(\n",
       "            (dense): Linear(in_features=768, out_features=768, bias=True)\n",
       "            (LayerNorm): LayerNorm((768,), eps=1e-12, elementwise_affine=True)\n",
       "            (dropout): Dropout(p=0.1, inplace=False)\n",
       "          )\n",
       "        )\n",
       "        (intermediate): BertIntermediate(\n",
       "          (dense): Linear(in_features=768, out_features=3072, bias=True)\n",
       "        )\n",
       "        (output): BertOutput(\n",
       "          (dense): Linear(in_features=3072, out_features=768, bias=True)\n",
       "          (LayerNorm): LayerNorm((768,), eps=1e-12, elementwise_affine=True)\n",
       "          (dropout): Dropout(p=0.1, inplace=False)\n",
       "        )\n",
       "      )\n",
       "      (11): BertLayer(\n",
       "        (attention): BertAttention(\n",
       "          (self): BertSelfAttention(\n",
       "            (query): Linear(in_features=768, out_features=768, bias=True)\n",
       "            (key): Linear(in_features=768, out_features=768, bias=True)\n",
       "            (value): Linear(in_features=768, out_features=768, bias=True)\n",
       "            (dropout): Dropout(p=0.1, inplace=False)\n",
       "          )\n",
       "          (output): BertSelfOutput(\n",
       "            (dense): Linear(in_features=768, out_features=768, bias=True)\n",
       "            (LayerNorm): LayerNorm((768,), eps=1e-12, elementwise_affine=True)\n",
       "            (dropout): Dropout(p=0.1, inplace=False)\n",
       "          )\n",
       "        )\n",
       "        (intermediate): BertIntermediate(\n",
       "          (dense): Linear(in_features=768, out_features=3072, bias=True)\n",
       "        )\n",
       "        (output): BertOutput(\n",
       "          (dense): Linear(in_features=3072, out_features=768, bias=True)\n",
       "          (LayerNorm): LayerNorm((768,), eps=1e-12, elementwise_affine=True)\n",
       "          (dropout): Dropout(p=0.1, inplace=False)\n",
       "        )\n",
       "      )\n",
       "    )\n",
       "  )\n",
       "  (pooler): BertPooler(\n",
       "    (dense): Linear(in_features=768, out_features=768, bias=True)\n",
       "    (activation): Tanh()\n",
       "  )\n",
       ")"
      ]
     },
     "execution_count": 46,
     "metadata": {},
     "output_type": "execute_result"
    }
   ],
   "source": [
    "# Modelo\n",
    "modelo_bert"
   ]
  },
  {
   "cell_type": "code",
   "execution_count": 47,
   "metadata": {
    "colab": {},
    "colab_type": "code",
    "id": "1Th9LkNIfF5V"
   },
   "outputs": [],
   "source": [
    "# Vamos visualizar o shape da última camada densa e da última camada de pooling\n",
    "last_hidden_state, pooled_output = modelo_bert(input_ids = encoding['input_ids'],\n",
    "                                               attention_mask = encoding['attention_mask'])"
   ]
  },
  {
   "cell_type": "code",
   "execution_count": 48,
   "metadata": {
    "colab": {
     "base_uri": "https://localhost:8080/",
     "height": 34
    },
    "colab_type": "code",
    "id": "wW6OZSIcfl98",
    "outputId": "bedf506a-ede3-466c-c968-5a291b2dd13f"
   },
   "outputs": [
    {
     "data": {
      "text/plain": [
       "torch.Size([1, 32, 768])"
      ]
     },
     "execution_count": 48,
     "metadata": {},
     "output_type": "execute_result"
    }
   ],
   "source": [
    "# Shape\n",
    "last_hidden_state.shape"
   ]
  },
  {
   "cell_type": "code",
   "execution_count": 49,
   "metadata": {
    "colab": {
     "base_uri": "https://localhost:8080/",
     "height": 34
    },
    "colab_type": "code",
    "id": "GnruP8FpfxK8",
    "outputId": "f98b9079-53b1-4c21-d90e-c661b47c0e8a"
   },
   "outputs": [
    {
     "data": {
      "text/plain": [
       "torch.Size([1, 768])"
      ]
     },
     "execution_count": 49,
     "metadata": {},
     "output_type": "execute_result"
    }
   ],
   "source": [
    "# Shape\n",
    "pooled_output.shape"
   ]
  },
  {
   "cell_type": "markdown",
   "metadata": {
    "colab_type": "text",
    "id": "IqjCCyESgXWU"
   },
   "source": [
    "Estamos quase lá. Podemos agora criar nosso classificador de sentimentos.\n",
    "\n",
    "Observe que estamos usando o modelo pré-treinado BERT, mas acresentando nossas camadas ao final. Ou seja, usamos o melhor que o modelo BERT já tem do seu treinamento e apenas acrescentamos as últimas camadas com o shape dos dados que queremos classificar. Durante o treinamento, isso é que será treinado na prática."
   ]
  },
  {
   "cell_type": "code",
   "execution_count": 50,
   "metadata": {
    "colab": {},
    "colab_type": "code",
    "id": "hWqNVE_1f0aD"
   },
   "outputs": [],
   "source": [
    "# Classe para o classificador de sentimentos\n",
    "class ClassificadorSentimentos(nn.Module):\n",
    "    \n",
    "    # Método construtor da classe\n",
    "    def __init__(self, n_classes):\n",
    "        \n",
    "        # Inicializa os atributos\n",
    "        super(ClassificadorSentimentos, self).__init__()\n",
    "        \n",
    "        # Define o modelo BERT pré-treinado\n",
    "        self.bert = BertModel.from_pretrained(\"bert-base-cased\")\n",
    "        \n",
    "        # Adiciona uma camada de Dropout\n",
    "        self.drop1 = nn.Dropout()\n",
    "        \n",
    "        # Adiciona uma camada oculta\n",
    "        self.fc1 = nn.Linear(self.bert.config.hidden_size, 100)\n",
    "        \n",
    "        # Adiciona uma camada densa\n",
    "        self.fc2 = nn.Linear(100, n_classes)\n",
    "        \n",
    "        # Classificaçao final com a função softmax\n",
    "        self.softmax = nn.Softmax(dim = 1)\n",
    "  \n",
    "    # Método forward\n",
    "    def forward(self, input_ids, attention_mask):\n",
    "        \n",
    "        # Carrega a camada de pooling\n",
    "        _, pooled_output = self.bert(input_ids = input_ids, attention_mask = attention_mask)\n",
    "        \n",
    "        # Define os outputs das camadas que criamos\n",
    "        output = self.drop1(pooled_output)\n",
    "        output = self.fc1(output)\n",
    "        output = self.fc2(output)\n",
    "        \n",
    "        # Retrno\n",
    "        return self.softmax(output)"
   ]
  },
  {
   "cell_type": "markdown",
   "metadata": {},
   "source": [
    "Estamos prontos para o treinamento. Ajustes finais."
   ]
  },
  {
   "cell_type": "code",
   "execution_count": 51,
   "metadata": {
    "colab": {},
    "colab_type": "code",
    "id": "JeQVtwu3GXoO"
   },
   "outputs": [],
   "source": [
    "# Vamos definir o device. Como este jupyter foi criado no Titan, o device é GPU.\n",
    "device = torch.device(\"cuda:0\" if torch.cuda.is_available() else \"cpu\")"
   ]
  },
  {
   "cell_type": "code",
   "execution_count": 52,
   "metadata": {},
   "outputs": [],
   "source": [
    "# Criamos o modelo\n",
    "modelo_classificador_sentimentos = ClassificadorSentimentos(len(class_names))"
   ]
  },
  {
   "cell_type": "code",
   "execution_count": 53,
   "metadata": {},
   "outputs": [],
   "source": [
    "# Enviamos o modelo para o device\n",
    "modelo_classificador_sentimentos = modelo_classificador_sentimentos.to(device)"
   ]
  },
  {
   "cell_type": "code",
   "execution_count": 54,
   "metadata": {
    "colab": {
     "base_uri": "https://localhost:8080/",
     "height": 51
    },
    "colab_type": "code",
    "id": "ndkq3QHQGr6J",
    "outputId": "5eb98d53-1a8e-4904-aaf8-a39d64044c2c"
   },
   "outputs": [],
   "source": [
    "# Carregamos o inputs e attention_mask\n",
    "input_ids = amostra['input_ids'].to(device)\n",
    "attention_mask = amostra['attention_mask'].to(device)"
   ]
  },
  {
   "cell_type": "code",
   "execution_count": 55,
   "metadata": {},
   "outputs": [
    {
     "name": "stdout",
     "output_type": "stream",
     "text": [
      "torch.Size([16, 150])\n",
      "torch.Size([16, 150])\n"
     ]
    }
   ],
   "source": [
    "# Print\n",
    "print(input_ids.shape)\n",
    "print(attention_mask.shape)"
   ]
  },
  {
   "cell_type": "code",
   "execution_count": 56,
   "metadata": {
    "colab": {
     "base_uri": "https://localhost:8080/",
     "height": 289
    },
    "colab_type": "code",
    "id": "Rk2UTe7cHmC7",
    "outputId": "181f45c6-e5a4-43d9-ab08-e87e36166a20"
   },
   "outputs": [
    {
     "data": {
      "text/plain": [
       "tensor([[0.3558, 0.4496, 0.1946],\n",
       "        [0.3172, 0.4329, 0.2499],\n",
       "        [0.2419, 0.4997, 0.2584],\n",
       "        [0.3425, 0.3587, 0.2988],\n",
       "        [0.3497, 0.3937, 0.2565],\n",
       "        [0.3035, 0.2885, 0.4081],\n",
       "        [0.2643, 0.3991, 0.3366],\n",
       "        [0.3243, 0.3862, 0.2895],\n",
       "        [0.3146, 0.5026, 0.1828],\n",
       "        [0.3342, 0.4034, 0.2624],\n",
       "        [0.4134, 0.3680, 0.2186],\n",
       "        [0.1847, 0.5936, 0.2217],\n",
       "        [0.3721, 0.4055, 0.2224],\n",
       "        [0.2939, 0.4778, 0.2283],\n",
       "        [0.2812, 0.4321, 0.2867],\n",
       "        [0.3908, 0.3859, 0.2233]], device='cuda:0', grad_fn=<SoftmaxBackward>)"
      ]
     },
     "execution_count": 56,
     "metadata": {},
     "output_type": "execute_result"
    }
   ],
   "source": [
    "# Carregamos o inputs e attention_mask no modelo\n",
    "modelo_classificador_sentimentos(input_ids, attention_mask)"
   ]
  },
  {
   "cell_type": "code",
   "execution_count": 57,
   "metadata": {
    "colab": {},
    "colab_type": "code",
    "id": "BXDOpShkH4M9"
   },
   "outputs": [],
   "source": [
    "# O modelo BERT original usa o otimizador AdamW: algoritmo Adam com decay fixo de peso\n",
    "optimizer = AdamW(modelo_classificador_sentimentos.parameters(), lr = LEARNING_RATE, correct_bias = False)"
   ]
  },
  {
   "cell_type": "code",
   "execution_count": 58,
   "metadata": {},
   "outputs": [],
   "source": [
    "# Definimos o total de steps\n",
    "total_step = len(treino_data_loader) * EPOCHS"
   ]
  },
  {
   "cell_type": "code",
   "execution_count": 59,
   "metadata": {},
   "outputs": [],
   "source": [
    "# Ajustamos a taxa de aprendizado\n",
    "scheduler = get_linear_schedule_with_warmup(optimizer, num_warmup_steps = 0, num_training_steps = total_step)"
   ]
  },
  {
   "cell_type": "code",
   "execution_count": 60,
   "metadata": {},
   "outputs": [],
   "source": [
    "# Função de perda (loss)\n",
    "loss_fn = nn.CrossEntropyLoss().to(device)"
   ]
  },
  {
   "cell_type": "code",
   "execution_count": 61,
   "metadata": {
    "colab": {},
    "colab_type": "code",
    "id": "8fT7ZOXPJTdU"
   },
   "outputs": [],
   "source": [
    "# Função para treinamento\n",
    "def treinaModelo(model, data_loader, loss_fn, optimizer, device, scheduler, n_examples):\n",
    "    \n",
    "    # Prepara para o treinamento\n",
    "    model = model.train()\n",
    "    losses = []\n",
    "    correct_prediction = 0\n",
    "\n",
    "    # Loop pelas amostras de dados\n",
    "    # Ciclo completo de Deep Learning\n",
    "    for d in data_loader:\n",
    "        input_ids = d['input_ids'].to(device)\n",
    "        attention_mask = d['attention_mask'].to(device)\n",
    "        targets = d['targets'].to(device)\n",
    "        outputs = model(input_ids = input_ids, attention_mask = attention_mask)\n",
    "\n",
    "        _, preds = torch.max(outputs, dim = 1)\n",
    "        loss = loss_fn(outputs, targets)\n",
    "\n",
    "        correct_prediction += torch.sum(preds == targets)\n",
    "        losses.append(loss.item())\n",
    "\n",
    "        loss.backward()\n",
    "        nn.utils.clip_grad_norm_(model.parameters(), max_norm = 1.0)\n",
    "        optimizer.step()\n",
    "        scheduler.step()\n",
    "        optimizer.zero_grad()\n",
    "        \n",
    "    return correct_prediction.double() / n_examples, np.mean(losses)"
   ]
  },
  {
   "cell_type": "code",
   "execution_count": 62,
   "metadata": {
    "colab": {},
    "colab_type": "code",
    "id": "Ub_1qI-WLWC7"
   },
   "outputs": [],
   "source": [
    "# Função para avaliação do modelo\n",
    "def avaliaModelo(model, data_loader, loss_fn, device, n_examples):\n",
    "    model.eval()\n",
    "    losses = []\n",
    "    correct_prediction = 0\n",
    "    \n",
    "    with torch.no_grad():\n",
    "        for d in data_loader:\n",
    "            input_ids = d['input_ids'].to(device)\n",
    "            attention_mask = d['attention_mask'].to(device)\n",
    "            targets = d['targets'].to(device)\n",
    "            outputs = model(input_ids = input_ids, attention_mask = attention_mask)\n",
    "\n",
    "            _, preds = torch.max(outputs, dim = 1)\n",
    "            loss = loss_fn(outputs, targets)\n",
    "\n",
    "            correct_prediction += torch.sum(preds == targets)\n",
    "            losses.append(loss.item())\n",
    "    \n",
    "    return correct_prediction.double() / n_examples, np.mean(losses)"
   ]
  },
  {
   "cell_type": "markdown",
   "metadata": {},
   "source": [
    "Ufa! Deu trabalho. Agora o treinamento (no Titan levou mais de 1 hora)"
   ]
  },
  {
   "cell_type": "code",
   "execution_count": 63,
   "metadata": {
    "colab": {
     "base_uri": "https://localhost:8080/",
     "height": 1000
    },
    "colab_type": "code",
    "id": "qnN7v_qiM4vX",
    "outputId": "76f40e1a-4886-496f-e68a-e9299ffcb0c6"
   },
   "outputs": [
    {
     "name": "stdout",
     "output_type": "stream",
     "text": [
      "Epoch 1/40\n",
      "----------\n",
      "Erro em Treino 0.9260262872592632 Acurácia em Treino 0.6015958433846724\n",
      "Erro em Validação 0.8721915405047568 Acurácia em Validação 0.674457429048414\n",
      "\n",
      "Epoch 2/40\n",
      "----------\n",
      "Erro em Treino 0.8158438834486093 Acurácia em Treino 0.7298200037112637\n",
      "Erro em Validação 0.8497121192907032 Acurácia em Validação 0.6928213689482471\n",
      "\n",
      "Epoch 3/40\n",
      "----------\n",
      "Erro em Treino 0.7596904524002301 Acurácia em Treino 0.7891074410836889\n",
      "Erro em Validação 0.8403620704224235 Acurácia em Validação 0.7145242070116862\n",
      "\n",
      "Epoch 4/40\n",
      "----------\n",
      "Erro em Treino 0.7342899418726165 Acurácia em Treino 0.8157357580256077\n",
      "Erro em Validação 0.8250413411541989 Acurácia em Validação 0.7262103505843072\n",
      "\n",
      "Epoch 5/40\n",
      "----------\n",
      "Erro em Treino 0.7164218827241959 Acurácia em Treino 0.8331786973464465\n",
      "Erro em Validação 0.8155269779657063 Acurácia em Validação 0.7345575959933223\n",
      "\n",
      "Epoch 6/40\n",
      "----------\n",
      "Erro em Treino 0.7045275969568983 Acurácia em Treino 0.8457042122842827\n",
      "Erro em Validação 0.8139005068101381 Acurácia em Validação 0.7395659432387313\n",
      "\n",
      "Epoch 7/40\n",
      "----------\n",
      "Erro em Treino 0.6950554883975304 Acurácia em Treino 0.8556318426424196\n",
      "Erro em Validação 0.8101542701846675 Acurácia em Validação 0.7429048414023373\n",
      "\n",
      "Epoch 8/40\n",
      "----------\n",
      "Erro em Treino 0.6921995151290554 Acurácia em Treino 0.8584152904063833\n",
      "Erro em Validação 0.8198944455698917 Acurácia em Validação 0.7312186978297163\n",
      "\n",
      "Epoch 9/40\n",
      "----------\n",
      "Erro em Treino 0.6861666046547253 Acurácia em Treino 0.865095565039896\n",
      "Erro em Validação 0.8042558462996232 Acurácia em Validação 0.7462437395659433\n",
      "\n",
      "Epoch 10/40\n",
      "----------\n",
      "Erro em Treino 0.6814597078353078 Acurácia em Treino 0.8697346446465021\n",
      "Erro em Validação 0.8221387235741866 Acurácia em Validação 0.7278797996661102\n",
      "\n",
      "Epoch 11/40\n",
      "----------\n",
      "Erro em Treino 0.6785497170173803 Acurácia em Treino 0.8724253108183336\n",
      "Erro em Validação 0.8009388478178727 Acurácia em Validação 0.7512520868113522\n",
      "\n",
      "Epoch 12/40\n",
      "----------\n",
      "Erro em Treino 0.6748909156117312 Acurácia em Treino 0.875858229727222\n",
      "Erro em Validação 0.8102414404091082 Acurácia em Validação 0.7395659432387313\n",
      "\n",
      "Epoch 13/40\n",
      "----------\n",
      "Erro em Treino 0.6748366683102504 Acurácia em Treino 0.8765077008721469\n",
      "Erro em Validação 0.804556103129136 Acurácia em Validação 0.7462437395659433\n",
      "\n",
      "Epoch 14/40\n",
      "----------\n",
      "Erro em Treino 0.6682414881199686 Acurácia em Treino 0.8823529411764706\n",
      "Erro em Validação 0.8025756792018288 Acurácia em Validação 0.7479131886477463\n",
      "\n",
      "Epoch 15/40\n",
      "----------\n",
      "Erro em Treino 0.6646738852697593 Acurácia em Treino 0.8861569864538875\n",
      "Erro em Validação 0.8011256895567241 Acurácia em Validação 0.7495826377295493\n",
      "\n",
      "Epoch 16/40\n",
      "----------\n",
      "Erro em Treino 0.6578375079865272 Acurácia em Treino 0.8934867322323251\n",
      "Erro em Validação 0.8002306960130993 Acurácia em Validação 0.7495826377295493\n",
      "\n",
      "Epoch 17/40\n",
      "----------\n",
      "Erro em Treino 0.6554675800863996 Acurácia em Treino 0.895713490443496\n",
      "Erro em Validação 0.7852063994658621 Acurácia em Validação 0.7679465776293823\n",
      "\n",
      "Epoch 18/40\n",
      "----------\n",
      "Erro em Treino 0.6534500680090058 Acurácia em Treino 0.8972907775097421\n",
      "Erro em Validação 0.8007266897904245 Acurácia em Validação 0.7529215358931552\n",
      "\n",
      "Epoch 19/40\n",
      "----------\n",
      "Erro em Treino 0.652327570787877 Acurácia em Treino 0.898775282983856\n",
      "Erro em Validação 0.7969800531864166 Acurácia em Validação 0.7512520868113522\n",
      "\n",
      "Epoch 20/40\n",
      "----------\n",
      "Erro em Treino 0.6483561249798059 Acurácia em Treino 0.9026721098534051\n",
      "Erro em Validação 0.794324561169273 Acurácia em Validação 0.7562604340567612\n",
      "\n",
      "Epoch 21/40\n",
      "----------\n",
      "Erro em Treino 0.6471279441249123 Acurácia em Treino 0.904156615327519\n",
      "Erro em Validação 0.7946340802468752 Acurácia em Validação 0.7562604340567612\n",
      "\n",
      "Epoch 22/40\n",
      "----------\n",
      "Erro em Treino 0.6487164252412779 Acurácia em Treino 0.902579328261273\n",
      "Erro em Validação 0.7866101312009912 Acurácia em Validação 0.7646076794657763\n",
      "\n",
      "Epoch 23/40\n",
      "----------\n",
      "Erro em Treino 0.6441435399147453 Acurácia em Treino 0.9071256262757469\n",
      "Erro em Validação 0.7869250821439844 Acurácia em Validação 0.7629382303839733\n",
      "\n",
      "Epoch 24/40\n",
      "----------\n",
      "Erro em Treino 0.6433969843104614 Acurácia em Treino 0.9076823158285395\n",
      "Erro em Validação 0.797417025817068 Acurácia em Validação 0.7512520868113522\n",
      "\n",
      "Epoch 25/40\n",
      "----------\n",
      "Erro em Treino 0.6424760460322971 Acurácia em Treino 0.9088884765262571\n",
      "Erro em Validação 0.8002659882369795 Acurácia em Validação 0.7479131886477463\n",
      "\n",
      "Epoch 26/40\n",
      "----------\n",
      "Erro em Treino 0.6406895573132116 Acurácia em Treino 0.9103729820003711\n",
      "Erro em Validação 0.7871321126034385 Acurácia em Validação 0.7612687813021703\n",
      "\n",
      "Epoch 27/40\n",
      "----------\n",
      "Erro em Treino 0.6389431627108011 Acurácia em Treino 0.9122286138430135\n",
      "Erro em Validação 0.78846034093907 Acurácia em Validação 0.7629382303839733\n",
      "\n",
      "Epoch 28/40\n",
      "----------\n",
      "Erro em Treino 0.637817637856707 Acurácia em Treino 0.9135275561328632\n",
      "Erro em Validação 0.7852968103007266 Acurácia em Validação 0.7629382303839733\n",
      "\n",
      "Epoch 29/40\n",
      "----------\n",
      "Erro em Treino 0.6359706108046569 Acurácia em Treino 0.9152904063833734\n",
      "Erro em Validação 0.7911992920072455 Acurácia em Validação 0.7579298831385642\n",
      "\n",
      "Epoch 30/40\n",
      "----------\n",
      "Erro em Treino 0.6370710214096997 Acurácia em Treino 0.914177027277788\n",
      "Erro em Validação 0.7756033147636213 Acurácia em Validação 0.7746243739565943\n",
      "\n",
      "Epoch 31/40\n",
      "----------\n",
      "Erro em Treino 0.6360542940456718 Acurácia em Treino 0.9153831879755057\n",
      "Erro em Validação 0.7811743852339292 Acurácia em Validação 0.7696160267111853\n",
      "\n",
      "Epoch 32/40\n",
      "----------\n",
      "Erro em Treino 0.6346420011640657 Acurácia em Treino 0.9166821302653553\n",
      "Erro em Validação 0.7710378797430741 Acurácia em Validação 0.7813021702838063\n",
      "\n",
      "Epoch 33/40\n",
      "----------\n",
      "Erro em Treino 0.6344518344904619 Acurácia em Treino 0.9167749118574874\n",
      "Erro em Validação 0.7829992912317577 Acurácia em Validação 0.7662771285475793\n",
      "\n",
      "Epoch 34/40\n",
      "----------\n",
      "Erro em Treino 0.6322911584235794 Acurácia em Treino 0.9190944516607904\n",
      "Erro em Validação 0.7736060368387323 Acurácia em Validação 0.7762938230383973\n",
      "\n",
      "Epoch 35/40\n",
      "----------\n",
      "Erro em Treino 0.6324419686100957 Acurácia em Treino 0.9189088884765262\n",
      "Erro em Validação 0.762100919296867 Acurácia em Validação 0.7896494156928214\n",
      "\n",
      "Epoch 36/40\n",
      "----------\n",
      "Erro em Treino 0.6316456642631961 Acurácia em Treino 0.9197439228057153\n",
      "Erro em Validação 0.7740788067642012 Acurácia em Validação 0.7746243739565943\n",
      "\n",
      "Epoch 37/40\n",
      "----------\n",
      "Erro em Treino 0.6313427597372752 Acurácia em Treino 0.9201150491742438\n",
      "Erro em Validação 0.7649790048599243 Acurácia em Validação 0.7846410684474123\n",
      "\n",
      "Epoch 38/40\n",
      "----------\n",
      "Erro em Treino 0.6306214838424139 Acurácia em Treino 0.9206717387270366\n",
      "Erro em Validação 0.7656646590483817 Acurácia em Validação 0.7846410684474123\n",
      "\n",
      "Epoch 39/40\n",
      "----------\n",
      "Erro em Treino 0.6302475319064336 Acurácia em Treino 0.921042865095565\n",
      "Erro em Validação 0.7665026611403415 Acurácia em Validação 0.7846410684474123\n",
      "\n",
      "Epoch 40/40\n",
      "----------\n",
      "Erro em Treino 0.6300306267129915 Acurácia em Treino 0.9212284282798292\n",
      "Erro em Validação 0.7695554212519997 Acurácia em Validação 0.7813021702838063\n",
      "\n",
      "CPU times: user 1h 4min 31s, sys: 14min 19s, total: 1h 18min 51s\n",
      "Wall time: 1h 19min 30s\n"
     ]
    }
   ],
   "source": [
    "%%time\n",
    "\n",
    "# Guardamos o histórico de trenamento\n",
    "history = defaultdict(list)\n",
    "\n",
    "# Controlamos a melhor acurácia\n",
    "best_accuracy = 0\n",
    "\n",
    "# Loop\n",
    "for epoch in range(EPOCHS):\n",
    "    \n",
    "    print(f'Epoch {epoch+1}/{EPOCHS}')\n",
    "    print('-' * 10)\n",
    "    train_acc, train_loss = treinaModelo(modelo_classificador_sentimentos, \n",
    "                                         treino_data_loader, \n",
    "                                         loss_fn, \n",
    "                                         optimizer, \n",
    "                                         device, \n",
    "                                         scheduler, \n",
    "                                         len(df_treino))\n",
    "    \n",
    "    print(f'Erro em Treino {train_loss} Acurácia em Treino {train_acc}')\n",
    "\n",
    "    val_acc, val_loss = avaliaModelo(modelo_classificador_sentimentos, \n",
    "                                     val_data_loader, \n",
    "                                     loss_fn, \n",
    "                                     device, \n",
    "                                     len(df_val))\n",
    "    \n",
    "    print(f'Erro em Validação {val_loss} Acurácia em Validação {val_acc}')\n",
    "    print()\n",
    "\n",
    "    history['train_acc'].append(train_acc)\n",
    "    history['train_loss'].append(train_loss)\n",
    "\n",
    "    history['val_acc'].append(val_acc)\n",
    "    history['val_loss'].append(val_loss)\n",
    "\n",
    "    if val_acc > best_accuracy:\n",
    "        torch.save(modelo_classificador_sentimentos.state_dict(), 'modelos/modelo_classificador_sentimentos.bin')\n",
    "        best_accuracy = val_acc"
   ]
  },
  {
   "cell_type": "markdown",
   "metadata": {},
   "source": [
    "Modelo treinado e salvo em disco. Vamos carregá-lo e fazer a avaliação."
   ]
  },
  {
   "cell_type": "code",
   "execution_count": 64,
   "metadata": {
    "colab": {},
    "colab_type": "code",
    "id": "9p_HQZpXO_xF"
   },
   "outputs": [],
   "source": [
    "# Criamos um modelo\n",
    "model = ClassificadorSentimentos(len(class_names))"
   ]
  },
  {
   "cell_type": "code",
   "execution_count": 65,
   "metadata": {},
   "outputs": [
    {
     "data": {
      "text/plain": [
       "<All keys matched successfully>"
      ]
     },
     "execution_count": 65,
     "metadata": {},
     "output_type": "execute_result"
    }
   ],
   "source": [
    "# Carregamos o modelo\n",
    "model.load_state_dict(torch.load('modelos/modelo_classificador_sentimentos.bin'))"
   ]
  },
  {
   "cell_type": "code",
   "execution_count": 66,
   "metadata": {},
   "outputs": [],
   "source": [
    "# Enviamos o modelo para o device\n",
    "model = model.to(device)"
   ]
  },
  {
   "cell_type": "markdown",
   "metadata": {
    "colab_type": "text",
    "id": "0E5RcHsARb-U"
   },
   "source": [
    "Vamos avaliar o modelo nos dados de teste."
   ]
  },
  {
   "cell_type": "code",
   "execution_count": 67,
   "metadata": {
    "colab": {},
    "colab_type": "code",
    "id": "vHFS_SCVRdNC"
   },
   "outputs": [],
   "source": [
    "# Função para coletar as avaliações\n",
    "def get_reviews(model, data_loader):\n",
    "    model = model.eval()\n",
    "\n",
    "    review_texts = []\n",
    "    predictions = []\n",
    "    prediction_probs = []\n",
    "    real_values = []\n",
    "\n",
    "    with torch.no_grad():\n",
    "        for d in data_loader:\n",
    "            texts = d['review_text']\n",
    "            input_ids = d['input_ids'].to(device)\n",
    "            attention_mask = d['attention_mask'].to(device)\n",
    "            targets = d['targets'].to(device)\n",
    "            outputs = model(input_ids = input_ids, attention_mask = attention_mask)\n",
    "\n",
    "        _, preds = torch.max(outputs, dim = 1)\n",
    "\n",
    "        review_texts.extend(texts)\n",
    "        predictions.extend(preds)\n",
    "        prediction_probs.extend(outputs)\n",
    "        real_values.extend(targets)\n",
    "\n",
    "    predictions = torch.stack(predictions).cpu()\n",
    "    prediction_probs = torch.stack(prediction_probs).cpu()\n",
    "    real_values = torch.stack(real_values).cpu()\n",
    "\n",
    "    return review_texts, predictions, prediction_probs, real_values"
   ]
  },
  {
   "cell_type": "code",
   "execution_count": 69,
   "metadata": {
    "colab": {},
    "colab_type": "code",
    "id": "pqFXgucaTWuL"
   },
   "outputs": [],
   "source": [
    "# Vamos fazer previsões usando os dados de teste\n",
    "test_acc, test_loss = avaliaModelo(model, teste_data_loader, loss_fn, device, len(df_teste))"
   ]
  },
  {
   "cell_type": "code",
   "execution_count": 70,
   "metadata": {
    "colab": {},
    "colab_type": "code",
    "id": "q4fFJMkBTG3B"
   },
   "outputs": [],
   "source": [
    "# Vamos obter os dados reais\n",
    "y_review_texts, y_pred, y_pred_probs, y_test = get_reviews(model, teste_data_loader)"
   ]
  },
  {
   "cell_type": "code",
   "execution_count": 71,
   "metadata": {
    "colab": {
     "base_uri": "https://localhost:8080/",
     "height": 187
    },
    "colab_type": "code",
    "id": "sR40E0t7TzXX",
    "outputId": "b074d1f5-ed79-4da7-bf90-2c8982e6a92c"
   },
   "outputs": [
    {
     "name": "stdout",
     "output_type": "stream",
     "text": [
      "              precision    recall  f1-score   support\n",
      "\n",
      "    negativo       1.00      1.00      1.00         1\n",
      "      neutro       1.00      1.00      1.00         2\n",
      "    positivo       1.00      1.00      1.00         4\n",
      "\n",
      "    accuracy                           1.00         7\n",
      "   macro avg       1.00      1.00      1.00         7\n",
      "weighted avg       1.00      1.00      1.00         7\n",
      "\n"
     ]
    }
   ],
   "source": [
    "# Relatório de classificação\n",
    "print(classification_report(y_test, y_pred, target_names = class_names))"
   ]
  },
  {
   "cell_type": "markdown",
   "metadata": {},
   "source": [
    "A performance em teste foi de 100%. Isso se explica pois o volume de dados em teste é pequeno."
   ]
  },
  {
   "cell_type": "code",
   "execution_count": 72,
   "metadata": {
    "colab": {},
    "colab_type": "code",
    "id": "Vz8ckFLrUASz"
   },
   "outputs": [],
   "source": [
    "# Confusion Matrix\n",
    "def show_confusion_matrix(confusion_matrix):\n",
    "    hmap = sns.heatmap(confusion_matrix, annot = True, fmt = \"d\", cmap = \"Blues\")\n",
    "    hmap.yaxis.set_ticklabels(hmap.yaxis.get_ticklabels(), rotation = 0, ha = \"right\")\n",
    "    hmap.xaxis.set_ticklabels(hmap.xaxis.get_ticklabels(), rotation = 30, ha = \"right\")\n",
    "    plt.ylabel('Sentimento Real')\n",
    "    plt.xlabel('Sentimento Previsto Pelo BERT')"
   ]
  },
  {
   "cell_type": "code",
   "execution_count": 73,
   "metadata": {
    "colab": {
     "base_uri": "https://localhost:8080/",
     "height": 534
    },
    "colab_type": "code",
    "id": "3x0YPNeYU707",
    "outputId": "64cbd029-3f71-4858-c796-e1cf249dd60b"
   },
   "outputs": [],
   "source": [
    "# Gravamos a matriz de confusão\n",
    "cm = confusion_matrix(y_test, y_pred)"
   ]
  },
  {
   "cell_type": "code",
   "execution_count": 74,
   "metadata": {},
   "outputs": [],
   "source": [
    "# Criamos um dataframe\n",
    "df_cm = pd.DataFrame(cm, index = class_names, columns = class_names)"
   ]
  },
  {
   "cell_type": "code",
   "execution_count": 75,
   "metadata": {},
   "outputs": [
    {
     "data": {
      "image/png": "[encoded data removed]",
      "text/plain": [
       "<Figure size 1080x648 with 2 Axes>"
      ]
     },
     "metadata": {},
     "output_type": "display_data"
    }
   ],
   "source": [
    "# Resultado\n",
    "show_confusion_matrix(df_cm)"
   ]
  },
  {
   "cell_type": "code",
   "execution_count": 76,
   "metadata": {
    "colab": {},
    "colab_type": "code",
    "id": "2g5BAs0wVYyK"
   },
   "outputs": [],
   "source": [
    "# Vamos checar uma avaliação\n",
    "\n",
    "idx = 3\n",
    "\n",
    "review_text = y_review_texts[idx]\n",
    "true_sentiment = y_test[idx]\n",
    "\n",
    "pred_df = pd.DataFrame(\n",
    "    {\n",
    "        'class_names': class_names,\n",
    "        'values': y_pred_probs[idx]\n",
    "    }\n",
    ")"
   ]
  },
  {
   "cell_type": "code",
   "execution_count": 77,
   "metadata": {
    "colab": {
     "base_uri": "https://localhost:8080/",
     "height": 119
    },
    "colab_type": "code",
    "id": "1egOet4QWSBl",
    "outputId": "daed9ef1-dabd-4ae8-9339-a326eae52dc1"
   },
   "outputs": [
    {
     "name": "stdout",
     "output_type": "stream",
     "text": [
      "Since update my phone is constantly vibrating when i walk. I will have\n",
      "to uninstall\n",
      "\n",
      "Sentimento Real: neutro\n"
     ]
    }
   ],
   "source": [
    "print(\"\\n\".join(wrap(review_text)))\n",
    "print()\n",
    "print(f'Sentimento Real: {class_names[true_sentiment]}')"
   ]
  },
  {
   "cell_type": "code",
   "execution_count": 78,
   "metadata": {
    "colab": {
     "base_uri": "https://localhost:8080/",
     "height": 506
    },
    "colab_type": "code",
    "id": "Z4qqGF7aWj-R",
    "outputId": "a5e4b3bc-f932-4a5a-cbe3-a2dcee963291"
   },
   "outputs": [
    {
     "data": {
      "image/png": "[encoded data removed]",
      "text/plain": [
       "<Figure size 1080x648 with 1 Axes>"
      ]
     },
     "metadata": {},
     "output_type": "display_data"
    }
   ],
   "source": [
    "# Plot da previsão\n",
    "sns.barplot(x = 'values', y = 'class_names', data = pred_df, orient = 'h')\n",
    "plt.ylabel('Sentimento')\n",
    "plt.xlabel('Probabilidade')\n",
    "plt.xlim([0,1]);"
   ]
  },
  {
   "cell_type": "markdown",
   "metadata": {
    "colab_type": "text",
    "id": "LKIPiHpHXH_Z"
   },
   "source": [
    "Agora usaremos novos dados, ou seja, uma nova avaliação a uma app."
   ]
  },
  {
   "cell_type": "code",
   "execution_count": 79,
   "metadata": {
    "colab": {},
    "colab_type": "code",
    "id": "2JY8O11mXLz1"
   },
   "outputs": [],
   "source": [
    "# Texto para avaliação\n",
    "texto_avaliacao = 'I really love this health tracker. It has made me very active'"
   ]
  },
  {
   "cell_type": "code",
   "execution_count": 80,
   "metadata": {
    "colab": {},
    "colab_type": "code",
    "id": "iVE1yQz2XUe-"
   },
   "outputs": [],
   "source": [
    "# Aplicamos a mesma transformação aplicada nos dados de treino, criando o objeto embedding\n",
    "encoded_aval = tokenizer.encode_plus(texto_avaliacao,\n",
    "                                     max_length = MAX_LENGTH,\n",
    "                                     add_special_tokens= True,\n",
    "                                     return_token_type_ids = False,\n",
    "                                     pad_to_max_length = True,\n",
    "                                     return_attention_mask = True,\n",
    "                                     return_tensors = 'pt')"
   ]
  },
  {
   "cell_type": "code",
   "execution_count": 82,
   "metadata": {
    "colab": {},
    "colab_type": "code",
    "id": "Unx-fwbZXypl"
   },
   "outputs": [],
   "source": [
    "# Precisamos dos inputs e attention_mask\n",
    "input_ids = encoded_aval['input_ids'].to(device)\n",
    "attention_mask = encoded_aval['attention_mask'].to(device)"
   ]
  },
  {
   "cell_type": "code",
   "execution_count": 83,
   "metadata": {
    "colab": {},
    "colab_type": "code",
    "id": "bqK7jRA2X_mM"
   },
   "outputs": [],
   "source": [
    "# Output (previsão)\n",
    "output = model(input_ids, attention_mask)"
   ]
  },
  {
   "cell_type": "code",
   "execution_count": 84,
   "metadata": {},
   "outputs": [],
   "source": [
    "# Previsão final\n",
    "_, prediction = torch.max(output, dim = 1)"
   ]
  },
  {
   "cell_type": "code",
   "execution_count": 85,
   "metadata": {
    "colab": {
     "base_uri": "https://localhost:8080/",
     "height": 51
    },
    "colab_type": "code",
    "id": "DrOxDCYWYK-2",
    "outputId": "9ce2fd58-ed84-4370-9033-d232ac9f8b3e"
   },
   "outputs": [
    {
     "name": "stdout",
     "output_type": "stream",
     "text": [
      "\n",
      "Texto de Avaliação da App: I really love this health tracker. It has made me very active\n",
      "\n",
      "Sentimento: positivo\n"
     ]
    }
   ],
   "source": [
    "# Print\n",
    "print(f'\\nTexto de Avaliação da App: {texto_avaliacao}')\n",
    "print(f'\\nSentimento: {class_names[prediction]}')"
   ]
  },
  {
   "cell_type": "markdown",
   "metadata": {},
   "source": [
    "O BERT foi um grande avanço no Processamnto de Linguagem Natural e ainda estamos no começo!"
   ]
  },
  {
   "cell_type": "markdown",
   "metadata": {
    "colab": {},
    "colab_type": "code",
    "id": "QYOS3gY9gY1i"
   },
   "source": [
    "# Fim"
   ]
  }
 ],
 "metadata": {
  "accelerator": "GPU",
  "colab": {
   "authorship_tag": "ABX9TyP7GGj6vivOXOo4MTS1PcyE",
   "include_colab_link": true,
   "name": "sentiment analysis.ipynb",
   "provenance": [],
   "toc_visible": true
  },
  "kernelspec": {
   "display_name": "Python 3 (ipykernel)",
   "language": "python",
   "name": "python3"
  },
  "language_info": {
   "codemirror_mode": {
    "name": "ipython",
    "version": 3
   },
   "file_extension": ".py",
   "mimetype": "text/x-python",
   "name": "python",
   "nbconvert_exporter": "python",
   "pygments_lexer": "ipython3",
   "version": "3.9.7"
  },
  "widgets": {
   "application/vnd.jupyter.widget-state+json": {
    "0d5ebb95e7d4468c9cc3670562bdd0b7": {
     "model_module": "@jupyter-widgets/controls",
     "model_name": "DescriptionStyleModel",
     "state": {
      "_model_module": "@jupyter-widgets/controls",
      "_model_module_version": "1.5.0",
      "_model_name": "DescriptionStyleModel",
      "_view_count": null,
      "_view_module": "@jupyter-widgets/base",
      "_view_module_version": "1.2.0",
      "_view_name": "StyleView",
      "description_width": ""
     }
    },
    "1b57f9b73a6e4a8b8e47bbea1131a788": {
     "model_module": "@jupyter-widgets/controls",
     "model_name": "ProgressStyleModel",
     "state": {
      "_model_module": "@jupyter-widgets/controls",
      "_model_module_version": "1.5.0",
      "_model_name": "ProgressStyleModel",
      "_view_count": null,
      "_view_module": "@jupyter-widgets/base",
      "_view_module_version": "1.2.0",
      "_view_name": "StyleView",
      "bar_color": null,
      "description_width": "initial"
     }
    },
    "1cffc92b4baf44bca5fadc2466c852cb": {
     "model_module": "@jupyter-widgets/base",
     "model_name": "LayoutModel",
     "state": {
      "_model_module": "@jupyter-widgets/base",
      "_model_module_version": "1.2.0",
      "_model_name": "LayoutModel",
      "_view_count": null,
      "_view_module": "@jupyter-widgets/base",
      "_view_module_version": "1.2.0",
      "_view_name": "LayoutView",
      "align_content": null,
      "align_items": null,
      "align_self": null,
      "border": null,
      "bottom": null,
      "display": null,
      "flex": null,
      "flex_flow": null,
      "grid_area": null,
      "grid_auto_columns": null,
      "grid_auto_flow": null,
      "grid_auto_rows": null,
      "grid_column": null,
      "grid_gap": null,
      "grid_row": null,
      "grid_template_areas": null,
      "grid_template_columns": null,
      "grid_template_rows": null,
      "height": null,
      "justify_content": null,
      "justify_items": null,
      "left": null,
      "margin": null,
      "max_height": null,
      "max_width": null,
      "min_height": null,
      "min_width": null,
      "object_fit": null,
      "object_position": null,
      "order": null,
      "overflow": null,
      "overflow_x": null,
      "overflow_y": null,
      "padding": null,
      "right": null,
      "top": null,
      "visibility": null,
      "width": null
     }
    },
    "27eb3f971b3e4f6790fe6569b2e8e5ab": {
     "model_module": "@jupyter-widgets/controls",
     "model_name": "ProgressStyleModel",
     "state": {
      "_model_module": "@jupyter-widgets/controls",
      "_model_module_version": "1.5.0",
      "_model_name": "ProgressStyleModel",
      "_view_count": null,
      "_view_module": "@jupyter-widgets/base",
      "_view_module_version": "1.2.0",
      "_view_name": "StyleView",
      "bar_color": null,
      "description_width": "initial"
     }
    },
    "2802055011d7492ca018ae7d8cba5d83": {
     "model_module": "@jupyter-widgets/controls",
     "model_name": "DescriptionStyleModel",
     "state": {
      "_model_module": "@jupyter-widgets/controls",
      "_model_module_version": "1.5.0",
      "_model_name": "DescriptionStyleModel",
      "_view_count": null,
      "_view_module": "@jupyter-widgets/base",
      "_view_module_version": "1.2.0",
      "_view_name": "StyleView",
      "description_width": ""
     }
    },
    "2a6daad2f9c34bdeb81ef6d94c516041": {
     "model_module": "@jupyter-widgets/controls",
     "model_name": "HBoxModel",
     "state": {
      "_dom_classes": [],
      "_model_module": "@jupyter-widgets/controls",
      "_model_module_version": "1.5.0",
      "_model_name": "HBoxModel",
      "_view_count": null,
      "_view_module": "@jupyter-widgets/controls",
      "_view_module_version": "1.5.0",
      "_view_name": "HBoxView",
      "box_style": "",
      "children": [
       "IPY_MODEL_2dfe898a66a64559b80881a081f24bd7",
       "IPY_MODEL_535adfbebfab41f580b4d6bef7098936"
      ],
      "layout": "IPY_MODEL_fc51182f96b145cdab6f09727816072f"
     }
    },
    "2abf887f51ff4f04ae04f513d576af9d": {
     "model_module": "@jupyter-widgets/controls",
     "model_name": "HTMLModel",
     "state": {
      "_dom_classes": [],
      "_model_module": "@jupyter-widgets/controls",
      "_model_module_version": "1.5.0",
      "_model_name": "HTMLModel",
      "_view_count": null,
      "_view_module": "@jupyter-widgets/controls",
      "_view_module_version": "1.5.0",
      "_view_name": "HTMLView",
      "description": "",
      "description_tooltip": null,
      "layout": "IPY_MODEL_8a6a7d164eae491bbc1286c2a59f0185",
      "placeholder": "​",
      "style": "IPY_MODEL_eef99d8169fe448ebd59afbf112fe9c0",
      "value": " 433/433 [00:01&lt;00:00, 268B/s]"
     }
    },
    "2c50fecfa43b4ba597e03a93aa0765e9": {
     "model_module": "@jupyter-widgets/controls",
     "model_name": "HTMLModel",
     "state": {
      "_dom_classes": [],
      "_model_module": "@jupyter-widgets/controls",
      "_model_module_version": "1.5.0",
      "_model_name": "HTMLModel",
      "_view_count": null,
      "_view_module": "@jupyter-widgets/controls",
      "_view_module_version": "1.5.0",
      "_view_name": "HTMLView",
      "description": "",
      "description_tooltip": null,
      "layout": "IPY_MODEL_e2ecc769605447899bf47b88d212535c",
      "placeholder": "​",
      "style": "IPY_MODEL_0d5ebb95e7d4468c9cc3670562bdd0b7",
      "value": " 213k/213k [00:00&lt;00:00, 285kB/s]"
     }
    },
    "2d8778fbf0af4fc9a83262d624a8fa88": {
     "model_module": "@jupyter-widgets/controls",
     "model_name": "IntProgressModel",
     "state": {
      "_dom_classes": [],
      "_model_module": "@jupyter-widgets/controls",
      "_model_module_version": "1.5.0",
      "_model_name": "IntProgressModel",
      "_view_count": null,
      "_view_module": "@jupyter-widgets/controls",
      "_view_module_version": "1.5.0",
      "_view_name": "ProgressView",
      "bar_style": "success",
      "description": "Downloading: 100%",
      "description_tooltip": null,
      "layout": "IPY_MODEL_6b32880c31254a60a9da83bcd40b593f",
      "max": 433,
      "min": 0,
      "orientation": "horizontal",
      "style": "IPY_MODEL_1b57f9b73a6e4a8b8e47bbea1131a788",
      "value": 433
     }
    },
    "2dfe898a66a64559b80881a081f24bd7": {
     "model_module": "@jupyter-widgets/controls",
     "model_name": "IntProgressModel",
     "state": {
      "_dom_classes": [],
      "_model_module": "@jupyter-widgets/controls",
      "_model_module_version": "1.5.0",
      "_model_name": "IntProgressModel",
      "_view_count": null,
      "_view_module": "@jupyter-widgets/controls",
      "_view_module_version": "1.5.0",
      "_view_name": "ProgressView",
      "bar_style": "success",
      "description": "Downloading: 100%",
      "description_tooltip": null,
      "layout": "IPY_MODEL_d23069250cdf4cf7a661fb9f9f3643c5",
      "max": 435779157,
      "min": 0,
      "orientation": "horizontal",
      "style": "IPY_MODEL_27eb3f971b3e4f6790fe6569b2e8e5ab",
      "value": 435779157
     }
    },
    "535adfbebfab41f580b4d6bef7098936": {
     "model_module": "@jupyter-widgets/controls",
     "model_name": "HTMLModel",
     "state": {
      "_dom_classes": [],
      "_model_module": "@jupyter-widgets/controls",
      "_model_module_version": "1.5.0",
      "_model_name": "HTMLModel",
      "_view_count": null,
      "_view_module": "@jupyter-widgets/controls",
      "_view_module_version": "1.5.0",
      "_view_name": "HTMLView",
      "description": "",
      "description_tooltip": null,
      "layout": "IPY_MODEL_7fbb804f0cac486eb3ba6e3054a3e07e",
      "placeholder": "​",
      "style": "IPY_MODEL_2802055011d7492ca018ae7d8cba5d83",
      "value": " 436M/436M [00:44&lt;00:00, 9.74MB/s]"
     }
    },
    "65c4ca8e9e3a4b859ea2608a2f2060df": {
     "model_module": "@jupyter-widgets/controls",
     "model_name": "ProgressStyleModel",
     "state": {
      "_model_module": "@jupyter-widgets/controls",
      "_model_module_version": "1.5.0",
      "_model_name": "ProgressStyleModel",
      "_view_count": null,
      "_view_module": "@jupyter-widgets/base",
      "_view_module_version": "1.2.0",
      "_view_name": "StyleView",
      "bar_color": null,
      "description_width": "initial"
     }
    },
    "6b32880c31254a60a9da83bcd40b593f": {
     "model_module": "@jupyter-widgets/base",
     "model_name": "LayoutModel",
     "state": {
      "_model_module": "@jupyter-widgets/base",
      "_model_module_version": "1.2.0",
      "_model_name": "LayoutModel",
      "_view_count": null,
      "_view_module": "@jupyter-widgets/base",
      "_view_module_version": "1.2.0",
      "_view_name": "LayoutView",
      "align_content": null,
      "align_items": null,
      "align_self": null,
      "border": null,
      "bottom": null,
      "display": null,
      "flex": null,
      "flex_flow": null,
      "grid_area": null,
      "grid_auto_columns": null,
      "grid_auto_flow": null,
      "grid_auto_rows": null,
      "grid_column": null,
      "grid_gap": null,
      "grid_row": null,
      "grid_template_areas": null,
      "grid_template_columns": null,
      "grid_template_rows": null,
      "height": null,
      "justify_content": null,
      "justify_items": null,
      "left": null,
      "margin": null,
      "max_height": null,
      "max_width": null,
      "min_height": null,
      "min_width": null,
      "object_fit": null,
      "object_position": null,
      "order": null,
      "overflow": null,
      "overflow_x": null,
      "overflow_y": null,
      "padding": null,
      "right": null,
      "top": null,
      "visibility": null,
      "width": null
     }
    },
    "7fbb804f0cac486eb3ba6e3054a3e07e": {
     "model_module": "@jupyter-widgets/base",
     "model_name": "LayoutModel",
     "state": {
      "_model_module": "@jupyter-widgets/base",
      "_model_module_version": "1.2.0",
      "_model_name": "LayoutModel",
      "_view_count": null,
      "_view_module": "@jupyter-widgets/base",
      "_view_module_version": "1.2.0",
      "_view_name": "LayoutView",
      "align_content": null,
      "align_items": null,
      "align_self": null,
      "border": null,
      "bottom": null,
      "display": null,
      "flex": null,
      "flex_flow": null,
      "grid_area": null,
      "grid_auto_columns": null,
      "grid_auto_flow": null,
      "grid_auto_rows": null,
      "grid_column": null,
      "grid_gap": null,
      "grid_row": null,
      "grid_template_areas": null,
      "grid_template_columns": null,
      "grid_template_rows": null,
      "height": null,
      "justify_content": null,
      "justify_items": null,
      "left": null,
      "margin": null,
      "max_height": null,
      "max_width": null,
      "min_height": null,
      "min_width": null,
      "object_fit": null,
      "object_position": null,
      "order": null,
      "overflow": null,
      "overflow_x": null,
      "overflow_y": null,
      "padding": null,
      "right": null,
      "top": null,
      "visibility": null,
      "width": null
     }
    },
    "8a6a7d164eae491bbc1286c2a59f0185": {
     "model_module": "@jupyter-widgets/base",
     "model_name": "LayoutModel",
     "state": {
      "_model_module": "@jupyter-widgets/base",
      "_model_module_version": "1.2.0",
      "_model_name": "LayoutModel",
      "_view_count": null,
      "_view_module": "@jupyter-widgets/base",
      "_view_module_version": "1.2.0",
      "_view_name": "LayoutView",
      "align_content": null,
      "align_items": null,
      "align_self": null,
      "border": null,
      "bottom": null,
      "display": null,
      "flex": null,
      "flex_flow": null,
      "grid_area": null,
      "grid_auto_columns": null,
      "grid_auto_flow": null,
      "grid_auto_rows": null,
      "grid_column": null,
      "grid_gap": null,
      "grid_row": null,
      "grid_template_areas": null,
      "grid_template_columns": null,
      "grid_template_rows": null,
      "height": null,
      "justify_content": null,
      "justify_items": null,
      "left": null,
      "margin": null,
      "max_height": null,
      "max_width": null,
      "min_height": null,
      "min_width": null,
      "object_fit": null,
      "object_position": null,
      "order": null,
      "overflow": null,
      "overflow_x": null,
      "overflow_y": null,
      "padding": null,
      "right": null,
      "top": null,
      "visibility": null,
      "width": null
     }
    },
    "9b10efc6ba5a45e5b7b75869deb14a5a": {
     "model_module": "@jupyter-widgets/base",
     "model_name": "LayoutModel",
     "state": {
      "_model_module": "@jupyter-widgets/base",
      "_model_module_version": "1.2.0",
      "_model_name": "LayoutModel",
      "_view_count": null,
      "_view_module": "@jupyter-widgets/base",
      "_view_module_version": "1.2.0",
      "_view_name": "LayoutView",
      "align_content": null,
      "align_items": null,
      "align_self": null,
      "border": null,
      "bottom": null,
      "display": null,
      "flex": null,
      "flex_flow": null,
      "grid_area": null,
      "grid_auto_columns": null,
      "grid_auto_flow": null,
      "grid_auto_rows": null,
      "grid_column": null,
      "grid_gap": null,
      "grid_row": null,
      "grid_template_areas": null,
      "grid_template_columns": null,
      "grid_template_rows": null,
      "height": null,
      "justify_content": null,
      "justify_items": null,
      "left": null,
      "margin": null,
      "max_height": null,
      "max_width": null,
      "min_height": null,
      "min_width": null,
      "object_fit": null,
      "object_position": null,
      "order": null,
      "overflow": null,
      "overflow_x": null,
      "overflow_y": null,
      "padding": null,
      "right": null,
      "top": null,
      "visibility": null,
      "width": null
     }
    },
    "b63d7e2edc6e4a63832974ef5e445874": {
     "model_module": "@jupyter-widgets/controls",
     "model_name": "IntProgressModel",
     "state": {
      "_dom_classes": [],
      "_model_module": "@jupyter-widgets/controls",
      "_model_module_version": "1.5.0",
      "_model_name": "IntProgressModel",
      "_view_count": null,
      "_view_module": "@jupyter-widgets/controls",
      "_view_module_version": "1.5.0",
      "_view_name": "ProgressView",
      "bar_style": "success",
      "description": "Downloading: 100%",
      "description_tooltip": null,
      "layout": "IPY_MODEL_1cffc92b4baf44bca5fadc2466c852cb",
      "max": 213450,
      "min": 0,
      "orientation": "horizontal",
      "style": "IPY_MODEL_65c4ca8e9e3a4b859ea2608a2f2060df",
      "value": 213450
     }
    },
    "bb15398cf40c40c09bb0625665d514ac": {
     "model_module": "@jupyter-widgets/controls",
     "model_name": "HBoxModel",
     "state": {
      "_dom_classes": [],
      "_model_module": "@jupyter-widgets/controls",
      "_model_module_version": "1.5.0",
      "_model_name": "HBoxModel",
      "_view_count": null,
      "_view_module": "@jupyter-widgets/controls",
      "_view_module_version": "1.5.0",
      "_view_name": "HBoxView",
      "box_style": "",
      "children": [
       "IPY_MODEL_2d8778fbf0af4fc9a83262d624a8fa88",
       "IPY_MODEL_2abf887f51ff4f04ae04f513d576af9d"
      ],
      "layout": "IPY_MODEL_9b10efc6ba5a45e5b7b75869deb14a5a"
     }
    },
    "c76da9eeda944d1ea2947aee3b2c66be": {
     "model_module": "@jupyter-widgets/controls",
     "model_name": "HBoxModel",
     "state": {
      "_dom_classes": [],
      "_model_module": "@jupyter-widgets/controls",
      "_model_module_version": "1.5.0",
      "_model_name": "HBoxModel",
      "_view_count": null,
      "_view_module": "@jupyter-widgets/controls",
      "_view_module_version": "1.5.0",
      "_view_name": "HBoxView",
      "box_style": "",
      "children": [
       "IPY_MODEL_b63d7e2edc6e4a63832974ef5e445874",
       "IPY_MODEL_2c50fecfa43b4ba597e03a93aa0765e9"
      ],
      "layout": "IPY_MODEL_d0c366c508cd478e9a3195bbeb1c0025"
     }
    },
    "d0c366c508cd478e9a3195bbeb1c0025": {
     "model_module": "@jupyter-widgets/base",
     "model_name": "LayoutModel",
     "state": {
      "_model_module": "@jupyter-widgets/base",
      "_model_module_version": "1.2.0",
      "_model_name": "LayoutModel",
      "_view_count": null,
      "_view_module": "@jupyter-widgets/base",
      "_view_module_version": "1.2.0",
      "_view_name": "LayoutView",
      "align_content": null,
      "align_items": null,
      "align_self": null,
      "border": null,
      "bottom": null,
      "display": null,
      "flex": null,
      "flex_flow": null,
      "grid_area": null,
      "grid_auto_columns": null,
      "grid_auto_flow": null,
      "grid_auto_rows": null,
      "grid_column": null,
      "grid_gap": null,
      "grid_row": null,
      "grid_template_areas": null,
      "grid_template_columns": null,
      "grid_template_rows": null,
      "height": null,
      "justify_content": null,
      "justify_items": null,
      "left": null,
      "margin": null,
      "max_height": null,
      "max_width": null,
      "min_height": null,
      "min_width": null,
      "object_fit": null,
      "object_position": null,
      "order": null,
      "overflow": null,
      "overflow_x": null,
      "overflow_y": null,
      "padding": null,
      "right": null,
      "top": null,
      "visibility": null,
      "width": null
     }
    },
    "d23069250cdf4cf7a661fb9f9f3643c5": {
     "model_module": "@jupyter-widgets/base",
     "model_name": "LayoutModel",
     "state": {
      "_model_module": "@jupyter-widgets/base",
      "_model_module_version": "1.2.0",
      "_model_name": "LayoutModel",
      "_view_count": null,
      "_view_module": "@jupyter-widgets/base",
      "_view_module_version": "1.2.0",
      "_view_name": "LayoutView",
      "align_content": null,
      "align_items": null,
      "align_self": null,
      "border": null,
      "bottom": null,
      "display": null,
      "flex": null,
      "flex_flow": null,
      "grid_area": null,
      "grid_auto_columns": null,
      "grid_auto_flow": null,
      "grid_auto_rows": null,
      "grid_column": null,
      "grid_gap": null,
      "grid_row": null,
      "grid_template_areas": null,
      "grid_template_columns": null,
      "grid_template_rows": null,
      "height": null,
      "justify_content": null,
      "justify_items": null,
      "left": null,
      "margin": null,
      "max_height": null,
      "max_width": null,
      "min_height": null,
      "min_width": null,
      "object_fit": null,
      "object_position": null,
      "order": null,
      "overflow": null,
      "overflow_x": null,
      "overflow_y": null,
      "padding": null,
      "right": null,
      "top": null,
      "visibility": null,
      "width": null
     }
    },
    "e2ecc769605447899bf47b88d212535c": {
     "model_module": "@jupyter-widgets/base",
     "model_name": "LayoutModel",
     "state": {
      "_model_module": "@jupyter-widgets/base",
      "_model_module_version": "1.2.0",
      "_model_name": "LayoutModel",
      "_view_count": null,
      "_view_module": "@jupyter-widgets/base",
      "_view_module_version": "1.2.0",
      "_view_name": "LayoutView",
      "align_content": null,
      "align_items": null,
      "align_self": null,
      "border": null,
      "bottom": null,
      "display": null,
      "flex": null,
      "flex_flow": null,
      "grid_area": null,
      "grid_auto_columns": null,
      "grid_auto_flow": null,
      "grid_auto_rows": null,
      "grid_column": null,
      "grid_gap": null,
      "grid_row": null,
      "grid_template_areas": null,
      "grid_template_columns": null,
      "grid_template_rows": null,
      "height": null,
      "justify_content": null,
      "justify_items": null,
      "left": null,
      "margin": null,
      "max_height": null,
      "max_width": null,
      "min_height": null,
      "min_width": null,
      "object_fit": null,
      "object_position": null,
      "order": null,
      "overflow": null,
      "overflow_x": null,
      "overflow_y": null,
      "padding": null,
      "right": null,
      "top": null,
      "visibility": null,
      "width": null
     }
    },
    "eef99d8169fe448ebd59afbf112fe9c0": {
     "model_module": "@jupyter-widgets/controls",
     "model_name": "DescriptionStyleModel",
     "state": {
      "_model_module": "@jupyter-widgets/controls",
      "_model_module_version": "1.5.0",
      "_model_name": "DescriptionStyleModel",
      "_view_count": null,
      "_view_module": "@jupyter-widgets/base",
      "_view_module_version": "1.2.0",
      "_view_name": "StyleView",
      "description_width": ""
     }
    },
    "fc51182f96b145cdab6f09727816072f": {
     "model_module": "@jupyter-widgets/base",
     "model_name": "LayoutModel",
     "state": {
      "_model_module": "@jupyter-widgets/base",
      "_model_module_version": "1.2.0",
      "_model_name": "LayoutModel",
      "_view_count": null,
      "_view_module": "@jupyter-widgets/base",
      "_view_module_version": "1.2.0",
      "_view_name": "LayoutView",
      "align_content": null,
      "align_items": null,
      "align_self": null,
      "border": null,
      "bottom": null,
      "display": null,
      "flex": null,
      "flex_flow": null,
      "grid_area": null,
      "grid_auto_columns": null,
      "grid_auto_flow": null,
      "grid_auto_rows": null,
      "grid_column": null,
      "grid_gap": null,
      "grid_row": null,
      "grid_template_areas": null,
      "grid_template_columns": null,
      "grid_template_rows": null,
      "height": null,
      "justify_content": null,
      "justify_items": null,
      "left": null,
      "margin": null,
      "max_height": null,
      "max_width": null,
      "min_height": null,
      "min_width": null,
      "object_fit": null,
      "object_position": null,
      "order": null,
      "overflow": null,
      "overflow_x": null,
      "overflow_y": null,
      "padding": null,
      "right": null,
      "top": null,
      "visibility": null,
      "width": null
     }
    }
   }
  }
 },
 "nbformat": 4,
 "nbformat_minor": 1
}
