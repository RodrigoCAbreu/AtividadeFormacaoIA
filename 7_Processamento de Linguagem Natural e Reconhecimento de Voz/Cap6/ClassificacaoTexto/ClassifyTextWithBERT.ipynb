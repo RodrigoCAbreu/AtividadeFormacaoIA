{
 "cells": [
  {
   "cell_type": "code",
   "execution_count": 1,
   "id": "bf664d9c",
   "metadata": {},
   "outputs": [],
   "source": [
    "# Instalando dependências\n",
    "# !pip install -q -U \"tensorflow-text==2.8.*\"\n",
    "\n",
    "# !pip install -q tf-models-official"
   ]
  },
  {
   "cell_type": "code",
   "execution_count": 2,
   "id": "83b15038",
   "metadata": {},
   "outputs": [],
   "source": [
    "import os\n",
    "import shutil\n",
    "\n",
    "import tensorflow as tf\n",
    "import tensorflow_hub as hub\n",
    "import tensorflow_text as text\n",
    "from official.nlp import optimization  # Cria AdamW optimizer\n",
    "\n",
    "import matplotlib.pyplot as plt\n",
    "\n",
    "tf.get_logger().setLevel('ERROR')"
   ]
  },
  {
   "cell_type": "code",
   "execution_count": 3,
   "id": "b5b432cc",
   "metadata": {},
   "outputs": [],
   "source": [
    "# Download IMDB dataset\n",
    "\n",
    "url = 'https://ai.stanford.edu/~amaas/data/sentiment/aclImdb_v1.tar.gz'\n",
    "\n",
    "dataset = tf.keras.utils.get_file('aclImdb_v1.tar.gz', url,\n",
    "                                  untar=True, cache_dir='.',\n",
    "                                  cache_subdir='')\n",
    "\n",
    "dataset_dir = os.path.join(os.path.dirname(dataset), 'aclImdb')\n",
    "\n",
    "train_dir = os.path.join(dataset_dir, 'train')\n",
    "\n",
    "# remove unused folders to make it easier to load the data\n",
    "remove_dir = os.path.join(train_dir, 'unsup')\n",
    "shutil.rmtree(remove_dir)"
   ]
  },
  {
   "cell_type": "code",
   "execution_count": 4,
   "id": "14c618a8",
   "metadata": {},
   "outputs": [
    {
     "name": "stdout",
     "output_type": "stream",
     "text": [
      "Found 25000 files belonging to 2 classes.\n",
      "Using 20000 files for training.\n",
      "Found 25000 files belonging to 2 classes.\n",
      "Using 5000 files for validation.\n",
      "Found 25000 files belonging to 2 classes.\n"
     ]
    }
   ],
   "source": [
    "#Valores padrões\n",
    "AUTOTUNE = tf.data.AUTOTUNE\n",
    "batch_size = 32\n",
    "seed = 10\n",
    "\n",
    "# Cria dataset de treino\n",
    "raw_train_ds = tf.keras.utils.text_dataset_from_directory(\n",
    "    'aclImdb/train',\n",
    "    batch_size=batch_size,\n",
    "    validation_split=0.2, # 20% dos dados de treinos separados para validação\n",
    "    subset='training',\n",
    "    seed=seed)\n",
    "\n",
    "class_names = raw_train_ds.class_names\n",
    "train_ds = raw_train_ds.cache().prefetch(buffer_size=AUTOTUNE)\n",
    "\n",
    "val_ds = tf.keras.utils.text_dataset_from_directory(\n",
    "    'aclImdb/train',\n",
    "    batch_size=batch_size,\n",
    "    validation_split=0.2,\n",
    "    subset='validation',\n",
    "    seed=seed)\n",
    "\n",
    "val_ds = val_ds.cache().prefetch(buffer_size=AUTOTUNE)\n",
    "\n",
    "# Cria dataset de teste\n",
    "test_ds = tf.keras.utils.text_dataset_from_directory(\n",
    "    'aclImdb/test',\n",
    "    batch_size=batch_size)\n",
    "\n",
    "test_ds = test_ds.cache().prefetch(buffer_size=AUTOTUNE)"
   ]
  },
  {
   "cell_type": "code",
   "execution_count": 5,
   "id": "043cb588",
   "metadata": {},
   "outputs": [
    {
     "name": "stdout",
     "output_type": "stream",
     "text": [
      "Review: b'There are laughs in this film, that is for sure. Michael Keaton is a talent and he used to be funny (before he decided he was a serious actor). However, what bothers me so much about this film, is how unlikable practically all of the characters are. Other than the main two leads, everybody is a jerk. I mean, these small town losers are about as uncouth as you can get. You just watch and think, man, these losers should be unemployed. Moreover, the American factory worker is portrayed as a lazy and ungrateful slob. It made me wonder if this film was made by Japanese nationalists. Oh sure, in the end they all come together as one, but I just did not enjoy the trip to get there.'\n",
      "Label : 0 (neg)\n",
      "Review: b'Stephen J. Cannell apparently decided a few years ago that he would broaden his horizons and dabble in horror. The result, \"Dead Above Ground\", is an abysmal piece of junk. Now, had I noticed his name in association with THIS particular film I\\'d have put it back but no, I didn\\'t have my glasses on and therefore I missed it, damn, I really do need to bring those with me while video shopping. First question would be, who the heck is the target audience for this? It\\'s almost like a \"scary\" kids movie, but then again there\\'s topless babes and some gore and some bad words spouted here and there. The main characters are so cute that you want to see someone, anyone, go after them with farm implements of SOME kind. Seems that a guy opens a bed and breakfast that has a checkered past, a child-murdering witch that collected children\\'s teeth lived there. Probably something the real estate agent failed to mention. Of course now in the modern day there\\'s a little girls ghost around to warn the real-live little girl that now lives there that something bad is going to happen. It does, and there\\'s also two Bubbas that were squatting on that property when the new owner took over so they\\'re out for revenge too. This whole thing has the feel of some made-for-cable junk that\\'s for the kids at Halloween except for, of course, the things that aren\\'t suitable for little kids, so not only is this mediocre, it\\'s confused, too. A big boo and hiss to Anchor Bay for putting this out too, considering their usual track record with fine releases this is a new low. The UK gets a Phantasm Box Set, we get \"The Tooth Fairy\". Hardly seems fair. 1 out of 10, absolute garbage.'\n",
      "Label : 0 (neg)\n",
      "Review: b\"The title should have been the walker. The guy expend 90% of the movie walking. He doesn't know what he wants, or what he is. Go through life stealing peoples identity for nothing. He gets no benefit, no money, nothing pretending to be another person.<br /><br />No body was able to understand why he was pretending to be somebody else.<br /><br />The only thing that was clear in this movie is that he love his father and was a good son. But the rest was crap.<br /><br />May be director is a looser that would like to be somebody else. But what he really should do is to get a real job, because after his movie, I don't think he has a chance to make as a movie producer.\"\n",
      "Label : 0 (neg)\n"
     ]
    }
   ],
   "source": [
    "# Imprime 3 comentários\n",
    "for text_batch, label_batch in train_ds.take(1):\n",
    "  for i in range(3):\n",
    "    print(f'Review: {text_batch.numpy()[i]}')\n",
    "    label = label_batch.numpy()[i]\n",
    "    print(f'Label : {label} ({class_names[label]})')"
   ]
  },
  {
   "cell_type": "code",
   "execution_count": 6,
   "id": "6dbd6450",
   "metadata": {},
   "outputs": [
    {
     "name": "stdout",
     "output_type": "stream",
     "text": [
      "BERT modelo selecionado           : https://tfhub.dev/tensorflow/small_bert/bert_en_uncased_L-4_H-512_A-8/1\n",
      "Pré-processador do modelo selecionado: https://tfhub.dev/tensorflow/bert_en_uncased_preprocess/3\n"
     ]
    }
   ],
   "source": [
    "# Selecionando o modelo BERT (BERT Multilingual)\n",
    "\n",
    "#Nome do modelo\n",
    "# bert_model_name = 'bert_multi_cased_L-12_H-768_A-12' \n",
    "\n",
    "bert_model_name = 'small_bert/bert_en_uncased_L-4_H-512_A-8'\n",
    "\n",
    "#Endereço do modelo TensorHub\n",
    "map_name_to_handle = {\n",
    "    'bert_multi_cased_L-12_H-768_A-12':\n",
    "        'https://tfhub.dev/tensorflow/bert_multi_cased_L-12_H-768_A-12/3',\n",
    "    'small_bert/bert_en_uncased_L-4_H-512_A-8':\n",
    "        'https://tfhub.dev/tensorflow/small_bert/bert_en_uncased_L-4_H-512_A-8/1',\n",
    "}\n",
    "\n",
    "#Pré-processador para o modelo escolhido\n",
    "map_model_to_preprocess = {\n",
    "    'bert_multi_cased_L-12_H-768_A-12':\n",
    "        'https://tfhub.dev/tensorflow/bert_multi_cased_preprocess/3',\n",
    "    'small_bert/bert_en_uncased_L-4_H-512_A-8':\n",
    "        'https://tfhub.dev/tensorflow/bert_en_uncased_preprocess/3',\n",
    "}\n",
    "\n",
    "tfhub_handle_encoder = map_name_to_handle[bert_model_name]\n",
    "\n",
    "tfhub_handle_preprocess = map_model_to_preprocess[bert_model_name]\n",
    "\n",
    "print(f'BERT modelo selecionado           : {tfhub_handle_encoder}')\n",
    "print(f'Pré-processador do modelo selecionado: {tfhub_handle_preprocess}')"
   ]
  },
  {
   "cell_type": "code",
   "execution_count": 7,
   "id": "799010ba",
   "metadata": {},
   "outputs": [],
   "source": [
    "# Carrega o modelo de pré-processamento\n",
    "bert_preprocess_model = hub.KerasLayer(tfhub_handle_preprocess)"
   ]
  },
  {
   "cell_type": "code",
   "execution_count": 8,
   "id": "0e3f04cc",
   "metadata": {},
   "outputs": [
    {
     "name": "stdout",
     "output_type": "stream",
     "text": [
      "Keys       : ['input_word_ids', 'input_mask', 'input_type_ids']\n",
      "Shape      : (1, 128)\n",
      "Ids das palavras  : [ 101 2023 2003 2107 2019 6429 3185  999  102    0    0    0]\n",
      "Input Mask : [1 1 1 1 1 1 1 1 1 0 0 0]\n",
      "Type Ids   : [0 0 0 0 0 0 0 0 0 0 0 0]\n"
     ]
    }
   ],
   "source": [
    "# Validando modelo\n",
    "\n",
    "text_test = ['this is such an amazing movie!']\n",
    "text_preprocessed = bert_preprocess_model(text_test)\n",
    "\n",
    "print(f'Keys       : {list(text_preprocessed.keys())}')\n",
    "print(f'Shape      : {text_preprocessed[\"input_word_ids\"].shape}')\n",
    "print(f'Ids das palavras  : {text_preprocessed[\"input_word_ids\"][0, :12]}')\n",
    "print(f'Input Mask : {text_preprocessed[\"input_mask\"][0, :12]}')\n",
    "print(f'Type Ids   : {text_preprocessed[\"input_type_ids\"][0, :12]}')"
   ]
  },
  {
   "cell_type": "code",
   "execution_count": 9,
   "id": "b0df2cfc",
   "metadata": {},
   "outputs": [],
   "source": [
    "# Função para criar o modelo BERT\n",
    "\n",
    "def build_classifier_model():\n",
    "    \n",
    "    text_input = tf.keras.layers.Input(shape=(), dtype=tf.string, name='text')\n",
    "    \n",
    "    preprocessing_layer = hub.KerasLayer(tfhub_handle_preprocess, name='preprocessing')\n",
    "    \n",
    "    encoder_inputs = preprocessing_layer(text_input)\n",
    "    \n",
    "    encoder = hub.KerasLayer(tfhub_handle_encoder, trainable=True, name='BERT_encoder')\n",
    "    \n",
    "    outputs = encoder(encoder_inputs)\n",
    "    \n",
    "    net = outputs['pooled_output']\n",
    "    \n",
    "    net = tf.keras.layers.Dropout(0.1)(net)\n",
    "    \n",
    "    net = tf.keras.layers.Dense(1, activation=None, name='classifier')(net)\n",
    "    \n",
    "    return tf.keras.Model(text_input, net)"
   ]
  },
  {
   "cell_type": "code",
   "execution_count": 10,
   "id": "96a16ba6",
   "metadata": {},
   "outputs": [
    {
     "name": "stdout",
     "output_type": "stream",
     "text": [
      "tf.Tensor([[0.9140357]], shape=(1, 1), dtype=float32)\n"
     ]
    }
   ],
   "source": [
    "#Validando o funcionamento do modelo com a saída do pré-processamento\n",
    "classifier_model = build_classifier_model()\n",
    "bert_raw_result = classifier_model(tf.constant(text_test))\n",
    "print(tf.sigmoid(bert_raw_result))"
   ]
  },
  {
   "cell_type": "code",
   "execution_count": 11,
   "id": "8a243b6f",
   "metadata": {},
   "outputs": [],
   "source": [
    "# Cria a função de perda para um modelo de classificação binária\n",
    "\n",
    "loss = tf.keras.losses.BinaryCrossentropy(from_logits=True)\n",
    "metrics = tf.metrics.BinaryAccuracy()"
   ]
  },
  {
   "cell_type": "code",
   "execution_count": 12,
   "id": "ce6b7932",
   "metadata": {},
   "outputs": [],
   "source": [
    "# Define optimizador para o treinamento do modelo\n",
    "\n",
    "#Número de épocas\n",
    "epochs = 5\n",
    "\n",
    "steps_per_epoch = tf.data.experimental.cardinality(train_ds).numpy()\n",
    "num_train_steps = steps_per_epoch * epochs\n",
    "num_warmup_steps = int(0.1*num_train_steps)\n",
    "\n",
    "#Taxa de inicialização\n",
    "init_lr = 3e-5\n",
    "\n",
    "#Otimizador\n",
    "optimizer = optimization.create_optimizer(init_lr=init_lr,\n",
    "                                          num_train_steps=num_train_steps,\n",
    "                                          num_warmup_steps=num_warmup_steps,\n",
    "                                          optimizer_type='adamw')"
   ]
  },
  {
   "cell_type": "code",
   "execution_count": 13,
   "id": "72ea90c5",
   "metadata": {},
   "outputs": [],
   "source": [
    "# Compila o modelo\n",
    "classifier_model.compile(optimizer=optimizer,\n",
    "                         loss=loss,\n",
    "                         metrics=metrics)"
   ]
  },
  {
   "cell_type": "code",
   "execution_count": 14,
   "id": "a87c8bc2",
   "metadata": {
    "scrolled": false
   },
   "outputs": [
    {
     "name": "stdout",
     "output_type": "stream",
     "text": [
      "Treinando o modelo com: https://tfhub.dev/tensorflow/small_bert/bert_en_uncased_L-4_H-512_A-8/1\n",
      "Epoch 1/5\n",
      "625/625 [==============================] - 276s 435ms/step - loss: 0.5107 - binary_accuracy: 0.7322 - val_loss: 0.3796 - val_binary_accuracy: 0.8244\n",
      "Epoch 2/5\n",
      "625/625 [==============================] - 269s 431ms/step - loss: 0.3297 - binary_accuracy: 0.8513 - val_loss: 0.3882 - val_binary_accuracy: 0.8358\n",
      "Epoch 3/5\n",
      "625/625 [==============================] - 270s 432ms/step - loss: 0.2512 - binary_accuracy: 0.8971 - val_loss: 0.4116 - val_binary_accuracy: 0.8456\n",
      "Epoch 4/5\n",
      "625/625 [==============================] - 269s 431ms/step - loss: 0.1926 - binary_accuracy: 0.9265 - val_loss: 0.4457 - val_binary_accuracy: 0.8528\n",
      "Epoch 5/5\n",
      "625/625 [==============================] - 269s 430ms/step - loss: 0.1520 - binary_accuracy: 0.9428 - val_loss: 0.4737 - val_binary_accuracy: 0.8542\n"
     ]
    }
   ],
   "source": [
    "# Treinamento do modelo\n",
    "\n",
    "print(f'Treinando o modelo com: {tfhub_handle_encoder}')\n",
    "history = classifier_model.fit(x=train_ds,\n",
    "                               validation_data=val_ds,\n",
    "                               epochs=epochs)"
   ]
  },
  {
   "cell_type": "code",
   "execution_count": 15,
   "id": "d971ca41",
   "metadata": {},
   "outputs": [
    {
     "name": "stdout",
     "output_type": "stream",
     "text": [
      "782/782 [==============================] - 142s 182ms/step - loss: 0.4655 - binary_accuracy: 0.8532\n",
      "Loss: 0.4654960632324219\n",
      "Accuracy: 0.8532400131225586\n"
     ]
    }
   ],
   "source": [
    "loss, accuracy = classifier_model.evaluate(test_ds)\n",
    "\n",
    "print(f'Loss: {loss}')\n",
    "print(f'Accuracy: {accuracy}')"
   ]
  },
  {
   "cell_type": "code",
   "execution_count": 16,
   "id": "1746b4d2",
   "metadata": {},
   "outputs": [
    {
     "name": "stdout",
     "output_type": "stream",
     "text": [
      "dict_keys(['loss', 'binary_accuracy', 'val_loss', 'val_binary_accuracy'])\n"
     ]
    },
    {
     "data": {
      "text/plain": [
       "<matplotlib.legend.Legend at 0x2315148ce80>"
      ]
     },
     "execution_count": 16,
     "metadata": {},
     "output_type": "execute_result"
    },
    {
     "data": {
      "image/png": "[encoded data removed]",
      "text/plain": [
       "<Figure size 720x432 with 2 Axes>"
      ]
     },
     "metadata": {
      "needs_background": "light"
     },
     "output_type": "display_data"
    }
   ],
   "source": [
    "#Plotando métricas de avaliação\n",
    "history_dict = history.history\n",
    "print(history_dict.keys())\n",
    "\n",
    "acc = history_dict['binary_accuracy']\n",
    "val_acc = history_dict['val_binary_accuracy']\n",
    "loss = history_dict['loss']\n",
    "val_loss = history_dict['val_loss']\n",
    "\n",
    "epochs = range(1, len(acc) + 1)\n",
    "fig = plt.figure(figsize=(10, 6))\n",
    "fig.tight_layout()\n",
    "\n",
    "plt.subplot(2, 1, 1)\n",
    "# r is for \"solid red line\"\n",
    "plt.plot(epochs, loss, 'r', label='Training loss')\n",
    "# b is for \"solid blue line\"\n",
    "plt.plot(epochs, val_loss, 'b', label='Validation loss')\n",
    "plt.title('Training and validation loss')\n",
    "# plt.xlabel('Epochs')\n",
    "plt.ylabel('Loss')\n",
    "plt.legend()\n",
    "\n",
    "plt.subplot(2, 1, 2)\n",
    "plt.plot(epochs, acc, 'r', label='Training acc')\n",
    "plt.plot(epochs, val_acc, 'b', label='Validation acc')\n",
    "plt.title('Training and validation accuracy')\n",
    "plt.xlabel('Epochs')\n",
    "plt.ylabel('Accuracy')\n",
    "plt.legend(loc='lower right')"
   ]
  }
 ],
 "metadata": {
  "kernelspec": {
   "display_name": "Python [conda env:tf_gpu]",
   "language": "python",
   "name": "conda-env-tf_gpu-py"
  },
  "language_info": {
   "codemirror_mode": {
    "name": "ipython",
    "version": 3
   },
   "file_extension": ".py",
   "mimetype": "text/x-python",
   "name": "python",
   "nbconvert_exporter": "python",
   "pygments_lexer": "ipython3",
   "version": "3.9.0"
  }
 },
 "nbformat": 4,
 "nbformat_minor": 5
}
