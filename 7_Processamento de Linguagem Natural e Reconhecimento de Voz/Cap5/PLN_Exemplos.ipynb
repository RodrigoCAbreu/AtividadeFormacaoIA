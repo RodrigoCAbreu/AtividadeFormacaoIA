{
 "cells": [
  {
   "cell_type": "markdown",
   "id": "d56f41cd",
   "metadata": {},
   "source": [
    "## Named entity recognition"
   ]
  },
  {
   "cell_type": "code",
   "execution_count": 1,
   "id": "073c7dee",
   "metadata": {},
   "outputs": [],
   "source": [
    "import spacy"
   ]
  },
  {
   "cell_type": "code",
   "execution_count": 2,
   "id": "b6d93303",
   "metadata": {},
   "outputs": [],
   "source": [
    "nlp = spacy.load('pt_core_news_lg')\n",
    "\n",
    "# Frase\n",
    "doc = nlp(u'Rio de Janeiro é a capital turística do Brasil.')"
   ]
  },
  {
   "cell_type": "code",
   "execution_count": 3,
   "id": "0d20b780",
   "metadata": {},
   "outputs": [
    {
     "name": "stdout",
     "output_type": "stream",
     "text": [
      "\n",
      "-------Exemplo 1 ------\n",
      "\n",
      "LOC Rio de Janeiro\n",
      "LOC Brasil\n"
     ]
    }
   ],
   "source": [
    "# Print das Entidades e suas classes\n",
    "print (\"\\n-------Exemplo 1 ------\\n\")\n",
    "for ent in doc.ents:\n",
    "    print(ent.label_, ent.text)"
   ]
  },
  {
   "cell_type": "code",
   "execution_count": 4,
   "id": "d2246bd9",
   "metadata": {},
   "outputs": [
    {
     "name": "stdout",
     "output_type": "stream",
     "text": [
      "\n",
      "-------Exemplo 2 ------\n",
      "\n",
      "LOC França\n",
      "PER Christine Lagarde\n",
      "MISC Wall Street Journal\n"
     ]
    }
   ],
   "source": [
    "# Frase\n",
    "doc1 = nlp(u'Enquanto isso na França, Christine Lagarde discutiu os esforços de estímulo de curto prazo em uma '\n",
    "           u'entrevista recente às 17:00 com o Wall Street Journal')\n",
    "\n",
    "# Print das Entidades e suas classes\n",
    "print (\"\\n-------Exemplo 2 ------\\n\")\n",
    "for ent1 in doc1.ents:\n",
    "    print(ent1.label_, ent1.text)"
   ]
  },
  {
   "cell_type": "code",
   "execution_count": 10,
   "id": "1be3478b",
   "metadata": {},
   "outputs": [
    {
     "name": "stdout",
     "output_type": "stream",
     "text": [
      "Enquanto enquanto ADP\n",
      "isso isso PRON\n",
      "na em o ADP\n",
      "França França PROPN\n",
      ", , PUNCT\n",
      "Christine Christine PROPN\n",
      "Lagarde Lagarde PROPN\n",
      "discutiu discutir VERB\n",
      "os o DET\n",
      "esforços esforço NOUN\n",
      "de de ADP\n",
      "estímulo estímulo NOUN\n",
      "de de ADP\n",
      "curto curto ADJ\n",
      "prazo prazo NOUN\n",
      "em em ADP\n",
      "uma um DET\n",
      "entrevista entrevista NOUN\n",
      "recente recente ADJ\n",
      "às a o ADP\n",
      "17:00 17:00 NOUN\n",
      "com com ADP\n",
      "o o DET\n",
      "Wall Wall PROPN\n",
      "Street Street PROPN\n",
      "Journal Journal PROPN\n"
     ]
    }
   ],
   "source": [
    "doc = nlp(\"Enquanto isso na França, Christine Lagarde discutiu os esforços de estímulo de curto prazo em uma entrevista recente às 17:00 com o Wall Street Journal\")\n",
    "\n",
    "for token in doc:\n",
    "    print(token.text, token.lemma_, token.pos_)"
   ]
  },
  {
   "cell_type": "code",
   "execution_count": null,
   "id": "665f6fdf",
   "metadata": {},
   "outputs": [],
   "source": []
  },
  {
   "cell_type": "code",
   "execution_count": null,
   "id": "ea8a157f",
   "metadata": {},
   "outputs": [],
   "source": []
  },
  {
   "cell_type": "code",
   "execution_count": null,
   "id": "56c17c28",
   "metadata": {},
   "outputs": [],
   "source": []
  },
  {
   "cell_type": "code",
   "execution_count": null,
   "id": "6d86349d",
   "metadata": {},
   "outputs": [],
   "source": []
  },
  {
   "cell_type": "code",
   "execution_count": null,
   "id": "6297be60",
   "metadata": {},
   "outputs": [],
   "source": []
  },
  {
   "cell_type": "code",
   "execution_count": null,
   "id": "33239ce9",
   "metadata": {},
   "outputs": [],
   "source": []
  },
  {
   "cell_type": "code",
   "execution_count": null,
   "id": "9b44d4ed",
   "metadata": {},
   "outputs": [],
   "source": []
  },
  {
   "cell_type": "code",
   "execution_count": null,
   "id": "a062494f",
   "metadata": {},
   "outputs": [],
   "source": []
  },
  {
   "cell_type": "code",
   "execution_count": null,
   "id": "47bacd93",
   "metadata": {},
   "outputs": [],
   "source": []
  },
  {
   "cell_type": "code",
   "execution_count": null,
   "id": "a6750d26",
   "metadata": {},
   "outputs": [],
   "source": []
  }
 ],
 "metadata": {
  "kernelspec": {
   "display_name": "Python 3 (ipykernel)",
   "language": "python",
   "name": "python3"
  },
  "language_info": {
   "codemirror_mode": {
    "name": "ipython",
    "version": 3
   },
   "file_extension": ".py",
   "mimetype": "text/x-python",
   "name": "python",
   "nbconvert_exporter": "python",
   "pygments_lexer": "ipython3",
   "version": "3.9.7"
  }
 },
 "nbformat": 4,
 "nbformat_minor": 5
}
