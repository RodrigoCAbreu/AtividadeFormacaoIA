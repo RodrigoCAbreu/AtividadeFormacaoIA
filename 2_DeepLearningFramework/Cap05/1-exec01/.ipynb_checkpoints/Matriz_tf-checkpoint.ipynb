{
 "cells": [
  {
   "cell_type": "code",
   "execution_count": 1,
   "id": "7369d286",
   "metadata": {},
   "outputs": [],
   "source": [
    "#Ativando o ambiente virtual\n",
    "!conda activate tf_gpu"
   ]
  },
  {
   "cell_type": "code",
   "execution_count": 2,
   "id": "cdb6d72d",
   "metadata": {},
   "outputs": [],
   "source": [
    "# Importando os pacotes\n",
    "import numpy as np\n",
    "import tensorflow as tf\n",
    "import os\n",
    "os.environ['TF_CPP_MIN_LOG_LEVEL'] = '3'"
   ]
  },
  {
   "cell_type": "code",
   "execution_count": 3,
   "id": "3bb8695a",
   "metadata": {},
   "outputs": [
    {
     "name": "stdout",
     "output_type": "stream",
     "text": [
      "\n",
      "Matriz Identidade 2x3\n",
      "tf.Tensor(\n",
      "[[1. 0. 0.]\n",
      " [0. 1. 0.]], shape=(2, 3), dtype=float32)\n"
     ]
    }
   ],
   "source": [
    "# Criando uma matriz identidade 2x3\n",
    "identity_matrix = tf.eye(2, num_columns = 3)\n",
    "print(\"\\nMatriz Identidade 2x3\")\n",
    "print(identity_matrix)"
   ]
  },
  {
   "cell_type": "code",
   "execution_count": 4,
   "id": "5f9166eb",
   "metadata": {},
   "outputs": [
    {
     "name": "stdout",
     "output_type": "stream",
     "text": [
      "\n",
      "Matriz A - 2x3\n",
      "tf.Tensor(\n",
      "[[-0.71074015 -0.51399463 -0.50820553]\n",
      " [ 0.70729107 -0.01629491 -0.15488191]], shape=(2, 3), dtype=float32)\n"
     ]
    }
   ],
   "source": [
    "# Criando uma matriz 2x3 randomicamente normalizada\n",
    "A = tf.random.truncated_normal([2,3])\n",
    "print(\"\\nMatriz A - 2x3\")\n",
    "print(A)"
   ]
  },
  {
   "cell_type": "code",
   "execution_count": 5,
   "id": "9e5d0784",
   "metadata": {},
   "outputs": [
    {
     "name": "stdout",
     "output_type": "stream",
     "text": [
      "\n",
      "Matriz B - 2x3\n",
      "tf.Tensor(\n",
      "[[5. 5. 5.]\n",
      " [5. 5. 5.]], shape=(2, 3), dtype=float32)\n"
     ]
    }
   ],
   "source": [
    "# Criando uma matriz 2x3 com valores constantes\n",
    "B = tf.fill([2,3], 5.0)\n",
    "print(\"\\nMatriz B - 2x3\")\n",
    "print(B)"
   ]
  },
  {
   "cell_type": "code",
   "execution_count": 6,
   "id": "7aabb1e5",
   "metadata": {},
   "outputs": [
    {
     "name": "stdout",
     "output_type": "stream",
     "text": [
      "\n",
      "Matriz C - 3x2\n",
      "tf.Tensor(\n",
      "[[0.8314984  0.2386694 ]\n",
      " [0.44032872 0.54580677]\n",
      " [0.04311943 0.2687844 ]], shape=(3, 2), dtype=float32)\n"
     ]
    }
   ],
   "source": [
    "# Criando uma matriz 3x2 randomicamente uniforme\n",
    "C = tf.random.uniform([3,2])\n",
    "print(\"\\nMatriz C - 3x2\")\n",
    "print(C)"
   ]
  },
  {
   "cell_type": "code",
   "execution_count": 7,
   "id": "efbdfbcf",
   "metadata": {},
   "outputs": [
    {
     "name": "stdout",
     "output_type": "stream",
     "text": [
      "\n",
      "Matriz D\n",
      "tf.Tensor(\n",
      "[[ 1.  2.  3.]\n",
      " [-3. -7. -1.]\n",
      " [ 0.  5. -2.]], shape=(3, 3), dtype=float64)\n"
     ]
    }
   ],
   "source": [
    "# Convertendo um array numpy 3x3 para um tensor\n",
    "array1 = np.array([[1., 2., 3.], [-3., -7., -1.], [0., 5., -2.]])\n",
    "D = tf.convert_to_tensor(array1)\n",
    "print(\"\\nMatriz D\")\n",
    "print(D)"
   ]
  },
  {
   "cell_type": "code",
   "execution_count": 8,
   "id": "0a6c042a",
   "metadata": {},
   "outputs": [
    {
     "name": "stdout",
     "output_type": "stream",
     "text": [
      "\n",
      "Soma A + B\n",
      "tf.Tensor(\n",
      "[[4.28926   4.4860053 4.4917946]\n",
      " [5.707291  4.983705  4.845118 ]], shape=(2, 3), dtype=float32)\n"
     ]
    }
   ],
   "source": [
    "# Adicione a matriz A com a matriz B\n",
    "print(\"\\nSoma A + B\")\n",
    "print(A+B)"
   ]
  },
  {
   "cell_type": "code",
   "execution_count": 9,
   "id": "9153c9c1",
   "metadata": {},
   "outputs": [
    {
     "name": "stdout",
     "output_type": "stream",
     "text": [
      "\n",
      "Subtrai B de B\n",
      "tf.Tensor(\n",
      "[[0. 0. 0.]\n",
      " [0. 0. 0.]], shape=(2, 3), dtype=float32)\n"
     ]
    }
   ],
   "source": [
    "# Subtraia a matriz B da mesma matriz B\n",
    "print(\"\\nSubtrai B de B\")\n",
    "print(B-B)"
   ]
  },
  {
   "cell_type": "code",
   "execution_count": 10,
   "id": "03f1b675",
   "metadata": {},
   "outputs": [
    {
     "name": "stdout",
     "output_type": "stream",
     "text": [
      "\n",
      "Multiplicação de Matriz\n",
      "tf.Tensor(\n",
      "[[-0.8392194  -0.58677137]\n",
      " [ 0.5742579   0.11828501]], shape=(2, 2), dtype=float32)\n"
     ]
    }
   ],
   "source": [
    "# Multiplicação da Matriz A e C\n",
    "print(\"\\nMultiplicação de Matriz\")\n",
    "print(tf.matmul(A, C))"
   ]
  },
  {
   "cell_type": "code",
   "execution_count": 11,
   "id": "26c5090e",
   "metadata": {},
   "outputs": [
    {
     "name": "stdout",
     "output_type": "stream",
     "text": [
      "\n",
      "Transposta Matriz C\n",
      "tf.Tensor(\n",
      "[[0.8314984  0.44032872 0.04311943]\n",
      " [0.2386694  0.54580677 0.2687844 ]], shape=(2, 3), dtype=float32)\n"
     ]
    }
   ],
   "source": [
    "# Transposta da matriz C\n",
    "print(\"\\nTransposta Matriz C\")\n",
    "print(tf.transpose(C)) "
   ]
  },
  {
   "cell_type": "code",
   "execution_count": 12,
   "id": "45c2a4f4",
   "metadata": {},
   "outputs": [
    {
     "name": "stdout",
     "output_type": "stream",
     "text": [
      "\n",
      "Determinante D\n",
      "tf.Tensor(-37.99999999999999, shape=(), dtype=float64)\n"
     ]
    }
   ],
   "source": [
    "# Determinante da matriz D\n",
    "print(\"\\nDeterminante D\")\n",
    "print(tf.linalg.det(D))"
   ]
  },
  {
   "cell_type": "code",
   "execution_count": 13,
   "id": "8893b411",
   "metadata": {},
   "outputs": [
    {
     "name": "stdout",
     "output_type": "stream",
     "text": [
      "\n",
      "Inversa da Matriz D\n",
      "tf.Tensor(\n",
      "[[-0.5        -0.5        -0.5       ]\n",
      " [ 0.15789474  0.05263158  0.21052632]\n",
      " [ 0.39473684  0.13157895  0.02631579]], shape=(3, 3), dtype=float64)\n"
     ]
    }
   ],
   "source": [
    "# Matrix Inversa da matriz D\n",
    "print(\"\\nInversa da Matriz D\")\n",
    "print(tf.linalg.inv(D))"
   ]
  },
  {
   "cell_type": "code",
   "execution_count": null,
   "id": "c1af2bb9",
   "metadata": {},
   "outputs": [],
   "source": []
  }
 ],
 "metadata": {
  "kernelspec": {
   "display_name": "Python 3 (ipykernel)",
   "language": "python",
   "name": "python3"
  },
  "language_info": {
   "codemirror_mode": {
    "name": "ipython",
    "version": 3
   },
   "file_extension": ".py",
   "mimetype": "text/x-python",
   "name": "python",
   "nbconvert_exporter": "python",
   "pygments_lexer": "ipython3",
   "version": "3.9.7"
  }
 },
 "nbformat": 4,
 "nbformat_minor": 5
}
