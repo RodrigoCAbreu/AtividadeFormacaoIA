{
 "cells": [
  {
   "cell_type": "markdown",
   "metadata": {},
   "source": [
    "# <font color='blue'>Data Science Academy</font>\n",
    "# <font color='blue'>Deep Learning Frameworks</font>"
   ]
  },
  {
   "cell_type": "code",
   "execution_count": 1,
   "metadata": {},
   "outputs": [
    {
     "name": "stdout",
     "output_type": "stream",
     "text": [
      "Versão da Linguagem Python Usada Neste Jupyter Notebook: 3.7.6\n"
     ]
    }
   ],
   "source": [
    "# Versão da Linguagem Python\n",
    "from platform import python_version\n",
    "print('Versão da Linguagem Python Usada Neste Jupyter Notebook:', python_version())"
   ]
  },
  {
   "attachments": {},
   "cell_type": "markdown",
   "metadata": {},
   "source": [
    "## Lab - Batch Normalization com MXNet\n",
    "\n",
    "Em Machine Learning em geral, é muito comum normalizarmos a camada de entrada ajustando e dimensionando os dados. \n",
    "\n",
    "Por exemplo, quando temos atributos (variáveis) com valores de 0 a 1 e alguns de 1 a 1000, devemos normalizá-los para acelerar o aprendizado (colocar todos os dados na mesma escala). Se a camada de entrada está se beneficiando da normalização, por que não fazer o mesmo com os valores nas camadas ocultas, que mudam o tempo todo? Ao fazer isso, poderíamos obter 10 vezes ou mais melhorias na velocidade de treinamento.\n",
    "\n",
    "A normalização em lotes reduz a quantidade pela qual os valores das unidades ocultas mudam (mudança de covariância). Para explicar a mudança de covariância, considere como exemplo uma rede profunda para detecção de gatos. Treinamos nossos dados apenas nas imagens de gatos pretos. Portanto, se agora tentarmos aplicar essa rede a dados com gatos coloridos, não vamos nos sair bem. O conjunto de treinamento e o conjunto de previsão são imagens de gatos, mas diferem um pouco. Em outras palavras, se um algoritmo aprendeu algum mapeamento de X para Y e se a distribuição de X mudar, talvez seja necessário treinar novamente o modelo, tentando alinhar a distribuição de X com a distribuição de Y.\n",
    "\n",
    "Além disso, a normalização em lote permite que cada camada de uma rede aprenda sozinha um pouco mais independentemente de outras camadas.\n",
    "\n",
    "Ao usar Batch Normalization, podemos usar taxas de aprendizado mais altas porque a normalização em lote garante que não haja ativação muito alta ou muito baixa. \n",
    "\n",
    "Batch Normalization também reduz a adaptação excessiva (overfitting), porque apresenta alguns efeitos de regularização. Semelhante ao Dropout, essa técnica adiciona algum ruído às ativações de cada camada oculta. Portanto, se usarmos a normalização em lote, usaremos menos dropouts, o que é uma coisa boa, pois não perderemos muitas informações. No entanto, não devemos depender apenas da normalização de lotes para regularização; devemos usá-lo em conjunto com o Dropout.\n",
    "\n",
    "É o que faremos agora neste Lab.\n",
    "\n",
    "Referências:\n",
    "\n",
    "<a href=\"https://arxiv.org/pdf/1502.03167v3.pdf\">Batch Normalization: Accelerating Deep Network Training by Reducing Internal Covariate Shift</a>\n",
    "\n",
    "<a href=\"http://www.deeplearningbook.com.br/\">Deep Learning Book</a>"
   ]
  },
  {
   "cell_type": "code",
   "execution_count": 2,
   "metadata": {},
   "outputs": [
    {
     "name": "stdout",
     "output_type": "stream",
     "text": [
      "Fri May 22 13:08:03 2020       \r\n",
      "+-----------------------------------------------------------------------------+\r\n",
      "| NVIDIA-SMI 440.64.00    Driver Version: 440.64.00    CUDA Version: 10.2     |\r\n",
      "|-------------------------------+----------------------+----------------------+\r\n",
      "| GPU  Name        Persistence-M| Bus-Id        Disp.A | Volatile Uncorr. ECC |\r\n",
      "| Fan  Temp  Perf  Pwr:Usage/Cap|         Memory-Usage | GPU-Util  Compute M. |\r\n",
      "|===============================+======================+======================|\r\n",
      "|   0  TITAN X (Pascal)    On   | 00000000:05:00.0  On |                  N/A |\r\n",
      "| 24%   42C    P8    11W / 250W |     94MiB / 12194MiB |      0%      Default |\r\n",
      "+-------------------------------+----------------------+----------------------+\r\n",
      "|   1  GeForce GTX 108...  On   | 00000000:09:00.0 Off |                  N/A |\r\n",
      "| 23%   37C    P8    10W / 250W |      2MiB / 11178MiB |      0%      Default |\r\n",
      "+-------------------------------+----------------------+----------------------+\r\n",
      "|   2  TITAN RTX           On   | 00000000:0B:00.0 Off |                  N/A |\r\n",
      "| 41%   39C    P8    13W / 280W |      1MiB / 24220MiB |      0%      Default |\r\n",
      "+-------------------------------+----------------------+----------------------+\r\n",
      "                                                                               \r\n",
      "+-----------------------------------------------------------------------------+\r\n",
      "| Processes:                                                       GPU Memory |\r\n",
      "|  GPU       PID   Type   Process name                             Usage      |\r\n",
      "|=============================================================================|\r\n",
      "|    0      1458      G   /usr/lib/xorg/Xorg                            39MiB |\r\n",
      "|    0      1494      G   /usr/bin/gnome-shell                          51MiB |\r\n",
      "+-----------------------------------------------------------------------------+\r\n"
     ]
    }
   ],
   "source": [
    "!nvidia-smi"
   ]
  },
  {
   "cell_type": "code",
   "execution_count": 3,
   "metadata": {},
   "outputs": [],
   "source": [
    "# Para atualizar um pacote, execute o comando abaixo no terminal ou prompt de comando:\n",
    "# pip install -U nome_pacote\n",
    "\n",
    "# Para instalar a versão exata de um pacote, execute o comando abaixo no terminal ou prompt de comando:\n",
    "# pip install nome_pacote==versão_desejada\n",
    "\n",
    "# Depois de instalar ou atualizar o pacote, reinicie o jupyter notebook.\n",
    "\n",
    "# Instala o pacote watermark. \n",
    "# Esse pacote é usado para gravar as versões de outros pacotes usados neste jupyter notebook.\n",
    "!pip install -q -U watermark"
   ]
  },
  {
   "cell_type": "code",
   "execution_count": 4,
   "metadata": {},
   "outputs": [],
   "source": [
    "# Instala o pacote MXNet com suporte a GPU\n",
    "!pip install -q mxnet-cu102"
   ]
  },
  {
   "cell_type": "code",
   "execution_count": 5,
   "metadata": {
    "colab": {},
    "colab_type": "code",
    "id": "sAxdD0b_0njT"
   },
   "outputs": [],
   "source": [
    "# Imports\n",
    "import mxnet as mx\n",
    "from mxnet import nd, autograd, gluon\n",
    "from mxnet.gluon import nn, data\n",
    "import matplotlib\n",
    "import matplotlib.pyplot as plt"
   ]
  },
  {
   "cell_type": "code",
   "execution_count": 6,
   "metadata": {},
   "outputs": [
    {
     "name": "stdout",
     "output_type": "stream",
     "text": [
      "mxnet      1.6.0\n",
      "matplotlib 3.2.1\n",
      "Data Science Academy\n"
     ]
    }
   ],
   "source": [
    "# Versões dos pacotes usados neste jupyter notebook\n",
    "%reload_ext watermark\n",
    "%watermark -a \"Data Science Academy\" --iversions"
   ]
  },
  {
   "cell_type": "code",
   "execution_count": 7,
   "metadata": {},
   "outputs": [],
   "source": [
    "# Faremos o treinamento em GPU\n",
    "ctx = mx.gpu()"
   ]
  },
  {
   "cell_type": "markdown",
   "metadata": {
    "colab_type": "text",
    "id": "f6lgNphf1AIV"
   },
   "source": [
    "### Carregando o Dataset\n",
    "\n",
    "Criaremos um modelo de Deep Learning para classificação de imagens usando o dataset CIFAR10."
   ]
  },
  {
   "cell_type": "code",
   "execution_count": 8,
   "metadata": {
    "colab": {
     "base_uri": "https://localhost:8080/",
     "height": 54
    },
    "colab_type": "code",
    "id": "v2Tbe1PF0_q8",
    "outputId": "49d5d523-a0f4-4e92-ca8c-629f54854e32"
   },
   "outputs": [],
   "source": [
    "# Função para transformar os dados\n",
    "def transform(data, label):\n",
    "    return nd.moveaxis(data.astype('float32'), 2, 0)/255.0, label.astype('float32')"
   ]
  },
  {
   "cell_type": "code",
   "execution_count": 9,
   "metadata": {},
   "outputs": [],
   "source": [
    "# Carrega os dados de treino\n",
    "cifar_treino = data.vision.datasets.CIFAR10(train = True, transform = transform)"
   ]
  },
  {
   "cell_type": "code",
   "execution_count": 10,
   "metadata": {},
   "outputs": [],
   "source": [
    "# Carrega os dados de teste\n",
    "cifar_teste = data.vision.datasets.CIFAR10(train = False, transform = transform)"
   ]
  },
  {
   "cell_type": "code",
   "execution_count": 11,
   "metadata": {
    "colab": {
     "base_uri": "https://localhost:8080/",
     "height": 34
    },
    "colab_type": "code",
    "id": "VahNidgo2Bsh",
    "outputId": "faf1a8c3-4057-4c49-faee-10881ca0855f"
   },
   "outputs": [],
   "source": [
    "# Extrai uma imagem\n",
    "image, label = cifar_treino[456]"
   ]
  },
  {
   "cell_type": "code",
   "execution_count": 12,
   "metadata": {},
   "outputs": [
    {
     "data": {
      "text/plain": [
       "(3, 32, 32)"
      ]
     },
     "execution_count": 12,
     "metadata": {},
     "output_type": "execute_result"
    }
   ],
   "source": [
    "# Shape da imagem\n",
    "image.shape"
   ]
  },
  {
   "cell_type": "code",
   "execution_count": 13,
   "metadata": {},
   "outputs": [
    {
     "data": {
      "text/plain": [
       "()"
      ]
     },
     "execution_count": 13,
     "metadata": {},
     "output_type": "execute_result"
    }
   ],
   "source": [
    "# Shape do label\n",
    "label.shape"
   ]
  },
  {
   "cell_type": "markdown",
   "metadata": {},
   "source": [
    "### Definindo o DataLoader\n",
    "\n",
    "O DataLoader extrai batches de dados para alimentar o modelo durante o treinamento."
   ]
  },
  {
   "cell_type": "code",
   "execution_count": 14,
   "metadata": {
    "colab": {},
    "colab_type": "code",
    "id": "v0vmp1W61ZG0"
   },
   "outputs": [],
   "source": [
    "# Tamanho do batch\n",
    "batch_size = 128"
   ]
  },
  {
   "cell_type": "code",
   "execution_count": 15,
   "metadata": {},
   "outputs": [],
   "source": [
    "# Carrega os batches de treino e teste\n",
    "dados_treino = data.DataLoader(cifar_treino, batch_size, True)\n",
    "dados_teste = data.DataLoader(cifar_teste, batch_size, False)"
   ]
  },
  {
   "cell_type": "markdown",
   "metadata": {
    "colab_type": "text",
    "id": "wjhB-e6X19jo"
   },
   "source": [
    "### Construindo o Modelo\n",
    "\n",
    "Agora construímos o modelo de rede neural para classificação de imagens usando Batch Normalization.\n",
    "\n",
    "Observe que o Batch Normalization deve vir antes do Dropout."
   ]
  },
  {
   "cell_type": "code",
   "execution_count": 16,
   "metadata": {
    "colab": {},
    "colab_type": "code",
    "id": "IicgDZNB1ZDa"
   },
   "outputs": [],
   "source": [
    "# Cria o modelo\n",
    "model = nn.Sequential()\n",
    "\n",
    "# Primeira camada convolucional com Batch Normalization\n",
    "model.add(nn.Conv2D(channels = 16, kernel_size = (5, 5)))\n",
    "model.add(nn.BatchNorm())\n",
    "model.add(nn.Activation('relu'))\n",
    "model.add(nn.MaxPool2D(pool_size = 2, strides = 1))\n",
    "\n",
    "# Segunda camada convolucional com Batch Normalization\n",
    "model.add(nn.Conv2D(channels = 32, kernel_size = (5, 5)))\n",
    "model.add(nn.BatchNorm())\n",
    "model.add(nn.Activation('relu'))\n",
    "model.add(nn.MaxPool2D(pool_size = 2, strides = 1))\n",
    "\n",
    "# Terceira camada convolucional com Batch Normalization\n",
    "model.add(nn.Conv2D(channels = 64, kernel_size = (5, 5)))\n",
    "model.add(nn.BatchNorm())\n",
    "model.add(nn.Activation('relu'))\n",
    "model.add(nn.MaxPool2D(pool_size = 2, strides = 1))\n",
    "\n",
    "# Flatten\n",
    "model.add(nn.Flatten())\n",
    "\n",
    "# Camada Densa com Batch Normalization\n",
    "model.add(nn.Dense(512))\n",
    "model.add(nn.BatchNorm())\n",
    "model.add(nn.Activation('relu'))\n",
    "model.add(nn.Dropout(0.5))\n",
    "\n",
    "# Camada Densa com Batch Normalization\n",
    "model.add(nn.Dense(256))\n",
    "model.add(nn.BatchNorm())\n",
    "model.add(nn.Activation('relu'))\n",
    "model.add(nn.Dropout(0.5))\n",
    "\n",
    "# Camada de saída\n",
    "model.add(nn.Dense(10))"
   ]
  },
  {
   "cell_type": "code",
   "execution_count": 17,
   "metadata": {},
   "outputs": [],
   "source": [
    "# Inicializa os hiperpaâmetros\n",
    "model.initialize(mx.init.Xavier(), ctx)"
   ]
  },
  {
   "cell_type": "code",
   "execution_count": 18,
   "metadata": {
    "colab": {
     "base_uri": "https://localhost:8080/",
     "height": 440
    },
    "colab_type": "code",
    "id": "pWiLWyuZ9zJm",
    "outputId": "dd1d3ff8-cbfd-46fd-cf7d-fb99cc30508a"
   },
   "outputs": [
    {
     "data": {
      "text/plain": [
       "Sequential(\n",
       "  (0): Conv2D(None -> 16, kernel_size=(5, 5), stride=(1, 1))\n",
       "  (1): BatchNorm(axis=1, eps=1e-05, momentum=0.9, fix_gamma=False, use_global_stats=False, in_channels=None)\n",
       "  (2): Activation(relu)\n",
       "  (3): MaxPool2D(size=(2, 2), stride=(1, 1), padding=(0, 0), ceil_mode=False, global_pool=False, pool_type=max, layout=NCHW)\n",
       "  (4): Conv2D(None -> 32, kernel_size=(5, 5), stride=(1, 1))\n",
       "  (5): BatchNorm(axis=1, eps=1e-05, momentum=0.9, fix_gamma=False, use_global_stats=False, in_channels=None)\n",
       "  (6): Activation(relu)\n",
       "  (7): MaxPool2D(size=(2, 2), stride=(1, 1), padding=(0, 0), ceil_mode=False, global_pool=False, pool_type=max, layout=NCHW)\n",
       "  (8): Conv2D(None -> 64, kernel_size=(5, 5), stride=(1, 1))\n",
       "  (9): BatchNorm(axis=1, eps=1e-05, momentum=0.9, fix_gamma=False, use_global_stats=False, in_channels=None)\n",
       "  (10): Activation(relu)\n",
       "  (11): MaxPool2D(size=(2, 2), stride=(1, 1), padding=(0, 0), ceil_mode=False, global_pool=False, pool_type=max, layout=NCHW)\n",
       "  (12): Flatten\n",
       "  (13): Dense(None -> 512, linear)\n",
       "  (14): BatchNorm(axis=1, eps=1e-05, momentum=0.9, fix_gamma=False, use_global_stats=False, in_channels=None)\n",
       "  (15): Activation(relu)\n",
       "  (16): Dropout(p = 0.5, axes=())\n",
       "  (17): Dense(None -> 256, linear)\n",
       "  (18): BatchNorm(axis=1, eps=1e-05, momentum=0.9, fix_gamma=False, use_global_stats=False, in_channels=None)\n",
       "  (19): Activation(relu)\n",
       "  (20): Dropout(p = 0.5, axes=())\n",
       "  (21): Dense(None -> 10, linear)\n",
       ")"
      ]
     },
     "execution_count": 18,
     "metadata": {},
     "output_type": "execute_result"
    }
   ],
   "source": [
    "# Modelo criado\n",
    "model"
   ]
  },
  {
   "cell_type": "markdown",
   "metadata": {
    "colab_type": "text",
    "id": "T3joU6JO4cpG"
   },
   "source": [
    "Vamos verificar um sumário completo."
   ]
  },
  {
   "cell_type": "code",
   "execution_count": 19,
   "metadata": {
    "colab": {
     "base_uri": "https://localhost:8080/",
     "height": 588
    },
    "colab_type": "code",
    "id": "WRRnW6fL1ZAx",
    "outputId": "6a86da00-ea99-43ad-b5be-b3353b3c7d08"
   },
   "outputs": [
    {
     "name": "stdout",
     "output_type": "stream",
     "text": [
      "--------------------------------------------------------------------------------\n",
      "        Layer (type)                                Output Shape         Param #\n",
      "================================================================================\n",
      "               Input                              (1, 3, 32, 32)               0\n",
      "            Conv2D-1                             (1, 16, 28, 28)            1216\n",
      "         BatchNorm-2                             (1, 16, 28, 28)              64\n",
      "        Activation-3                             (1, 16, 28, 28)               0\n",
      "         MaxPool2D-4                             (1, 16, 27, 27)               0\n",
      "            Conv2D-5                             (1, 32, 23, 23)           12832\n",
      "         BatchNorm-6                             (1, 32, 23, 23)             128\n",
      "        Activation-7                             (1, 32, 23, 23)               0\n",
      "         MaxPool2D-8                             (1, 32, 22, 22)               0\n",
      "            Conv2D-9                             (1, 64, 18, 18)           51264\n",
      "        BatchNorm-10                             (1, 64, 18, 18)             256\n",
      "       Activation-11                             (1, 64, 18, 18)               0\n",
      "        MaxPool2D-12                             (1, 64, 17, 17)               0\n",
      "          Flatten-13                                  (1, 18496)               0\n",
      "            Dense-14                                    (1, 512)         9470464\n",
      "        BatchNorm-15                                    (1, 512)            2048\n",
      "       Activation-16                                    (1, 512)               0\n",
      "          Dropout-17                                    (1, 512)               0\n",
      "            Dense-18                                    (1, 256)          131328\n",
      "        BatchNorm-19                                    (1, 256)            1024\n",
      "       Activation-20                                    (1, 256)               0\n",
      "          Dropout-21                                    (1, 256)               0\n",
      "            Dense-22                                     (1, 10)            2570\n",
      "================================================================================\n",
      "Parameters in forward computation graph, duplicate included\n",
      "   Total params: 9673194\n",
      "   Trainable params: 9671434\n",
      "   Non-trainable params: 1760\n",
      "Shared params in forward computation graph: 0\n",
      "Unique parameters in model: 9673194\n",
      "--------------------------------------------------------------------------------\n"
     ]
    }
   ],
   "source": [
    "# Sumário do modelo\n",
    "model.summary(image.expand_dims(0).as_in_context(ctx))"
   ]
  },
  {
   "cell_type": "markdown",
   "metadata": {
    "colab_type": "text",
    "id": "N-WJ5sER5BeG"
   },
   "source": [
    "Precisamos de uma função de custo e usaremos a SoftmaxCrossEntropyLoss."
   ]
  },
  {
   "cell_type": "code",
   "execution_count": 20,
   "metadata": {
    "colab": {},
    "colab_type": "code",
    "id": "-aOLi1X55Apc"
   },
   "outputs": [],
   "source": [
    "# Função de custo\n",
    "objective = gluon.loss.SoftmaxCrossEntropyLoss()"
   ]
  },
  {
   "cell_type": "markdown",
   "metadata": {
    "colab_type": "text",
    "id": "tzhEgsFk5Ps6"
   },
   "source": [
    "E também precisamos de um otimizador para atualizar os pesos a cada passada."
   ]
  },
  {
   "cell_type": "code",
   "execution_count": 21,
   "metadata": {
    "colab": {},
    "colab_type": "code",
    "id": "Mq7S_Vws5Amj"
   },
   "outputs": [],
   "source": [
    "# Otimizador\n",
    "optimizer = gluon.Trainer(model.collect_params(), 'adam', {'learning_rate': 0.001})"
   ]
  },
  {
   "cell_type": "markdown",
   "metadata": {
    "colab_type": "text",
    "id": "lbHoiGM3ZrQY"
   },
   "source": [
    "Por fim, usaremos a acurácia como métrica de avaliação do modelo."
   ]
  },
  {
   "cell_type": "code",
   "execution_count": 22,
   "metadata": {
    "colab": {},
    "colab_type": "code",
    "id": "-3osTW97ZuHR"
   },
   "outputs": [],
   "source": [
    "# Métrica do modelo\n",
    "metric = mx.metric.Accuracy()"
   ]
  },
  {
   "cell_type": "markdown",
   "metadata": {
    "colab_type": "text",
    "id": "UlkEn5XxFPkd"
   },
   "source": [
    "### Treinamento do Modelo\n",
    "\n",
    "Agora treinamos o modelo."
   ]
  },
  {
   "cell_type": "code",
   "execution_count": 23,
   "metadata": {},
   "outputs": [],
   "source": [
    "# Número de épocas e listas para erros e acurácias em cada época\n",
    "epochs = 10\n",
    "losses = []\n",
    "accs = []"
   ]
  },
  {
   "cell_type": "code",
   "execution_count": 24,
   "metadata": {
    "colab": {
     "base_uri": "https://localhost:8080/",
     "height": 185
    },
    "colab_type": "code",
    "id": "kVao6lbWCizF",
    "outputId": "0b041060-0a9a-4d2d-f04a-f00531eefc55"
   },
   "outputs": [
    {
     "name": "stdout",
     "output_type": "stream",
     "text": [
      "\n",
      "Iniciando o Treinamento...\n",
      "\n",
      "Epoch: 0 | Erro: 1.57516 | Acurácia: 0.44366\n",
      "Epoch: 1 | Erro: 1.14906 | Acurácia: 0.59536\n",
      "Epoch: 2 | Erro: 0.99285 | Acurácia: 0.64974\n",
      "Epoch: 3 | Erro: 0.89722 | Acurácia: 0.68222\n",
      "Epoch: 4 | Erro: 0.81835 | Acurácia: 0.71292\n",
      "Epoch: 5 | Erro: 0.76283 | Acurácia: 0.73570\n",
      "Epoch: 6 | Erro: 0.70010 | Acurácia: 0.75354\n",
      "Epoch: 7 | Erro: 0.66138 | Acurácia: 0.76854\n",
      "Epoch: 8 | Erro: 0.61049 | Acurácia: 0.78570\n",
      "Epoch: 9 | Erro: 0.56233 | Acurácia: 0.80210\n",
      "\n",
      "Treinamento Concluído.\n",
      "\n"
     ]
    }
   ],
   "source": [
    "# Loop de treinamento\n",
    "\n",
    "print(\"\\nIniciando o Treinamento...\\n\")\n",
    "\n",
    "for epoch in range(epochs):\n",
    "    \n",
    "    # Inicializa o erro acumulado\n",
    "    cumulative_loss = 0\n",
    "    \n",
    "    # Reset da métrica\n",
    "    metric.reset()\n",
    "    \n",
    "    # Loop pelos batches de dados\n",
    "    for batches, (features, labels) in enumerate(dados_treino, 1):\n",
    "        \n",
    "        # Envia dados de entrada e saída para a GPU\n",
    "        features = features.as_in_context(ctx)\n",
    "        labels = labels.as_in_context(ctx)\n",
    "        \n",
    "        # Executa a previsão do modelo e calcula o erro\n",
    "        with autograd.record():\n",
    "            output = model(features)\n",
    "            loss = objective(output, labels)\n",
    "            \n",
    "        # Inicia o backpropagation\n",
    "        loss.backward()\n",
    "        \n",
    "        # Atualiza os pesos para a próxima passada de treino\n",
    "        optimizer.step(batch_size)\n",
    "        \n",
    "        # Acumula o erro médio\n",
    "        cumulative_loss += loss.mean()\n",
    "        \n",
    "        # Calcula a métrica\n",
    "        metric.update(labels, output)\n",
    "        \n",
    "    # Extrai a acurácia    \n",
    "    acc = metric.get()[1]\n",
    "    \n",
    "    # Alimenta as listas de erro e acurácias\n",
    "    losses.append(cumulative_loss.asscalar())\n",
    "    accs.append(acc)\n",
    "    \n",
    "    # print\n",
    "    print(f'Epoch: {epoch} | Erro: {cumulative_loss.asscalar()/(batches):.5f} | Acurácia: {acc:.5f}')\n",
    "\n",
    "print(\"\\nTreinamento Concluído.\\n\")"
   ]
  },
  {
   "cell_type": "markdown",
   "metadata": {},
   "source": [
    "### Avaliando o Modelo"
   ]
  },
  {
   "cell_type": "code",
   "execution_count": 25,
   "metadata": {},
   "outputs": [],
   "source": [
    "# Zeramos a métrica\n",
    "metric.reset()"
   ]
  },
  {
   "cell_type": "code",
   "execution_count": 26,
   "metadata": {
    "colab": {
     "base_uri": "https://localhost:8080/",
     "height": 34
    },
    "colab_type": "code",
    "id": "uX381SKr5aUW",
    "outputId": "32bf310b-d7a6-4dd8-e1b4-e457c4392d4f"
   },
   "outputs": [],
   "source": [
    "# Loop para previsões nos dados de teste\n",
    "for features, labels in dados_teste:\n",
    "    features = features.as_in_context(mx.gpu())\n",
    "    labels = labels.as_in_context(mx.gpu())\n",
    "    predictions = model(features)\n",
    "    metric.update(labels, predictions)"
   ]
  },
  {
   "cell_type": "code",
   "execution_count": 27,
   "metadata": {},
   "outputs": [
    {
     "name": "stdout",
     "output_type": "stream",
     "text": [
      "Acurácia em Teste: 0.70980\n"
     ]
    }
   ],
   "source": [
    "print(f'Acurácia em Teste: {metric.get()[1]:.5f}')"
   ]
  },
  {
   "cell_type": "code",
   "execution_count": 28,
   "metadata": {
    "colab": {
     "base_uri": "https://localhost:8080/",
     "height": 545
    },
    "colab_type": "code",
    "id": "Fa9tf4eolx9r",
    "outputId": "66987073-9ffb-4551-af16-2f7dc91eff88"
   },
   "outputs": [
    {
     "data": {
      "image/png": "[encoded data removed]",
      "text/plain": [
       "<Figure size 432x288 with 1 Axes>"
      ]
     },
     "metadata": {
      "needs_background": "light"
     },
     "output_type": "display_data"
    },
    {
     "data": {
      "image/png": "[encoded data removed]",
      "text/plain": [
       "<Figure size 432x288 with 1 Axes>"
      ]
     },
     "metadata": {
      "needs_background": "light"
     },
     "output_type": "display_data"
    }
   ],
   "source": [
    "# Plots\n",
    "plt.plot(accs, c = 'g')\n",
    "plt.title('Acurácia em Treino')\n",
    "plt.show()\n",
    "\n",
    "plt.plot(losses, c = 'r')\n",
    "plt.title('Erro em Treino')\n",
    "plt.show()"
   ]
  },
  {
   "cell_type": "markdown",
   "metadata": {},
   "source": [
    "Batch Normalization podem ser uma boa opção quando precisarmos aumentar a precisão do nosso modelo, reduzindo o risco de overfitting."
   ]
  },
  {
   "cell_type": "markdown",
   "metadata": {},
   "source": [
    "# Fim"
   ]
  }
 ],
 "metadata": {
  "accelerator": "GPU",
  "colab": {
   "collapsed_sections": [],
   "name": "Batch Normalization - MXNet (Using Gluon).ipynb",
   "provenance": [],
   "version": "0.3.2"
  },
  "kernelspec": {
   "display_name": "Python 3",
   "language": "python",
   "name": "python3"
  },
  "language_info": {
   "codemirror_mode": {
    "name": "ipython",
    "version": 3
   },
   "file_extension": ".py",
   "mimetype": "text/x-python",
   "name": "python",
   "nbconvert_exporter": "python",
   "pygments_lexer": "ipython3",
   "version": "3.7.6"
  }
 },
 "nbformat": 4,
 "nbformat_minor": 1
}
