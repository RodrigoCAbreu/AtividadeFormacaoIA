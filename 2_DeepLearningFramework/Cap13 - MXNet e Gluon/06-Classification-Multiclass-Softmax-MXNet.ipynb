{
 "cells": [
  {
   "cell_type": "markdown",
   "metadata": {},
   "source": [
    "# <font color='blue'>Data Science Academy</font>\n",
    "# <font color='blue'>Deep Learning Frameworks</font>"
   ]
  },
  {
   "cell_type": "code",
   "execution_count": 1,
   "metadata": {},
   "outputs": [
    {
     "name": "stdout",
     "output_type": "stream",
     "text": [
      "Versão da Linguagem Python Usada Neste Jupyter Notebook: 3.7.6\n"
     ]
    }
   ],
   "source": [
    "# Versão da Linguagem Python\n",
    "from platform import python_version\n",
    "print('Versão da Linguagem Python Usada Neste Jupyter Notebook:', python_version())"
   ]
  },
  {
   "cell_type": "markdown",
   "metadata": {},
   "source": [
    "## Lab - Função Softmax e Classificação Multiclasse com MXNet\n",
    "\n",
    "O objetivo deste Lab é mostrar como implementar a Função Softmax com o Framework MXNet e discutir suas características. A Função Softmax é amplamente usada em Deep Learning, especialmente em tarefas de Classificação Multiclasse, quando mais de duas classes devem ser previstas pelo modelo.\n",
    "\n",
    "A Função Softmax transforma a saída da rede neural (um valor para cada classe) em probabilidades e então geramos uma única previsão de classe, normalmente usando a função argmax(). Isso será demonstrado ao final do Lab.\n",
    "\n",
    "Todas as células estão comentadas. Leia cada comentário com atenção, execute o Jupyter Notebook e faça modificações para compreender o funcionamento da Função Softmax.\n",
    "\n",
    "![title](imagens/softmax.png)"
   ]
  },
  {
   "cell_type": "markdown",
   "metadata": {},
   "source": [
    "Use o Deep Learning Book como referência:\n",
    "    \n",
    "http://www.deeplearningbook.com.br/"
   ]
  },
  {
   "cell_type": "code",
   "execution_count": 2,
   "metadata": {},
   "outputs": [
    {
     "name": "stdout",
     "output_type": "stream",
     "text": [
      "Wed May 20 17:20:00 2020       \r\n",
      "+-----------------------------------------------------------------------------+\r\n",
      "| NVIDIA-SMI 440.64.00    Driver Version: 440.64.00    CUDA Version: 10.2     |\r\n",
      "|-------------------------------+----------------------+----------------------+\r\n",
      "| GPU  Name        Persistence-M| Bus-Id        Disp.A | Volatile Uncorr. ECC |\r\n",
      "| Fan  Temp  Perf  Pwr:Usage/Cap|         Memory-Usage | GPU-Util  Compute M. |\r\n",
      "|===============================+======================+======================|\r\n",
      "|   0  TITAN X (Pascal)    On   | 00000000:05:00.0 Off |                  N/A |\r\n",
      "| 23%   38C    P8     8W / 250W |    254MiB / 12194MiB |      0%      Default |\r\n",
      "+-------------------------------+----------------------+----------------------+\r\n",
      "|   1  GeForce GTX 108...  On   | 00000000:09:00.0 Off |                  N/A |\r\n",
      "| 23%   35C    P8     9W / 250W |    149MiB / 11178MiB |      0%      Default |\r\n",
      "+-------------------------------+----------------------+----------------------+\r\n",
      "|   2  TITAN RTX           On   | 00000000:0B:00.0 Off |                  N/A |\r\n",
      "| 41%   37C    P8    14W / 280W |    175MiB / 24220MiB |      6%      Default |\r\n",
      "+-------------------------------+----------------------+----------------------+\r\n",
      "                                                                               \r\n",
      "+-----------------------------------------------------------------------------+\r\n",
      "| Processes:                                                       GPU Memory |\r\n",
      "|  GPU       PID   Type   Process name                             Usage      |\r\n",
      "|=============================================================================|\r\n",
      "|    0      1581      G   /usr/lib/xorg/Xorg                            39MiB |\r\n",
      "|    0      1618      G   /usr/bin/gnome-shell                          72MiB |\r\n",
      "|    0     13434      C   python                                       137MiB |\r\n",
      "|    1     13434      C   python                                       137MiB |\r\n",
      "|    2     13434      C   python                                       163MiB |\r\n",
      "+-----------------------------------------------------------------------------+\r\n"
     ]
    }
   ],
   "source": [
    "!nvidia-smi"
   ]
  },
  {
   "cell_type": "code",
   "execution_count": 3,
   "metadata": {},
   "outputs": [],
   "source": [
    "# Para atualizar um pacote, execute o comando abaixo no terminal ou prompt de comando:\n",
    "# pip install -U nome_pacote\n",
    "\n",
    "# Para instalar a versão exata de um pacote, execute o comando abaixo no terminal ou prompt de comando:\n",
    "# pip install nome_pacote==versão_desejada\n",
    "\n",
    "# Depois de instalar ou atualizar o pacote, reinicie o jupyter notebook.\n",
    "\n",
    "# Instala o pacote watermark. \n",
    "# Esse pacote é usado para gravar as versões de outros pacotes usados neste jupyter notebook.\n",
    "!pip install -q -U watermark"
   ]
  },
  {
   "cell_type": "code",
   "execution_count": 4,
   "metadata": {
    "colab": {
     "base_uri": "https://localhost:8080/",
     "height": 151
    },
    "colab_type": "code",
    "id": "37-blk_RD5MX",
    "outputId": "56352c37-a4e8-4569-8785-9b14cefaa3cb"
   },
   "outputs": [],
   "source": [
    "# Instala o pacote MXNet com suporte a GPU\n",
    "!pip install -q mxnet-cu102"
   ]
  },
  {
   "cell_type": "code",
   "execution_count": 5,
   "metadata": {
    "colab": {},
    "colab_type": "code",
    "id": "yaY7t_urEXGy"
   },
   "outputs": [],
   "source": [
    "# Imports\n",
    "import mxnet as mx\n",
    "import matplotlib\n",
    "import matplotlib.pyplot as plt\n",
    "from mxnet import nd, autograd, gluon"
   ]
  },
  {
   "cell_type": "code",
   "execution_count": 6,
   "metadata": {},
   "outputs": [
    {
     "name": "stdout",
     "output_type": "stream",
     "text": [
      "matplotlib 3.2.1\n",
      "mxnet      1.6.0\n",
      "Data Science Academy\n"
     ]
    }
   ],
   "source": [
    "# Versões dos pacotes usados neste jupyter notebook\n",
    "%reload_ext watermark\n",
    "%watermark -a \"Data Science Academy\" --iversions"
   ]
  },
  {
   "cell_type": "code",
   "execution_count": 7,
   "metadata": {},
   "outputs": [],
   "source": [
    "# Dados serão processados pela CPU e o modelo pela GPU. Altere o código abaixo se quiser executar apenas na CPU\n",
    "data_ctx = mx.cpu()\n",
    "model_ctx = mx.gpu()"
   ]
  },
  {
   "cell_type": "markdown",
   "metadata": {
    "colab_type": "text",
    "id": "VG03W6dwFSdX"
   },
   "source": [
    "### Carregando o Dataset\n",
    "\n",
    "Usaremos para este Lab o dataset MNIST com dígitos escritos à mão. O dataset tem 10 classes de saída, dígitos de 0 a 9. Vamos treinar um modelo de rede neural artificial e usar a função softmax para as previsões."
   ]
  },
  {
   "cell_type": "code",
   "execution_count": 8,
   "metadata": {
    "colab": {},
    "colab_type": "code",
    "id": "l1VK17yFEXJP"
   },
   "outputs": [],
   "source": [
    "# Função para transformação dos dados. O que fazemos aqui é colocar os dados na mesma escala.\n",
    "def transform(data, label):\n",
    "    return data.astype('float32')/255.0, label.astype('float32')"
   ]
  },
  {
   "cell_type": "code",
   "execution_count": 9,
   "metadata": {},
   "outputs": [],
   "source": [
    "# Extraímos os dados de treino\n",
    "mnist_treino = gluon.data.vision.MNIST(train = True, transform = transform)"
   ]
  },
  {
   "cell_type": "code",
   "execution_count": 10,
   "metadata": {},
   "outputs": [],
   "source": [
    "# Extraímos os dados de teste\n",
    "mnist_teste = gluon.data.vision.MNIST(train = False, transform = transform)"
   ]
  },
  {
   "cell_type": "code",
   "execution_count": 11,
   "metadata": {
    "colab": {
     "base_uri": "https://localhost:8080/",
     "height": 34
    },
    "colab_type": "code",
    "id": "8Np6CC1KEXLi",
    "outputId": "79ca4f89-fd01-40b5-edad-72aeff7fa918"
   },
   "outputs": [],
   "source": [
    "# Obtemos um elemento do dataset de treino (no índice 0)\n",
    "image, label = mnist_treino[0]"
   ]
  },
  {
   "cell_type": "code",
   "execution_count": 12,
   "metadata": {},
   "outputs": [
    {
     "data": {
      "text/plain": [
       "(28, 28, 1)"
      ]
     },
     "execution_count": 12,
     "metadata": {},
     "output_type": "execute_result"
    }
   ],
   "source": [
    "# Shape da imagem (3 dimensões, sendo altura, largura e canais de cores)\n",
    "image.shape"
   ]
  },
  {
   "cell_type": "code",
   "execution_count": 13,
   "metadata": {},
   "outputs": [
    {
     "data": {
      "text/plain": [
       "()"
      ]
     },
     "execution_count": 13,
     "metadata": {},
     "output_type": "execute_result"
    }
   ],
   "source": [
    "# Shape do label (vazio indica valor escalar, em nosso caso valores entre 0 e 9)\n",
    "label.shape"
   ]
  },
  {
   "cell_type": "code",
   "execution_count": 14,
   "metadata": {
    "colab": {
     "base_uri": "https://localhost:8080/",
     "height": 281
    },
    "colab_type": "code",
    "id": "O2ildymAEXNa",
    "outputId": "78f26d7d-96ec-464f-d7e7-9da3aa0a3941"
   },
   "outputs": [
    {
     "data": {
      "image/png": "[encoded data removed]",
      "text/plain": [
       "<Figure size 432x288 with 1 Axes>"
      ]
     },
     "metadata": {
      "needs_background": "light"
     },
     "output_type": "display_data"
    }
   ],
   "source": [
    "# Plot da imagem e label\n",
    "plt.imshow(image.reshape((28, 28)).asnumpy())\n",
    "plt.title(label)\n",
    "plt.show()"
   ]
  },
  {
   "cell_type": "markdown",
   "metadata": {
    "colab_type": "text",
    "id": "7TVVeQvqFjwo"
   },
   "source": [
    "### Definindo o DataLoader\n",
    "\n",
    "O DataLoader extrai batches de dados para alimentar o modelo durante o treinamento."
   ]
  },
  {
   "cell_type": "code",
   "execution_count": 15,
   "metadata": {
    "colab": {},
    "colab_type": "code",
    "id": "RfsjJWWBEXQt"
   },
   "outputs": [],
   "source": [
    "# Tamanho do batch\n",
    "batch_size = 64"
   ]
  },
  {
   "cell_type": "code",
   "execution_count": 16,
   "metadata": {},
   "outputs": [],
   "source": [
    "# Batches de treinamento\n",
    "dados_treino = gluon.data.DataLoader(mnist_treino, batch_size = batch_size, shuffle = True)"
   ]
  },
  {
   "cell_type": "code",
   "execution_count": 17,
   "metadata": {},
   "outputs": [],
   "source": [
    "# Batches de teste\n",
    "dados_teste = gluon.data.DataLoader(mnist_teste, batch_size = batch_size, shuffle = False)"
   ]
  },
  {
   "cell_type": "markdown",
   "metadata": {
    "colab_type": "text",
    "id": "knJXuZN5FmeK"
   },
   "source": [
    "### Construindo o Modelo\n",
    "\n",
    "Agora construímos o modelo de rede neural para classificação multiclasse."
   ]
  },
  {
   "cell_type": "code",
   "execution_count": 18,
   "metadata": {
    "colab": {},
    "colab_type": "code",
    "id": "ZI0NPr-tEXTG"
   },
   "outputs": [],
   "source": [
    "# Criamos uma camada densa com 10 neurônios\n",
    "modelo = gluon.nn.Dense(10)"
   ]
  },
  {
   "cell_type": "code",
   "execution_count": 19,
   "metadata": {},
   "outputs": [],
   "source": [
    "# Iniciamos o modelo e os pesos\n",
    "modelo.initialize(mx.init.Normal(sigma = 1.0), model_ctx)"
   ]
  },
  {
   "cell_type": "code",
   "execution_count": 20,
   "metadata": {
    "colab": {},
    "colab_type": "code",
    "id": "SZxyJIq6EXWt"
   },
   "outputs": [],
   "source": [
    "# Precisamos de uma função de custo e o MXNet oferece a SoftmaxCrossEntropyLoss que calcula o erro do modelo,\n",
    "# depois de fazer as previsões com a função softmax\n",
    "categoricalcrossentropy = gluon.loss.SoftmaxCrossEntropyLoss()"
   ]
  },
  {
   "cell_type": "code",
   "execution_count": 21,
   "metadata": {
    "colab": {},
    "colab_type": "code",
    "id": "oq8eacc8EXZp"
   },
   "outputs": [],
   "source": [
    "# Com o erro calculado, precisamos otimizar o modelo, ajustando os valores dos pesos\n",
    "# Usamos o algoritmo SGD - Stochastic Gradient Descent\n",
    "optimizer = gluon.Trainer(modelo.collect_params(), 'sgd', {'learning_rate': 0.1})"
   ]
  },
  {
   "cell_type": "code",
   "execution_count": 22,
   "metadata": {
    "colab": {},
    "colab_type": "code",
    "id": "-3osTW97ZuHR"
   },
   "outputs": [],
   "source": [
    "# Por fim, vamos criar uma função para calcular a acurácia do modelo\n",
    "# A função argmax() obtem a maior probabilidade, ou seja, o modelo vai fazer 10 previsões, uma para cada classe\n",
    "# A maior probabilidade, será a previsão final do modelo\n",
    "def accuracy(predictions, labels):\n",
    "    return nd.mean(predictions.argmax(1) == labels)"
   ]
  },
  {
   "cell_type": "markdown",
   "metadata": {
    "colab_type": "text",
    "id": "UlkEn5XxFPkd"
   },
   "source": [
    "### Treinamento do Modelo\n",
    "\n",
    "Agora treinamos o modelo."
   ]
  },
  {
   "cell_type": "code",
   "execution_count": 23,
   "metadata": {
    "colab": {
     "base_uri": "https://localhost:8080/",
     "height": 185
    },
    "colab_type": "code",
    "id": "kVao6lbWCizF",
    "outputId": "bd61bbfd-05ef-4622-e6a3-77bf41b44fa1"
   },
   "outputs": [],
   "source": [
    "# Hiperparâmetros\n",
    "epochs = 20\n",
    "num_batches = 60000/batch_size\n",
    "losses = []\n",
    "accs = []"
   ]
  },
  {
   "cell_type": "code",
   "execution_count": 24,
   "metadata": {},
   "outputs": [
    {
     "name": "stdout",
     "output_type": "stream",
     "text": [
      "\n",
      "Iniciando o treinamento do modelo...\n",
      "\n",
      "Epoch: 0 Erro: 1.955133984375 Acurácia: 0.67355\n",
      "Epoch: 1 Erro: 0.8580482421875 Acurácia: 0.8218166666666666\n",
      "Epoch: 2 Erro: 0.7077859375 Acurácia: 0.847\n",
      "Epoch: 3 Erro: 0.6288337890625 Acurácia: 0.8614666666666667\n",
      "Epoch: 4 Erro: 0.5785268229166667 Acurácia: 0.869\n",
      "Epoch: 5 Erro: 0.54241474609375 Acurácia: 0.8754\n",
      "Epoch: 6 Erro: 0.5143861979166666 Acurácia: 0.8804833333333333\n",
      "Epoch: 7 Erro: 0.49206930338541666 Acurácia: 0.8840166666666667\n",
      "Epoch: 8 Erro: 0.47354150390625 Acurácia: 0.8877833333333334\n",
      "Epoch: 9 Erro: 0.45733896484375 Acurácia: 0.8905166666666666\n",
      "Epoch: 10 Erro: 0.4430499674479167 Acurácia: 0.8929333333333334\n",
      "Epoch: 11 Erro: 0.4308859049479167 Acurácia: 0.8947166666666667\n",
      "Epoch: 12 Erro: 0.4200426432291667 Acurácia: 0.8963833333333333\n",
      "Epoch: 13 Erro: 0.41077685546875 Acurácia: 0.89835\n",
      "Epoch: 14 Erro: 0.4023052408854167 Acurácia: 0.90085\n",
      "Epoch: 15 Erro: 0.39443125 Acurácia: 0.9016666666666666\n",
      "Epoch: 16 Erro: 0.3873283203125 Acurácia: 0.9026\n",
      "Epoch: 17 Erro: 0.380700390625 Acurácia: 0.9042666666666667\n",
      "Epoch: 18 Erro: 0.3747841145833333 Acurácia: 0.90515\n",
      "Epoch: 19 Erro: 0.3694427083333333 Acurácia: 0.9059\n",
      "\n",
      "Treinamento concluído.\n",
      "\n"
     ]
    }
   ],
   "source": [
    "# Loop de treinamento\n",
    "print(\"\\nIniciando o treinamento do modelo...\\n\")\n",
    "for epoch in range(epochs):\n",
    "    \n",
    "    # Inicializa o erro acumulado\n",
    "    cumulative_loss = 0\n",
    "    \n",
    "    # Inicializa a acurácia acumlada\n",
    "    cumulative_acc = 0\n",
    "    \n",
    "    # Loop pelos bacthes de dados de treino\n",
    "    for features, labels in dados_treino:\n",
    "        \n",
    "        # Extrai os atributos (variáveis preditoras)\n",
    "        features = features.as_in_context(model_ctx)\n",
    "        \n",
    "        # Extrai os labels (variáveis de saída)\n",
    "        labels = labels.as_in_context(model_ctx)\n",
    "        \n",
    "        # Faz as previsões e calcula o erro do modelo\n",
    "        with autograd.record():\n",
    "            output = modelo(features)\n",
    "            loss = categoricalcrossentropy(output, labels)\n",
    "            \n",
    "        # Inicia o backpropagation\n",
    "        loss.backward()\n",
    "        \n",
    "        # Otimiza o modelo atualizando os pesos para a próxima passada\n",
    "        optimizer.step(batch_size)\n",
    "        \n",
    "        # Calcula erro e acurácia\n",
    "        cumulative_loss += loss.mean()\n",
    "        cumulative_acc += accuracy(output, labels)\n",
    "        \n",
    "    # Custo e acurácia da época    \n",
    "    cost = cumulative_loss.asscalar()/num_batches\n",
    "    acc = cumulative_acc.asscalar()/num_batches\n",
    "    \n",
    "    # Print\n",
    "    print(f'Epoch: {epoch} Erro: {cost} Acurácia: {acc}')\n",
    "    losses.append(cost)\n",
    "    accs.append(acc)\n",
    "    \n",
    "print(\"\\nTreinamento concluído.\\n\")"
   ]
  },
  {
   "cell_type": "markdown",
   "metadata": {
    "colab_type": "text",
    "id": "JJOc7DOepwEE"
   },
   "source": [
    "### Testando o Modelo\n",
    "\n",
    "Agora testamos o modelo."
   ]
  },
  {
   "cell_type": "code",
   "execution_count": 25,
   "metadata": {
    "colab": {
     "base_uri": "https://localhost:8080/",
     "height": 34
    },
    "colab_type": "code",
    "id": "dvvQC3oQYu5A",
    "outputId": "d376b037-08e7-4fc8-96bd-cbc7c917874c"
   },
   "outputs": [],
   "source": [
    "# Iniciamos variáveis para o cálculo da acurácia e número de bacthes\n",
    "acc = 0.0\n",
    "batches = 0"
   ]
  },
  {
   "cell_type": "code",
   "execution_count": 26,
   "metadata": {},
   "outputs": [],
   "source": [
    "# Loop pelos dados de treino para fazer as previsões e calcular a acurácia total\n",
    "for features, labels in dados_teste:\n",
    "    features = features.as_in_context(model_ctx).reshape((-1, 784))\n",
    "    labels = labels.as_in_context(model_ctx)\n",
    "    predictions = modelo(features)\n",
    "    acc += accuracy(predictions, labels)\n",
    "    batches += 1"
   ]
  },
  {
   "cell_type": "code",
   "execution_count": 27,
   "metadata": {},
   "outputs": [
    {
     "name": "stdout",
     "output_type": "stream",
     "text": [
      "Acurácia em Teste: 0.90734474522293\n"
     ]
    }
   ],
   "source": [
    "print(f'Acurácia em Teste: {acc.asscalar()/batches}')"
   ]
  },
  {
   "cell_type": "code",
   "execution_count": 28,
   "metadata": {},
   "outputs": [
    {
     "data": {
      "image/png": "[encoded data removed]",
      "text/plain": [
       "<Figure size 432x288 with 1 Axes>"
      ]
     },
     "metadata": {
      "needs_background": "light"
     },
     "output_type": "display_data"
    }
   ],
   "source": [
    "# Plot da Acurácia em Treino\n",
    "plt.plot(accs, 'g')\n",
    "plt.title('Acurácia em Treino')\n",
    "plt.xlabel('Epoch')\n",
    "plt.ylabel('Acurácia')\n",
    "plt.show()"
   ]
  },
  {
   "cell_type": "code",
   "execution_count": 29,
   "metadata": {},
   "outputs": [
    {
     "data": {
      "image/png": "[encoded data removed]",
      "text/plain": [
       "<Figure size 432x288 with 1 Axes>"
      ]
     },
     "metadata": {
      "needs_background": "light"
     },
     "output_type": "display_data"
    }
   ],
   "source": [
    "# Plot do Erro em Treino\n",
    "plt.plot(losses, 'r')\n",
    "plt.title('Erro em Treino')\n",
    "plt.xlabel('Epoch')\n",
    "plt.ylabel('Erro')\n",
    "plt.show()"
   ]
  },
  {
   "cell_type": "code",
   "execution_count": 30,
   "metadata": {
    "colab": {},
    "colab_type": "code",
    "id": "hIBgjWVBYu3t"
   },
   "outputs": [
    {
     "name": "stdout",
     "output_type": "stream",
     "text": [
      "Previsões da Rede Neural (a função softmax vai obter o maior valor): \n",
      "[[  6.0835724  -8.041874    9.8963175  10.872908    2.2937663   6.1577325\n",
      "  -12.294527   21.616291    6.5760684  11.909309 ]]\n",
      "<NDArray 1x10 @gpu(0)>\n"
     ]
    },
    {
     "data": {
      "image/png": "[encoded data removed]",
      "text/plain": [
       "<Figure size 432x288 with 1 Axes>"
      ]
     },
     "metadata": {
      "needs_background": "light"
     },
     "output_type": "display_data"
    },
    {
     "name": "stdout",
     "output_type": "stream",
     "text": [
      "Previsões da Rede Neural (a função softmax vai obter o maior valor): \n",
      "[[  6.9824734  -2.3900738  16.122814    9.147577  -20.354061   12.266544\n",
      "    9.213014  -26.79968    11.016783  -18.08144  ]]\n",
      "<NDArray 1x10 @gpu(0)>\n"
     ]
    },
    {
     "data": {
      "image/png": "[encoded data removed]",
      "text/plain": [
       "<Figure size 432x288 with 1 Axes>"
      ]
     },
     "metadata": {
      "needs_background": "light"
     },
     "output_type": "display_data"
    },
    {
     "name": "stdout",
     "output_type": "stream",
     "text": [
      "Previsões da Rede Neural (a função softmax vai obter o maior valor): \n",
      "[[-11.174872     9.1477165    4.452926     1.3678877   -1.8387046\n",
      "    0.6708195    0.15556985   1.774803     1.2126713   -0.40231234]]\n",
      "<NDArray 1x10 @gpu(0)>\n"
     ]
    },
    {
     "data": {
      "image/png": "[encoded data removed]",
      "text/plain": [
       "<Figure size 432x288 with 1 Axes>"
      ]
     },
     "metadata": {
      "needs_background": "light"
     },
     "output_type": "display_data"
    },
    {
     "name": "stdout",
     "output_type": "stream",
     "text": [
      "Previsões da Rede Neural (a função softmax vai obter o maior valor): \n",
      "[[ 14.597072   -18.480667     2.1604428   -3.2077367  -12.445295\n",
      "   -0.94546485   0.5051214   -4.330636    -1.625145    -2.1121502 ]]\n",
      "<NDArray 1x10 @gpu(0)>\n"
     ]
    },
    {
     "data": {
      "image/png": "[encoded data removed]",
      "text/plain": [
       "<Figure size 432x288 with 1 Axes>"
      ]
     },
     "metadata": {
      "needs_background": "light"
     },
     "output_type": "display_data"
    },
    {
     "name": "stdout",
     "output_type": "stream",
     "text": [
      "Previsões da Rede Neural (a função softmax vai obter o maior valor): \n",
      "[[ -6.192108  -12.900526    1.3319671  -8.256805   10.48709    -4.089473\n",
      "    1.885591    1.7557448   2.555035    5.1508865]]\n",
      "<NDArray 1x10 @gpu(0)>\n"
     ]
    },
    {
     "data": {
      "image/png": "[encoded data removed]",
      "text/plain": [
       "<Figure size 432x288 with 1 Axes>"
      ]
     },
     "metadata": {
      "needs_background": "light"
     },
     "output_type": "display_data"
    },
    {
     "name": "stdout",
     "output_type": "stream",
     "text": [
      "Previsões da Rede Neural (a função softmax vai obter o maior valor): \n",
      "[[-14.200579    11.532734     3.236494     3.1523988   -2.8473103\n",
      "   -1.3728845   -4.3530927    4.934839     4.889869     0.93483216]]\n",
      "<NDArray 1x10 @gpu(0)>\n"
     ]
    },
    {
     "data": {
      "image/png": "[encoded data removed]",
      "text/plain": [
       "<Figure size 432x288 with 1 Axes>"
      ]
     },
     "metadata": {
      "needs_background": "light"
     },
     "output_type": "display_data"
    }
   ],
   "source": [
    "# Previsões com o modelo treinado\n",
    "samples = 5\n",
    "for i, batch in enumerate(mnist_teste):\n",
    "    features = batch[0].as_in_context(model_ctx).reshape((1, 784))\n",
    "    labels = batch[1]\n",
    "    probs = modelo(features)\n",
    "    print(\"Previsões da Rede Neural (a função softmax vai obter o maior valor):\", probs)\n",
    "    predictions = modelo(features).argmax(1).asscalar()\n",
    "    plt.imshow(features.reshape((28, 28)).asnumpy())\n",
    "    plt.title(f'Valor Previsto: {predictions}, Valor Real: {labels}')\n",
    "    plt.show()\n",
    "    if i == samples:\n",
    "        break"
   ]
  },
  {
   "cell_type": "markdown",
   "metadata": {},
   "source": [
    "Se você verificar acima, a função argmax() sempre retorna o maior valor de cada vetor de previsões, o que se torna a previsão final de classe."
   ]
  },
  {
   "cell_type": "markdown",
   "metadata": {
    "colab": {},
    "colab_type": "code",
    "id": "eep2N8n2GqPx"
   },
   "source": [
    "# Fim"
   ]
  }
 ],
 "metadata": {
  "accelerator": "GPU",
  "colab": {
   "collapsed_sections": [],
   "name": "Multiclass Softmax Classification - MXNet (Using Gluon).ipynb",
   "provenance": [],
   "version": "0.3.2"
  },
  "kernelspec": {
   "display_name": "Python 3",
   "language": "python",
   "name": "python3"
  },
  "language_info": {
   "codemirror_mode": {
    "name": "ipython",
    "version": 3
   },
   "file_extension": ".py",
   "mimetype": "text/x-python",
   "name": "python",
   "nbconvert_exporter": "python",
   "pygments_lexer": "ipython3",
   "version": "3.7.6"
  }
 },
 "nbformat": 4,
 "nbformat_minor": 1
}
