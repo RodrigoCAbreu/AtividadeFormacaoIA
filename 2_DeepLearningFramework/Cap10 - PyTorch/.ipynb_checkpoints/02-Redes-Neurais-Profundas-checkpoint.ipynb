{
 "cells": [
  {
   "cell_type": "markdown",
   "metadata": {
    "colab_type": "text",
    "id": "view-in-github"
   },
   "source": [
    "# <font color='blue'>Data Science Academy</font>\n",
    "# <font color='blue'>Deep Learning Frameworks</font>"
   ]
  },
  {
   "cell_type": "markdown",
   "metadata": {},
   "source": [
    "## Redes Neurais Artificiais Profundas"
   ]
  },
  {
   "cell_type": "markdown",
   "metadata": {},
   "source": [
    "Vamos criar a mesma rede neural usando alternativas diferentes. Uma excelente forma de comparar como diferentes bibliotecas permitem a criação de um modelo de rede neural. Usaremos:\n",
    "\n",
    "- TensorFlow 2 e Keras (Nível Baixo de Complexidade)\n",
    "- PyTorch (Nível Médio de Complexidade)\n",
    "- NumPy (Nível Alto de Complexidade)"
   ]
  },
  {
   "cell_type": "markdown",
   "metadata": {},
   "source": [
    "## Arquitetura da Rede\n",
    "\n",
    "Criaremos uma rede neural para aprender a prever dígitos escritos à mão com o dataset MNIST. Aqui um exemplo do dataset:\n",
    "\n",
    "![](./imagens/mnist.png)"
   ]
  },
  {
   "cell_type": "markdown",
   "metadata": {},
   "source": [
    "Nossa rede terá a seguinte arquitetura:\n",
    "\n",
    "![](./imagens/rede.png)"
   ]
  },
  {
   "cell_type": "markdown",
   "metadata": {
    "colab_type": "text",
    "id": "kP95YI3lgIrd"
   },
   "source": [
    "## Defininindo o Dataset\n",
    "\n",
    "Para este passo a passo, vamos nos concentrar na importação do conjunto de dados MNIST e usá-lo como entrada para nossas redes neurais profundas. \n",
    "\n",
    "Para cada biblioteca vamos carregar os dados usando o que elas oferecem. "
   ]
  },
  {
   "cell_type": "markdown",
   "metadata": {},
   "source": [
    "## TensorFlow 2.0 e Keras\n",
    "\n",
    "Vamos começar pelo mais fácil!\n",
    "\n",
    "Vejamos com que facilidade podemos construir uma rede no TensorFlow (com Keras).\n",
    "\n",
    "Com o TensorFlow e o Keras, não precisamos pensar muito nas funções de ativação, otimizadores etc., pois elas já estão implementados. Além disso, o tempo de execução costuma ser menor para executar e treinar uma rede neural, uma vez que as estruturas são completamente otimizadas em comparação com o NumPy, por exemplo."
   ]
  },
  {
   "cell_type": "code",
   "execution_count": null,
   "metadata": {},
   "outputs": [],
   "source": [
    "# Para atualizar um pacote, execute o comando abaixo no terminal ou prompt de comando:\n",
    "# pip install -U nome_pacote\n",
    "\n",
    "# Para instalar a versão exata de um pacote, execute o comando abaixo no terminal ou prompt de comando:\n",
    "# pip install nome_pacote==versão_desejada\n",
    "\n",
    "# Depois de instalar ou atualizar o pacote, reinicie o jupyter notebook."
   ]
  },
  {
   "cell_type": "code",
   "execution_count": null,
   "metadata": {},
   "outputs": [],
   "source": [
    "# Instala o pacote watermark. \n",
    "# Esse pacote é usado para gravar as versões de outros pacotes usados neste jupyter notebook.\n",
    "!pip install -q -U watermark"
   ]
  },
  {
   "cell_type": "code",
   "execution_count": null,
   "metadata": {},
   "outputs": [],
   "source": [
    "# Imports\n",
    "import tensorflow as tf\n",
    "from tensorflow.keras.datasets import mnist\n",
    "from tensorflow.keras.utils import to_categorical\n",
    "from tensorflow.keras.layers import Flatten, Dense\n",
    "import matplotlib.pyplot as plt\n",
    "import matplotlib\n",
    "import keras"
   ]
  },
  {
   "cell_type": "code",
   "execution_count": null,
   "metadata": {},
   "outputs": [],
   "source": [
    "# Versões dos pacotes usados neste jupyter notebook\n",
    "%reload_ext watermark\n",
    "%watermark -a \"Data Science Academy\" --iversions"
   ]
  },
  {
   "cell_type": "code",
   "execution_count": null,
   "metadata": {},
   "outputs": [],
   "source": [
    "# Carrega os dados (treino e teste)\n",
    "(x_treino, y_treino), (x_teste, y_teste) = mnist.load_data()"
   ]
  },
  {
   "cell_type": "code",
   "execution_count": null,
   "metadata": {},
   "outputs": [],
   "source": [
    "x_treino.shape"
   ]
  },
  {
   "cell_type": "code",
   "execution_count": null,
   "metadata": {},
   "outputs": [],
   "source": [
    "x_teste.shape"
   ]
  },
  {
   "cell_type": "code",
   "execution_count": null,
   "metadata": {},
   "outputs": [],
   "source": [
    "# Exemplos de imagens\n",
    "\n",
    "# Nomes das classes\n",
    "class_names = ['zero', 'one', 'two', 'three', 'four', 'five', 'six', 'seven', 'eight', 'nine']\n",
    "\n",
    "# Plot\n",
    "plt.figure(figsize = (10,10))\n",
    "for i in range(16):\n",
    "    plt.subplot(4, 4, i+1)\n",
    "    plt.xticks([])\n",
    "    plt.yticks([])\n",
    "    plt.imshow(x_treino[i], cmap = plt.cm.binary)\n",
    "    plt.xlabel(class_names[y_treino[i]])\n",
    "plt.show()"
   ]
  },
  {
   "cell_type": "code",
   "execution_count": null,
   "metadata": {},
   "outputs": [],
   "source": [
    "# Prepara os dados de treino\n",
    "\n",
    "# Separa X e Y e Normaliza X\n",
    "x_treino = x_treino.astype('float32') / 255\n",
    "y_treino = to_categorical(y_treino)"
   ]
  },
  {
   "cell_type": "code",
   "execution_count": null,
   "metadata": {},
   "outputs": [],
   "source": [
    "# Cria o modelo\n",
    "modelo_tf = tf.keras.Sequential([Flatten(input_shape = (28, 28)), \n",
    "                                 Dense(128, activation = 'relu'),\n",
    "                                 Dense(64, activation = 'relu'),\n",
    "                                 Dense(10, activation = 'softmax')\n",
    "])"
   ]
  },
  {
   "cell_type": "code",
   "execution_count": null,
   "metadata": {},
   "outputs": [],
   "source": [
    "# Compila o modelo\n",
    "modelo_tf.compile(loss = 'categorical_crossentropy', optimizer = 'Adam', metrics = ['accuracy'])"
   ]
  },
  {
   "cell_type": "code",
   "execution_count": null,
   "metadata": {},
   "outputs": [],
   "source": [
    "# Treina o modelo\n",
    "modelo_tf.fit(x_treino, y_treino, epochs = 10)"
   ]
  },
  {
   "cell_type": "code",
   "execution_count": null,
   "metadata": {},
   "outputs": [],
   "source": [
    "# Sumário do modelo\n",
    "modelo_tf.summary()"
   ]
  },
  {
   "cell_type": "code",
   "execution_count": null,
   "metadata": {},
   "outputs": [],
   "source": [
    "# Prepara os dados de teste\n",
    "\n",
    "# Separa X e Y e Normaliza X\n",
    "x_teste = x_teste.astype('float32') / 255\n",
    "y_teste = to_categorical(y_teste)\n",
    "\n",
    "# Ajusta o shape de X (apenas se necesssário)\n",
    "# x_teste = x_teste.reshape((-1, 28, 28))\n",
    "\n",
    "# Ajusta o shape de y (apenas se necesssário)\n",
    "# y_teste = y_teste.reshape((-2, 10))"
   ]
  },
  {
   "cell_type": "code",
   "execution_count": null,
   "metadata": {},
   "outputs": [],
   "source": [
    "x_teste.shape"
   ]
  },
  {
   "cell_type": "code",
   "execution_count": null,
   "metadata": {},
   "outputs": [],
   "source": [
    "y_teste.shape"
   ]
  },
  {
   "cell_type": "code",
   "execution_count": null,
   "metadata": {},
   "outputs": [],
   "source": [
    "previsoes = modelo_tf.predict(x_teste)\n",
    "print(previsoes)"
   ]
  },
  {
   "cell_type": "code",
   "execution_count": null,
   "metadata": {},
   "outputs": [],
   "source": [
    "# Avalia o modelo\n",
    "\n",
    "# Calcula a acurácia\n",
    "teste_loss, teste_accuracy = modelo_tf.evaluate(x_teste,  y_teste, verbose = 2)\n",
    "\n",
    "# Print\n",
    "print('\\nAcurácia com Dados de Teste = {0:.2f}%'.format(teste_accuracy * 100.0))"
   ]
  },
  {
   "cell_type": "markdown",
   "metadata": {},
   "source": [
    "Esse foi o processo executado durante o treinamento da rede:\n",
    "\n",
    "![](./imagens/nn.png)"
   ]
  },
  {
   "cell_type": "markdown",
   "metadata": {},
   "source": [
    "## PyTorch\n",
    "\n",
    "O PyTorch é mais um framework popular para cálculos, e é amplamente usado na comunidade de pesquisa. No PyTorch, você ainda precisa fazer muito trabalho alinhando todas as dimensões dos dados e especificando as camadas e a passagem direta de maneira exata. Isso não é algo ruim e é muito mais fácil personalizar os componentes de uma rede neural."
   ]
  },
  {
   "cell_type": "code",
   "execution_count": null,
   "metadata": {},
   "outputs": [],
   "source": [
    "!pip install -q torchvision"
   ]
  },
  {
   "cell_type": "code",
   "execution_count": null,
   "metadata": {},
   "outputs": [],
   "source": [
    "# Imports\n",
    "import time\n",
    "import torch\n",
    "import torchvision\n",
    "import torch.nn as nn\n",
    "import torch.optim as optim\n",
    "import torch.nn.functional as F\n",
    "from torchvision import datasets, transforms\n",
    "import matplotlib.pyplot as plt\n",
    "import matplotlib\n",
    "import numpy as np"
   ]
  },
  {
   "cell_type": "code",
   "execution_count": null,
   "metadata": {},
   "outputs": [],
   "source": [
    "# Versões dos pacotes usados neste jupyter notebook\n",
    "%reload_ext watermark\n",
    "%watermark -a \"Data Science Academy\" --iversions"
   ]
  },
  {
   "cell_type": "markdown",
   "metadata": {},
   "source": [
    "Antes de fazer o download dos dados, vamos definir quais são as transformações que queremos executar em nossos dados antes de inseri-los no pipeline. Em outras palavras, você pode considerar que é algum tipo de edição personalizada em execução nas imagens, para que todas as imagens tenham as mesmas dimensões e propriedades. Fazemos isso usando torchvision.transforms.\n",
    "\n",
    "transforms.ToTensor () - converte a imagem em números, que são compreensíveis pelo sistema. Ele separa a imagem em três canais de cores (imagens separadas): vermelho, verde e azul. Em seguida, converte os pixels de cada imagem no brilho de suas cores entre 0 e 255. Esses valores são reduzidos para um intervalo entre 0 e 1. A imagem agora é um tensor pyTorch.\n",
    "\n",
    "transforms.Normalize () - normaliza o tensor com uma média e um desvio padrão que variam conforme os dois parâmetros, respectivamente."
   ]
  },
  {
   "cell_type": "code",
   "execution_count": null,
   "metadata": {},
   "outputs": [],
   "source": [
    "# Função para transformar os dados ao carregar\n",
    "transform = transforms.Compose([transforms.ToTensor(), transforms.Normalize((0.5,), (0.5,))])"
   ]
  },
  {
   "cell_type": "markdown",
   "metadata": {},
   "source": [
    "Agora baixamos os conjuntos de dados, embaralhamos e transformamos cada um deles. Fazemos o download dos conjuntos de dados e os carregamos no DataLoader, que combina o conjunto de dados e um amostrador e fornece iteradores de processo único ou multiprocessos sobre o conjunto de dados."
   ]
  },
  {
   "cell_type": "code",
   "execution_count": null,
   "metadata": {},
   "outputs": [],
   "source": [
    "# Carrega os dados de treino\n",
    "dados_treino = torch.utils.data.DataLoader(datasets.MNIST('dados', \n",
    "                                                          train = True, \n",
    "                                                          download = True, \n",
    "                                                          transform = transform),\n",
    "                                                          batch_size = 64, \n",
    "                                                          shuffle = True)"
   ]
  },
  {
   "cell_type": "code",
   "execution_count": null,
   "metadata": {},
   "outputs": [],
   "source": [
    "# Carrega os dados de teste\n",
    "dados_teste = torch.utils.data.DataLoader(datasets.MNIST('dados', \n",
    "                                                         train = False, \n",
    "                                                         transform = transform),\n",
    "                                                         batch_size = 64, \n",
    "                                                         shuffle = True)"
   ]
  },
  {
   "cell_type": "markdown",
   "metadata": {},
   "source": [
    "Em uma linha, o tamanho do lote é o número de imagens que queremos ler de uma só vez."
   ]
  },
  {
   "cell_type": "code",
   "execution_count": null,
   "metadata": {},
   "outputs": [],
   "source": [
    "# Visualizando a dimensão dos dados de treino\n",
    "dataiter = iter(dados_treino)\n",
    "images, labels = dataiter.next()\n",
    "\n",
    "print(images.shape)\n",
    "print(labels.shape)"
   ]
  },
  {
   "cell_type": "markdown",
   "metadata": {},
   "source": [
    "O formato das imagens torch.Size ([64,1,28,28]), o que sugere que existem 64 imagens em cada lote e cada imagem tem uma dimensão de 28 x 28 pixels. Da mesma forma, os rótulos têm a forma de torch.Size ([64]). Adivinha por que? - Sim, você está certo! 64 imagens devem ter 64 rótulos, respectivamente. É isso aí. Fácil!"
   ]
  },
  {
   "cell_type": "code",
   "execution_count": null,
   "metadata": {},
   "outputs": [],
   "source": [
    "# Visualizando uma imagem\n",
    "plt.imshow(images[0].numpy().squeeze(), cmap = 'gray_r');"
   ]
  },
  {
   "cell_type": "code",
   "execution_count": null,
   "metadata": {},
   "outputs": [],
   "source": [
    "# Visualizando várias imagens\n",
    "figure = plt.figure()\n",
    "num_of_images = 60\n",
    "for index in range(1, num_of_images + 1):\n",
    "    plt.subplot(6, 10, index)\n",
    "    plt.axis('off')\n",
    "    plt.imshow(images[index].numpy().squeeze(), cmap = 'gray_r')"
   ]
  },
  {
   "cell_type": "code",
   "execution_count": null,
   "metadata": {},
   "outputs": [],
   "source": [
    "# Hiperparâmetros da rede\n",
    "input_size = 784\n",
    "hidden_sizes = [128, 64]\n",
    "output_size = 10"
   ]
  },
  {
   "cell_type": "code",
   "execution_count": null,
   "metadata": {},
   "outputs": [],
   "source": [
    "# Modelo\n",
    "modelo_pt = nn.Sequential(nn.Linear(input_size, hidden_sizes[0]),  # 784 x 128\n",
    "                          nn.ReLU(),\n",
    "                          nn.Linear(hidden_sizes[0], hidden_sizes[1]),  # 128 x 64\n",
    "                          nn.ReLU(),\n",
    "                          nn.Linear(hidden_sizes[1], output_size),  # 64 x 10\n",
    "                          nn.LogSoftmax(dim = 1))"
   ]
  },
  {
   "cell_type": "code",
   "execution_count": null,
   "metadata": {},
   "outputs": [],
   "source": [
    "print(modelo_pt)"
   ]
  },
  {
   "cell_type": "markdown",
   "metadata": {},
   "source": [
    "O nn.Sequential envolve as camadas na rede. Existem três camadas lineares com a ativação ReLU (uma função simples que permite a passagem de valores positivos, enquanto valores negativos são modificados para zero). A camada de saída é uma camada linear com a ativação LogSoftmax porque este é um problema de classificação.\n",
    "\n",
    "Tecnicamente, uma função LogSoftmax é o logaritmo de uma função Softmax como o nome indica e se parece com isso, conforme mostrado abaixo.\n",
    "\n",
    "![](./imagens/logsoftmax.png)"
   ]
  },
  {
   "cell_type": "markdown",
   "metadata": {},
   "source": [
    "Em seguida, definimos a perda de probabilidade logarítmica negativa (**negative log-likelihood loss**). Juntos, o LogSoftmax() e o NLLLoss() atuam como a perda de entropia cruzada, conforme mostrado no diagrama da arquitetura de rede acima.\n",
    "\n",
    "Além disso, você deve estar se perguntando por que temos 784 unidades na primeira camada. Boa! É porque achatamos cada imagem antes de enviá-la para dentro da rede neural. (28 x 28 = 784)"
   ]
  },
  {
   "cell_type": "code",
   "execution_count": null,
   "metadata": {},
   "outputs": [],
   "source": [
    "# Função de custo do modelo\n",
    "criterion = nn.NLLLoss()\n",
    "\n",
    "# Obtendo os lotes de dados\n",
    "images, labels = next(iter(dados_treino))\n",
    "\n",
    "# Ajustando o shape\n",
    "images = images.view(images.shape[0], -1)\n",
    "\n",
    "# Logs das probabilidades de classe\n",
    "logps = modelo_pt(images) \n",
    "\n",
    "# Perda\n",
    "loss = criterion(logps, labels) "
   ]
  },
  {
   "cell_type": "markdown",
   "metadata": {},
   "source": [
    "Uma rede neural aprende iterando várias vezes nos dados disponíveis. Os termos aprendidos referem-se ao ajuste de pesos da rede para minimizar a perda. Vamos visualizar como funciona."
   ]
  },
  {
   "cell_type": "code",
   "execution_count": null,
   "metadata": {},
   "outputs": [],
   "source": [
    "print('\\nAntes do Backward Pass: \\n', modelo_pt[0].weight.grad)\n",
    "loss.backward()\n",
    "print('\\nDepois do Backward Pass: \\n', modelo_pt[0].weight.grad)"
   ]
  },
  {
   "cell_type": "markdown",
   "metadata": {},
   "source": [
    "Treinamento"
   ]
  },
  {
   "cell_type": "code",
   "execution_count": null,
   "metadata": {},
   "outputs": [],
   "source": [
    "# Otimizador\n",
    "optimizer = optim.SGD(modelo_pt.parameters(), lr = 0.003, momentum = 0.9)\n",
    "\n",
    "# Número de épocas\n",
    "epochs = 10\n",
    "\n",
    "# Loop de treinamento\n",
    "for e in range(epochs):\n",
    "    \n",
    "    # Registra o momento de início da época\n",
    "    start_time = time.time()\n",
    "    \n",
    "    # Zera o erro da época\n",
    "    running_loss = 0\n",
    "    \n",
    "    # Loop pelas imagens e labels\n",
    "    for images, labels in dados_treino:\n",
    "        \n",
    "        # Flatten das imagens MNIST\n",
    "        images = images.view(images.shape[0], -1)\n",
    "    \n",
    "        # Passada de treinamento\n",
    "        optimizer.zero_grad()\n",
    "        \n",
    "        output = modelo_pt(images)\n",
    "        loss = criterion(output, labels)\n",
    "        \n",
    "        # Aqui acontece o aprendizado como backpropagation\n",
    "        loss.backward()\n",
    "        \n",
    "        # E aqui otimiza os pesos\n",
    "        optimizer.step()\n",
    "        \n",
    "        running_loss += loss.item()\n",
    "    else:\n",
    "        print('Epoch: {0}, Tempo Gasto: {1:.2f}s, Loss(Erro): {2}'.format(e, \n",
    "                                                                          time.time() - start_time, \n",
    "                                                                          running_loss / len(dados_treino)))"
   ]
  },
  {
   "cell_type": "markdown",
   "metadata": {},
   "source": [
    "Avaliação e teste"
   ]
  },
  {
   "cell_type": "code",
   "execution_count": null,
   "metadata": {},
   "outputs": [],
   "source": [
    "# Função para visualizar a classificação\n",
    "def visualiza_classe(img, ps):\n",
    "    ps = ps.data.numpy().squeeze()\n",
    "    fig, (ax1, ax2) = plt.subplots(figsize = (6,9), ncols = 2)\n",
    "    ax1.imshow(img.resize_(1, 28, 28).numpy().squeeze())\n",
    "    ax1.axis('off')\n",
    "    ax2.barh(np.arange(10), ps)\n",
    "    ax2.set_aspect(0.1)\n",
    "    ax2.set_yticks(np.arange(10))\n",
    "    ax2.set_yticklabels(np.arange(10))\n",
    "    ax2.set_title('Probabilidade de Classe')\n",
    "    ax2.set_xlim(0, 1.1)\n",
    "    plt.tight_layout()"
   ]
  },
  {
   "cell_type": "code",
   "execution_count": null,
   "metadata": {},
   "outputs": [],
   "source": [
    "# Obtém uma imagem de teste\n",
    "images, labels = next(iter(dados_teste))\n",
    "\n",
    "# Ajusta a imagem\n",
    "img = images[0].view(1, 784)\n",
    "\n",
    "# Faz previsão com a imagem\n",
    "with torch.no_grad():\n",
    "    logps = modelo_pt(img)\n",
    "\n",
    "# Log de probabilidade da previsão\n",
    "ps = torch.exp(logps)\n",
    "probab = list(ps.numpy()[0])\n",
    "\n",
    "# Print\n",
    "print(\"Dígito Previsto =\", probab.index(max(probab)))\n",
    "\n",
    "# Visualiza classe\n",
    "visualiza_classe(img.view(1, 28, 28), ps)"
   ]
  },
  {
   "cell_type": "markdown",
   "metadata": {},
   "source": [
    "Agora, iteramos pelo conjunto de teste usando um loop for e calculamos o número total de previsões corretas. É assim que podemos calcular a precisão."
   ]
  },
  {
   "cell_type": "code",
   "execution_count": null,
   "metadata": {},
   "outputs": [],
   "source": [
    "# Avaliando o modelo\n",
    "correct_count, all_count = 0, 0\n",
    "for images,labels in dados_teste:\n",
    "    for i in range(len(labels)):\n",
    "        img = images[i].view(1, 784)\n",
    "        with torch.no_grad():\n",
    "            logps = modelo_pt(img)\n",
    "\n",
    "        ps = torch.exp(logps)\n",
    "        probab = list(ps.numpy()[0])\n",
    "        pred_label = probab.index(max(probab))\n",
    "        true_label = labels.numpy()[i]\n",
    "        if(true_label == pred_label):\n",
    "            correct_count += 1\n",
    "        all_count += 1\n",
    "\n",
    "print(\"\\nNúmero de Imagens Testadas =\", all_count)\n",
    "print(\"Acurácia nos Dados de Teste =\", (correct_count/all_count))"
   ]
  },
  {
   "cell_type": "code",
   "execution_count": null,
   "metadata": {},
   "outputs": [],
   "source": [
    "# Salvando o modelo\n",
    "torch.save(modelo_pt, 'modelos/modelo_pt.pt') "
   ]
  },
  {
   "cell_type": "markdown",
   "metadata": {
    "colab_type": "text",
    "id": "p9yKsKSXeejj"
   },
   "source": [
    "# NumPy\n",
    "\n",
    "Essa é a mais difícil de implementar, pois teremos que programar a maior parte das operações básicas para que essa abordagem funcione. Comparativamente, o TensorFlow e o PyTorch são muito mais fáceis."
   ]
  },
  {
   "cell_type": "code",
   "execution_count": null,
   "metadata": {},
   "outputs": [],
   "source": [
    "# As novas versões do Pandas e Matplotlib trazem diversas mensagens de aviso ao desenvolvedor. Vamos desativar isso.\n",
    "import sys\n",
    "import warnings\n",
    "import matplotlib.cbook\n",
    "if not sys.warnoptions:\n",
    "    warnings.simplefilter(\"ignore\")\n",
    "warnings.simplefilter(action='ignore', category=FutureWarning)\n",
    "warnings.filterwarnings(\"ignore\", category=FutureWarning)\n",
    "warnings.filterwarnings(\"ignore\", category=matplotlib.cbook.mplDeprecation)\n",
    "\n",
    "# Imports\n",
    "import sklearn\n",
    "import numpy as np\n",
    "import pandas as pd\n",
    "from sklearn.datasets import load_digits\n",
    "import matplotlib\n",
    "import matplotlib.pyplot as plt\n",
    "%matplotlib inline"
   ]
  },
  {
   "cell_type": "code",
   "execution_count": null,
   "metadata": {},
   "outputs": [],
   "source": [
    "# Versões dos pacotes usados neste jupyter notebook\n",
    "%reload_ext watermark\n",
    "%watermark -a \"Data Science Academy\" --iversions"
   ]
  },
  {
   "cell_type": "code",
   "execution_count": null,
   "metadata": {},
   "outputs": [],
   "source": [
    "# Carregando o MNIST com Scikit-Learn\n",
    "mnist = load_digits()\n",
    "X, y = mnist[\"data\"], mnist[\"target\"]"
   ]
  },
  {
   "cell_type": "code",
   "execution_count": null,
   "metadata": {},
   "outputs": [],
   "source": [
    "X"
   ]
  },
  {
   "cell_type": "code",
   "execution_count": null,
   "metadata": {},
   "outputs": [],
   "source": [
    "y"
   ]
  },
  {
   "cell_type": "markdown",
   "metadata": {},
   "source": [
    "### Vamos Usar Dados Customizados\n",
    "\n",
    "Embora você possa usar os dados acima, vamos trabalhar com dados customizados.\n",
    "\n",
    "Os arquivos de dados train.csv e test.csv contêm imagens em escala de cinza de dígitos desenhados à mão, de zero a nove.\n",
    "\n",
    "Cada imagem tem 28 pixels de altura e 28 pixels de largura, totalizando 784 pixels no total. Cada pixel tem um único valor de pixel associado, indicando a claridade ou a escuridão desse pixel, com números mais altos significando mais escuros. Esse valor de pixel é um número inteiro entre 0 e 255, inclusive.\n",
    "\n",
    "O conjunto de dados de treinamento (train.csv) possui 785 colunas. A primeira coluna, chamada \"label\", é o dígito que foi desenhado pelo usuário. O restante das colunas contém os valores de pixel da imagem associada.\n",
    "\n",
    "Cada coluna de pixel no conjunto de treinamento tem um nome como pixelx, em que x é um número inteiro entre 0 e 783, inclusive. Para localizar esse pixel na imagem, suponha que decompusemos x como x = i * 28 + j, onde iej são números inteiros entre 0 e 27, inclusive. Então pixelx está localizado na linha ie coluna j de uma matriz 28 x 28 (indexação por zero).\n",
    "\n",
    "Por exemplo, pixel31 indica o pixel que está na quarta coluna da esquerda e a segunda linha da parte superior, como no diagrama ascii abaixo."
   ]
  },
  {
   "cell_type": "markdown",
   "metadata": {},
   "source": [
    "Os datasets foram extraídos do Kaggle: https://www.kaggle.com/c/digit-recognizer/\n",
    "\n",
    "Essa competição é do tipo on-going, ou seja, está sempre ativa e você pode submeter sua solução e o Kaggle faz a avaliação."
   ]
  },
  {
   "cell_type": "code",
   "execution_count": null,
   "metadata": {},
   "outputs": [],
   "source": [
    "# Carregando os dados\n",
    "treino = pd.read_csv('dados/train.csv')\n",
    "teste = pd.read_csv('dados/test.csv')"
   ]
  },
  {
   "cell_type": "code",
   "execution_count": null,
   "metadata": {},
   "outputs": [],
   "source": [
    "treino.head()"
   ]
  },
  {
   "cell_type": "code",
   "execution_count": null,
   "metadata": {},
   "outputs": [],
   "source": [
    "teste.head()"
   ]
  },
  {
   "cell_type": "code",
   "execution_count": null,
   "metadata": {},
   "outputs": [],
   "source": [
    "# Separando a classe nos dados de treino\n",
    "range_class = np.arange(10)\n",
    "y = np.asfarray(treino.iloc[:,0])\n",
    "\n",
    "# Ajustando os datasets\n",
    "treino_x = treino.iloc[:,1:].values\n",
    "treino_y = np.array([(range_class == label).astype(np.float) for label in y])"
   ]
  },
  {
   "cell_type": "code",
   "execution_count": null,
   "metadata": {},
   "outputs": [],
   "source": [
    "# Ajustando os dados para teste\n",
    "teste_x = teste.values"
   ]
  },
  {
   "cell_type": "code",
   "execution_count": null,
   "metadata": {},
   "outputs": [],
   "source": [
    "# Visualizando os Dados\n",
    "y = treino.iloc[:,0].value_counts()\n",
    "x = range(len(y))\n",
    "plt.bar(x, y, color = 'rgbymc')\n",
    "plt.xticks(x, x)\n",
    "plt.ylabel('Número de Imagens')\n",
    "plt.xlabel('Labels entre 0-9')\n",
    "plt.grid()"
   ]
  },
  {
   "cell_type": "code",
   "execution_count": null,
   "metadata": {},
   "outputs": [],
   "source": [
    "# Criando uma figura para exibir imagens em padrão de linhas e colunas (1 x 10)\n",
    "figure = plt.figure()\n",
    "\n",
    "# Definir manualmente a largura e a altura da figura\n",
    "figure.set_size_inches(20.5, 8.5)\n",
    "\n",
    "# Configurando uma imagem em cada figura com um título para o rótulo da imagem\n",
    "for itr in range(1, 10):\n",
    "    plt.subplot(1, 10, itr)\n",
    "    label = treino.loc[itr,'label']\n",
    "    pixels = treino.iloc[itr,1:].values.reshape((28,28))\n",
    "    plt.title('Label = {label}'.format(label = label))\n",
    "    plt.imshow(pixels)\n",
    "\n",
    "# Exibindo toda a imagem presente na figura\n",
    "plt.show()"
   ]
  },
  {
   "cell_type": "code",
   "execution_count": null,
   "metadata": {},
   "outputs": [],
   "source": [
    "# Normalizando os Dados de entrada x\n",
    "treino_x = treino_x / 255.\n",
    "teste_x  = teste_x  / 255."
   ]
  },
  {
   "cell_type": "code",
   "execution_count": null,
   "metadata": {},
   "outputs": [],
   "source": [
    "# Visualizando o formato dos dados\n",
    "shape_x = treino_x.shape\n",
    "shape_y = treino_y.shape\n",
    "\n",
    "# Total de linhas (observações ou exemplos)\n",
    "total = treino_y.shape[0]\n",
    "\n",
    "# Print\n",
    "print ('O shape de X é: ' + str(shape_x))\n",
    "print ('O shape de Y é: ' + str(shape_y))\n",
    "print ('Temos %d exemplos de treinamento!' % (total))"
   ]
  },
  {
   "cell_type": "markdown",
   "metadata": {},
   "source": [
    "### Definindo a Rede"
   ]
  },
  {
   "cell_type": "markdown",
   "metadata": {},
   "source": [
    "Tamanho das camadas."
   ]
  },
  {
   "cell_type": "code",
   "execution_count": null,
   "metadata": {},
   "outputs": [],
   "source": [
    "def layer_size(X, Y):\n",
    "    \n",
    "    n_x = X.shape[1]\n",
    "    n_h = 4\n",
    "    n_y = Y.shape[1]\n",
    "    \n",
    "    return (n_x, n_h, n_y)"
   ]
  },
  {
   "cell_type": "markdown",
   "metadata": {},
   "source": [
    "Inicialização dos parâmetros."
   ]
  },
  {
   "cell_type": "code",
   "execution_count": null,
   "metadata": {},
   "outputs": [],
   "source": [
    "def initialise_parameter(n_x, n_h, n_y):\n",
    "    \n",
    "    np.random.seed(0)\n",
    "    \n",
    "    W1 = np.random.randn(n_h[0], n_x) * 0.1\n",
    "    b1 = np.zeros(shape = (n_h[0], 1))\n",
    "    \n",
    "    W2 = np.random.randn(n_h[1], n_h[0]) * 0.1\n",
    "    b2 = np.zeros(shape = (n_h[1], 1))\n",
    "    \n",
    "    W3 = np.random.randn(n_y, n_h[1]) * 0.1\n",
    "    b3 = np.zeros(shape = (n_y, 1))\n",
    "    \n",
    "    assert(W1.shape == (n_h[0], n_x))\n",
    "    assert(b1.shape == (n_h[0], 1))\n",
    "\n",
    "    assert(W2.shape == (n_h[1], n_h[0]))\n",
    "    assert(b2.shape == (n_h[1], 1))\n",
    "    \n",
    "    assert(W3.shape == (n_y, n_h[1]))\n",
    "    assert(b3.shape == (n_y, 1))\n",
    "    \n",
    "    parameters = {\"W1\": W1, \n",
    "                  \"b1\": b1, \n",
    "                  \"W2\": W2, \n",
    "                  \"b2\": b2, \n",
    "                  \"W3\": W3, \n",
    "                  \"b3\": b3\n",
    "                 }\n",
    "    \n",
    "    return parameters"
   ]
  },
  {
   "cell_type": "markdown",
   "metadata": {},
   "source": [
    "![](./imagens/nn.png)"
   ]
  },
  {
   "cell_type": "markdown",
   "metadata": {},
   "source": [
    "Função de Ativação."
   ]
  },
  {
   "cell_type": "code",
   "execution_count": null,
   "metadata": {},
   "outputs": [],
   "source": [
    "# Função sigmoide\n",
    "def sigmoid(x):\n",
    "    return 1 / (1 + np.exp(-x))\n",
    "\n",
    "def sigmoid_derivative(x):\n",
    "    return x * (1 - x)"
   ]
  },
  {
   "cell_type": "markdown",
   "metadata": {},
   "source": [
    "Uma função sigmóide é uma função real limitada, diferenciável e definida para todos os valores reais de entrada e possui uma derivada não negativa em cada ponto. Uma \"função\" sigmóide e uma \"curva\" sigmóide referem-se ao mesmo objeto.\n",
    "\n",
    "Uma função sigmóide é um tipo de função de ativação, e mais especificamente definida como uma função de \"esmagamento\". As funções de esmagamento limitam a saída a um intervalo entre 0 e 1, tornando essas funções úteis na previsão de probabilidades."
   ]
  },
  {
   "cell_type": "code",
   "execution_count": null,
   "metadata": {},
   "outputs": [],
   "source": [
    "# Representação gráfica da função sigmoide\n",
    "_x = np.linspace(-5, 5, 40)\n",
    "plt.plot(sigmoid(_x))\n",
    "plt.plot(sigmoid_derivative(sigmoid(_x)))\n",
    "plt.grid()"
   ]
  },
  {
   "cell_type": "markdown",
   "metadata": {},
   "source": [
    "Forward Propagation."
   ]
  },
  {
   "cell_type": "code",
   "execution_count": null,
   "metadata": {},
   "outputs": [],
   "source": [
    "def forward_propagation(X, parameters):\n",
    "    \n",
    "    # Coleta os parâmetros do dicionário parameters\n",
    "    W1 = parameters[\"W1\"]\n",
    "    b1 = parameters[\"b1\"]\n",
    "    W2 = parameters[\"W2\"]\n",
    "    b2 = parameters[\"b2\"]\n",
    "    W3 = parameters[\"W3\"]\n",
    "    b3 = parameters[\"b3\"]\n",
    "    \n",
    "    # Camada de entrada\n",
    "    Z1 = (np.dot(W1, X.T) + b1).T\n",
    "    \n",
    "    # Função de Ativação\n",
    "    A1 = sigmoid(Z1)\n",
    "    \n",
    "    # Camada oculta 1\n",
    "    Z2 = (np.dot(W2, A1.T) + b2).T\n",
    "    \n",
    "    # Função de Ativação\n",
    "    A2 = sigmoid(Z2)\n",
    "    \n",
    "    # Camada oculta 2 \n",
    "    Z3 = (np.dot(W3, A2.T) + b3).T\n",
    "    \n",
    "    # Função de Ativação\n",
    "    # Como vai entregar as probabilidades, não precisamos de uma camada de saída\n",
    "    A3 = sigmoid(Z3)\n",
    "    \n",
    "    assert(A3.shape == (X.shape[0], 10))\n",
    "    \n",
    "    cache = {\n",
    "        \"Z1\" : Z1,\n",
    "        \"A1\" : A1,\n",
    "        \"Z2\" : Z2,\n",
    "        \"A2\" : A2,\n",
    "        \"Z3\" : Z3,\n",
    "        \"A3\" : A3\n",
    "    }\n",
    "\n",
    "    return A3, cache"
   ]
  },
  {
   "cell_type": "markdown",
   "metadata": {},
   "source": [
    "Função de Custo."
   ]
  },
  {
   "cell_type": "code",
   "execution_count": null,
   "metadata": {},
   "outputs": [],
   "source": [
    "def compute_cost(A3, Y):\n",
    "    \n",
    "    # Número de linhas de Y\n",
    "    m = Y.shape[0] \n",
    "    \n",
    "    # Log das probabilidades das previsões\n",
    "    logprobs = np.multiply(Y, np.log(A3)) + np.multiply((1 - Y), np.log(1 - A3))\n",
    "    \n",
    "    # Cálculo do custo\n",
    "    cost = - np.sum(logprobs) / m\n",
    "    \n",
    "    # Ajuste do formato dos dados\n",
    "    cost = float(np.squeeze(cost))\n",
    "    \n",
    "    assert(isinstance(cost, float))\n",
    "    \n",
    "    return cost"
   ]
  },
  {
   "cell_type": "markdown",
   "metadata": {},
   "source": [
    "Backward Propagation (Backpropagation)."
   ]
  },
  {
   "cell_type": "code",
   "execution_count": null,
   "metadata": {},
   "outputs": [],
   "source": [
    "def backward_propagation(parameters, cache, X, Y):\n",
    "    \n",
    "    # Shape de Y\n",
    "    m = Y.shape[0]\n",
    "    \n",
    "    # Extrai do \"cache\" os valores da saída de cada ativação\n",
    "    A1 = cache[\"A1\"]\n",
    "    A2 = cache[\"A2\"]\n",
    "    A3 = cache[\"A3\"]\n",
    "    \n",
    "    # Extrai os parâmetros\n",
    "    W1 = parameters[\"W1\"]\n",
    "    W2 = parameters[\"W2\"]\n",
    "    W3 = parameters[\"W3\"]\n",
    "    \n",
    "    # Calcula a derivada do custo (perceba que estamos calculando na sequência inversa ao forward propagation)\n",
    "    dZ3 = (A3 - Y)\n",
    "    dW3 = (1 / m) * np.dot(dZ3.T, A2)\n",
    "    db3 = (1 / m) * np.sum(dZ3, keepdims = True)\n",
    "\n",
    "    dZ2 = np.multiply(np.dot(dZ3, W3), sigmoid_derivative(A2))\n",
    "    dW2 = (1 / m) * np.dot(dZ2.T, A1)\n",
    "    db2 = (1 / m) * np.sum(dZ2, keepdims = True)\n",
    "    \n",
    "    dZ1 = np.multiply(np.dot(dZ2, W2), sigmoid_derivative(A1))\n",
    "    dW1 = (1 / m) * np.dot(dZ1.T, X)\n",
    "    db1 = (1 / m) * np.sum(dZ1, keepdims = True)\n",
    "    \n",
    "    # Dicionário de gradientes\n",
    "    grads = {\"dW1\": dW1, \n",
    "             \"db1\": db1, \n",
    "             \"dW2\": dW2, \n",
    "             \"db2\": db2, \n",
    "             \"dW3\": dW3, \n",
    "             \"db3\": db3\n",
    "            }\n",
    "    \n",
    "    return grads"
   ]
  },
  {
   "cell_type": "markdown",
   "metadata": {},
   "source": [
    "Atualização dos Coeficientes (Gradiente Descendente)."
   ]
  },
  {
   "cell_type": "markdown",
   "metadata": {},
   "source": [
    "http://deeplearningbook.com.br/aprendizado-com-a-descida-do-gradiente/"
   ]
  },
  {
   "cell_type": "markdown",
   "metadata": {},
   "source": [
    "No Cálculo, a derivada em um ponto de uma função y = f(x) representa a taxa de variação instantânea de y em relação a x neste ponto. Um exemplo típico é a função velocidade que representa a taxa de variação (derivada) da função espaço. Do mesmo modo, a função aceleração é a derivada da função velocidade.\n",
    "\n",
    "No cálculo vetorial o gradiente (ou vetor gradiente) é um vetor que indica o sentido e a direção na qual, por deslocamento a partir do ponto especificado, obtém-se o maior incremento possível no valor de uma grandeza a partir da qual se define um campo escalar para o espaço em consideração. \n",
    "\n",
    "A derivada do custo foi calculada no Backpropagation, bem como os gradientes. \n",
    "\n",
    "Agora podemos atualizar os valores dos coeficientes. Um parâmetro de taxa de aprendizagem (alfa) deve ser especificado e controla o quanto os coeficientes podem mudar em cada atualização."
   ]
  },
  {
   "cell_type": "code",
   "execution_count": null,
   "metadata": {},
   "outputs": [],
   "source": [
    "def update_parameters(parameters, grads, learning_rate):\n",
    "    \n",
    "    # Extrai os pesos\n",
    "    W1 = parameters[\"W1\"]\n",
    "    b1 = parameters[\"b1\"]\n",
    "    W2 = parameters[\"W2\"]\n",
    "    b2 = parameters[\"b2\"]\n",
    "    W3 = parameters[\"W3\"]\n",
    "    b3 = parameters[\"b3\"]\n",
    "    \n",
    "    # Extrai os gradientes\n",
    "    dW1 = grads[\"dW1\"]\n",
    "    db1 = grads[\"db1\"]\n",
    "    dW2 = grads[\"dW2\"]\n",
    "    db2 = grads[\"db2\"]\n",
    "    dW3 = grads[\"dW3\"]\n",
    "    db3 = grads[\"db3\"]\n",
    "    \n",
    "    # Multiplica os gradientes pela taxa de aprendizagem e então subtrai do valor do coeficiente\n",
    "    # O gradiente define a direção da mudança (positiva ou negativa)\n",
    "    # A taxa de aprendizagem define a magnitude (mudança maior ou menor)\n",
    "    W1 = W1 - (learning_rate * dW1)\n",
    "    b1 = b1 - (learning_rate * db1)\n",
    "    W2 = W2 - (learning_rate * dW2)\n",
    "    b2 = b2 - (learning_rate * db2)\n",
    "    W3 = W3 - (learning_rate * dW3)\n",
    "    b3 = b3 - (learning_rate * db3)\n",
    "    \n",
    "    # Novo dicionário de parâmetros\n",
    "    parameters = {\"W1\": W1, \n",
    "                  \"b1\": b1, \n",
    "                  \"W2\": W2, \n",
    "                  \"b2\": b2, \n",
    "                  \"W3\": W3, \n",
    "                  \"b3\": b3\n",
    "                 }\n",
    "    \n",
    "    return parameters"
   ]
  },
  {
   "cell_type": "markdown",
   "metadata": {},
   "source": [
    "Função para Previsão."
   ]
  },
  {
   "cell_type": "code",
   "execution_count": null,
   "metadata": {},
   "outputs": [],
   "source": [
    "def predict(X, parameters):\n",
    "    \n",
    "    m = X.shape[0]\n",
    "    \n",
    "    W1 = parameters[\"W1\"]\n",
    "    b1 = parameters[\"b1\"]\n",
    "    W2 = parameters[\"W2\"]\n",
    "    b2 = parameters[\"b2\"]\n",
    "    \n",
    "    A3, cache = forward_propagation(X, parameters)\n",
    "    \n",
    "    return A3"
   ]
  },
  {
   "cell_type": "markdown",
   "metadata": {},
   "source": [
    "Modelo da Rede Neural."
   ]
  },
  {
   "cell_type": "code",
   "execution_count": null,
   "metadata": {},
   "outputs": [],
   "source": [
    "def nn_model(X, Y, n_h, learning_rate, num_iterations, print_cost = False):\n",
    "\n",
    "    # Para reproduzir sempre os mesmos resultados\n",
    "    np.random.seed(3)\n",
    "\n",
    "    # Lista para o custo em cada iteração\n",
    "    cost_per_iter = []\n",
    "    \n",
    "    # Tamanho das camadas\n",
    "    n_x = layer_size(X, Y)[0]\n",
    "    n_y = layer_size(X, Y)[2]\n",
    "    \n",
    "    # Inicialização dos parâmetros\n",
    "    parameters = initialise_parameter(n_x, n_h, n_y)\n",
    "    \n",
    "    # Loop (gradient descent)\n",
    "    for i in range(0, num_iterations):\n",
    "\n",
    "        # Forward propagation. Inputs: \"X, pesos\". Outputs: \"A2, cache\".\n",
    "        A3, cache = forward_propagation(X, parameters)\n",
    "        \n",
    "        # Função de custo. Inputs: \"A2, Y, pesos\". Outputs: \"custo\".\n",
    "        cost = compute_cost(A3, Y)\n",
    " \n",
    "        # Grava o custo por iteração\n",
    "        cost_per_iter.append(cost)\n",
    "\n",
    "        # Backpropagation. Inputs: \"pesos, cache, X, Y\". Outputs: \"grads\".\n",
    "        grads = backward_propagation(parameters, cache, X, Y)\n",
    " \n",
    "        # Gradient descent. Inputs: \"pesos, grads\". Outputs: \"pesos\".\n",
    "        parameters = update_parameters(parameters, grads, learning_rate)\n",
    "        \n",
    "        # Imprime o custo a cada 100 iterações\n",
    "        if print_cost and i % 100 == 0:\n",
    "            print (\"Custo após iteração %i: %f\" %(i, cost))\n",
    "    \n",
    "    # Previsão em treino\n",
    "    train_prediction = (treino.iloc[:,0].values != np.array(predict(treino_x, parameters).argmax(axis = 1)).T).astype(int)\n",
    "\n",
    "    # Previsão em teste\n",
    "    test_prediction = np.vstack((np.arange(1,28001), predict(teste_x, parameters).argmax(axis = 1).T)).T\n",
    "    \n",
    "    # Dados para submeter ao Kaggle mais tarde (opcional)\n",
    "    data_to_submit = pd.DataFrame(test_prediction, columns = ['ImageId','Label']) \n",
    "    \n",
    "    # Print\n",
    "    print(\"Acurácia em Treino: {} %\".format(100 - np.mean(train_prediction) * 100))\n",
    "    \n",
    "    # Saída\n",
    "    output = {\n",
    "        \"cost\" : cost_per_iter[-1],\n",
    "        \"parameters\" : parameters,\n",
    "        \"cost_per_iter\" : cost_per_iter,\n",
    "        \"train_prediction\" : train_prediction,\n",
    "        \"test_prediction\" : test_prediction,\n",
    "        \"data_to_submit\" : data_to_submit\n",
    "    }\n",
    "    \n",
    "    return output"
   ]
  },
  {
   "cell_type": "markdown",
   "metadata": {},
   "source": [
    "Treinamento."
   ]
  },
  {
   "cell_type": "code",
   "execution_count": null,
   "metadata": {},
   "outputs": [],
   "source": [
    "models = {}\n",
    "learning_rates = [2.1]\n",
    "\n",
    "# Loop de treinamento\n",
    "for i in learning_rates:\n",
    "    \n",
    "    # Print\n",
    "    print (\"Taxa de Aprendizado = \" + str(i))\n",
    "    \n",
    "    models[str(i)] = nn_model(treino_x, \n",
    "                              treino_y, \n",
    "                              n_h = [400, 40], \n",
    "                              learning_rate = i, \n",
    "                              num_iterations = 1600, \n",
    "                              print_cost = True)\n",
    "    \n",
    "    \n",
    "    print (\"O custo é: \" + str(models[str(i)][\"cost\"]))\n",
    "    print (\"-------------------------------------------------------\" + '\\n')\n",
    "\n",
    "# Plot do custo por iteração\n",
    "for i in learning_rates:\n",
    "    plt.plot(np.squeeze(models[str(i)][\"cost_per_iter\"]), label = str(i))\n",
    "\n",
    "# Plot\n",
    "plt.ylabel('Custo')\n",
    "plt.xlabel('Iterações')\n",
    "legend = plt.legend(loc = 'upper center', shadow = True)\n",
    "frame = legend.get_frame()\n",
    "frame.set_facecolor('0.90')\n",
    "plt.grid()\n",
    "plt.show()"
   ]
  },
  {
   "cell_type": "code",
   "execution_count": null,
   "metadata": {},
   "outputs": [],
   "source": [
    "# Salvando o resultado para submeter ao Kaggle\n",
    "models[\"2.1\"][\"data_to_submit\"].to_csv('dados/submit_2_1.csv', index = False)"
   ]
  },
  {
   "cell_type": "markdown",
   "metadata": {},
   "source": [
    "# Fim"
   ]
  }
 ],
 "metadata": {
  "accelerator": "GPU",
  "colab": {
   "authorship_tag": "ABX9TyPJPLWzj9z0gtKxTRJMUR6P",
   "collapsed_sections": [],
   "include_colab_link": true,
   "machine_shape": "hm",
   "name": "NN From Scratch.ipynb",
   "provenance": []
  },
  "kernelspec": {
   "display_name": "Python 3 (ipykernel)",
   "language": "python",
   "name": "python3"
  },
  "language_info": {
   "codemirror_mode": {
    "name": "ipython",
    "version": 3
   },
   "file_extension": ".py",
   "mimetype": "text/x-python",
   "name": "python",
   "nbconvert_exporter": "python",
   "pygments_lexer": "ipython3",
   "version": "3.9.7"
  },
  "widgets": {
   "application/vnd.jupyter.widget-state+json": {
    "1356b29002354e48b5fe914d48e53f9e": {
     "model_module": "@jupyter-widgets/base",
     "model_name": "LayoutModel",
     "state": {
      "_model_module": "@jupyter-widgets/base",
      "_model_module_version": "1.2.0",
      "_model_name": "LayoutModel",
      "_view_count": null,
      "_view_module": "@jupyter-widgets/base",
      "_view_module_version": "1.2.0",
      "_view_name": "LayoutView",
      "align_content": null,
      "align_items": null,
      "align_self": null,
      "border": null,
      "bottom": null,
      "display": null,
      "flex": null,
      "flex_flow": null,
      "grid_area": null,
      "grid_auto_columns": null,
      "grid_auto_flow": null,
      "grid_auto_rows": null,
      "grid_column": null,
      "grid_gap": null,
      "grid_row": null,
      "grid_template_areas": null,
      "grid_template_columns": null,
      "grid_template_rows": null,
      "height": null,
      "justify_content": null,
      "justify_items": null,
      "left": null,
      "margin": null,
      "max_height": null,
      "max_width": null,
      "min_height": null,
      "min_width": null,
      "object_fit": null,
      "object_position": null,
      "order": null,
      "overflow": null,
      "overflow_x": null,
      "overflow_y": null,
      "padding": null,
      "right": null,
      "top": null,
      "visibility": null,
      "width": null
     }
    },
    "2127aa643a784d5383871c0d7cb07d27": {
     "model_module": "@jupyter-widgets/controls",
     "model_name": "HBoxModel",
     "state": {
      "_dom_classes": [],
      "_model_module": "@jupyter-widgets/controls",
      "_model_module_version": "1.5.0",
      "_model_name": "HBoxModel",
      "_view_count": null,
      "_view_module": "@jupyter-widgets/controls",
      "_view_module_version": "1.5.0",
      "_view_name": "HBoxView",
      "box_style": "",
      "children": [
       "IPY_MODEL_231c0c52fd874eeda73a46debc091b27",
       "IPY_MODEL_4e7fa99a9f484d4dad7bd43d39ba1a43"
      ],
      "layout": "IPY_MODEL_e36be13b19bd4c58b460d51057f23045"
     }
    },
    "231c0c52fd874eeda73a46debc091b27": {
     "model_module": "@jupyter-widgets/controls",
     "model_name": "IntProgressModel",
     "state": {
      "_dom_classes": [],
      "_model_module": "@jupyter-widgets/controls",
      "_model_module_version": "1.5.0",
      "_model_name": "IntProgressModel",
      "_view_count": null,
      "_view_module": "@jupyter-widgets/controls",
      "_view_module_version": "1.5.0",
      "_view_name": "ProgressView",
      "bar_style": "success",
      "description": "",
      "description_tooltip": null,
      "layout": "IPY_MODEL_1356b29002354e48b5fe914d48e53f9e",
      "max": 1,
      "min": 0,
      "orientation": "horizontal",
      "style": "IPY_MODEL_60aa6c61c26b45419d8ea5ff590df69b",
      "value": 1
     }
    },
    "244532a2fbe946329c327be28dc6af32": {
     "model_module": "@jupyter-widgets/controls",
     "model_name": "HTMLModel",
     "state": {
      "_dom_classes": [],
      "_model_module": "@jupyter-widgets/controls",
      "_model_module_version": "1.5.0",
      "_model_name": "HTMLModel",
      "_view_count": null,
      "_view_module": "@jupyter-widgets/controls",
      "_view_module_version": "1.5.0",
      "_view_name": "HTMLView",
      "description": "",
      "description_tooltip": null,
      "layout": "IPY_MODEL_872fcd4618d7473abc29de1e5476a673",
      "placeholder": "​",
      "style": "IPY_MODEL_6b27c13c41284ed7accff42fe6bdfe11",
      "value": "1654784it [00:03, 497428.79it/s]"
     }
    },
    "306b116c7830404a9cd207038503587d": {
     "model_module": "@jupyter-widgets/controls",
     "model_name": "ProgressStyleModel",
     "state": {
      "_model_module": "@jupyter-widgets/controls",
      "_model_module_version": "1.5.0",
      "_model_name": "ProgressStyleModel",
      "_view_count": null,
      "_view_module": "@jupyter-widgets/base",
      "_view_module_version": "1.2.0",
      "_view_name": "StyleView",
      "bar_color": null,
      "description_width": ""
     }
    },
    "40d2c12153de4d45a9f13f13405bed9b": {
     "model_module": "@jupyter-widgets/controls",
     "model_name": "IntProgressModel",
     "state": {
      "_dom_classes": [],
      "_model_module": "@jupyter-widgets/controls",
      "_model_module_version": "1.5.0",
      "_model_name": "IntProgressModel",
      "_view_count": null,
      "_view_module": "@jupyter-widgets/controls",
      "_view_module_version": "1.5.0",
      "_view_name": "ProgressView",
      "bar_style": "success",
      "description": "",
      "description_tooltip": null,
      "layout": "IPY_MODEL_b9baac87888f47348d13cf5c522678f6",
      "max": 1,
      "min": 0,
      "orientation": "horizontal",
      "style": "IPY_MODEL_5dd4473cd2734fe9ac7e041ce23a3b0c",
      "value": 1
     }
    },
    "48e1505dcd2d4e579e832ade36a3e5b0": {
     "model_module": "@jupyter-widgets/controls",
     "model_name": "HBoxModel",
     "state": {
      "_dom_classes": [],
      "_model_module": "@jupyter-widgets/controls",
      "_model_module_version": "1.5.0",
      "_model_name": "HBoxModel",
      "_view_count": null,
      "_view_module": "@jupyter-widgets/controls",
      "_view_module_version": "1.5.0",
      "_view_name": "HBoxView",
      "box_style": "",
      "children": [
       "IPY_MODEL_d18f1830350945cab465770178d5366d",
       "IPY_MODEL_67c27fe7f82844d39d6fe6fe8beb6990"
      ],
      "layout": "IPY_MODEL_d66b7ef7d5f54d2e98d02c53c9f8048f"
     }
    },
    "4e7fa99a9f484d4dad7bd43d39ba1a43": {
     "model_module": "@jupyter-widgets/controls",
     "model_name": "HTMLModel",
     "state": {
      "_dom_classes": [],
      "_model_module": "@jupyter-widgets/controls",
      "_model_module_version": "1.5.0",
      "_model_name": "HTMLModel",
      "_view_count": null,
      "_view_module": "@jupyter-widgets/controls",
      "_view_module_version": "1.5.0",
      "_view_name": "HTMLView",
      "description": "",
      "description_tooltip": null,
      "layout": "IPY_MODEL_d84af69013d349219e67e3fa711c77ec",
      "placeholder": "​",
      "style": "IPY_MODEL_b90a60b90d684bf2851a7d23ec5ab562",
      "value": "9920512it [00:07, 1362915.52it/s]"
     }
    },
    "4fc94422e2154f5ab30cb6e5e7a1306c": {
     "model_module": "@jupyter-widgets/base",
     "model_name": "LayoutModel",
     "state": {
      "_model_module": "@jupyter-widgets/base",
      "_model_module_version": "1.2.0",
      "_model_name": "LayoutModel",
      "_view_count": null,
      "_view_module": "@jupyter-widgets/base",
      "_view_module_version": "1.2.0",
      "_view_name": "LayoutView",
      "align_content": null,
      "align_items": null,
      "align_self": null,
      "border": null,
      "bottom": null,
      "display": null,
      "flex": null,
      "flex_flow": null,
      "grid_area": null,
      "grid_auto_columns": null,
      "grid_auto_flow": null,
      "grid_auto_rows": null,
      "grid_column": null,
      "grid_gap": null,
      "grid_row": null,
      "grid_template_areas": null,
      "grid_template_columns": null,
      "grid_template_rows": null,
      "height": null,
      "justify_content": null,
      "justify_items": null,
      "left": null,
      "margin": null,
      "max_height": null,
      "max_width": null,
      "min_height": null,
      "min_width": null,
      "object_fit": null,
      "object_position": null,
      "order": null,
      "overflow": null,
      "overflow_x": null,
      "overflow_y": null,
      "padding": null,
      "right": null,
      "top": null,
      "visibility": null,
      "width": null
     }
    },
    "5dd4473cd2734fe9ac7e041ce23a3b0c": {
     "model_module": "@jupyter-widgets/controls",
     "model_name": "ProgressStyleModel",
     "state": {
      "_model_module": "@jupyter-widgets/controls",
      "_model_module_version": "1.5.0",
      "_model_name": "ProgressStyleModel",
      "_view_count": null,
      "_view_module": "@jupyter-widgets/base",
      "_view_module_version": "1.2.0",
      "_view_name": "StyleView",
      "bar_color": null,
      "description_width": ""
     }
    },
    "5fd02b64101e4833b550060866a24f0e": {
     "model_module": "@jupyter-widgets/controls",
     "model_name": "HBoxModel",
     "state": {
      "_dom_classes": [],
      "_model_module": "@jupyter-widgets/controls",
      "_model_module_version": "1.5.0",
      "_model_name": "HBoxModel",
      "_view_count": null,
      "_view_module": "@jupyter-widgets/controls",
      "_view_module_version": "1.5.0",
      "_view_name": "HBoxView",
      "box_style": "",
      "children": [
       "IPY_MODEL_d865ed2098944935a9a27245bde5f2b9",
       "IPY_MODEL_244532a2fbe946329c327be28dc6af32"
      ],
      "layout": "IPY_MODEL_974b0e153d2142d6868df4f2252b8666"
     }
    },
    "60aa6c61c26b45419d8ea5ff590df69b": {
     "model_module": "@jupyter-widgets/controls",
     "model_name": "ProgressStyleModel",
     "state": {
      "_model_module": "@jupyter-widgets/controls",
      "_model_module_version": "1.5.0",
      "_model_name": "ProgressStyleModel",
      "_view_count": null,
      "_view_module": "@jupyter-widgets/base",
      "_view_module_version": "1.2.0",
      "_view_name": "StyleView",
      "bar_color": null,
      "description_width": ""
     }
    },
    "67c27fe7f82844d39d6fe6fe8beb6990": {
     "model_module": "@jupyter-widgets/controls",
     "model_name": "HTMLModel",
     "state": {
      "_dom_classes": [],
      "_model_module": "@jupyter-widgets/controls",
      "_model_module_version": "1.5.0",
      "_model_name": "HTMLModel",
      "_view_count": null,
      "_view_module": "@jupyter-widgets/controls",
      "_view_module_version": "1.5.0",
      "_view_name": "HTMLView",
      "description": "",
      "description_tooltip": null,
      "layout": "IPY_MODEL_c1ec42f7c3c9443c94b805eaed2f4f87",
      "placeholder": "​",
      "style": "IPY_MODEL_98c22efb49d14f1d9fa1521027fc9538",
      "value": "8192it [00:01, 5126.97it/s]"
     }
    },
    "69747ede55db406aa8ce10385ec8a347": {
     "model_module": "@jupyter-widgets/controls",
     "model_name": "ProgressStyleModel",
     "state": {
      "_model_module": "@jupyter-widgets/controls",
      "_model_module_version": "1.5.0",
      "_model_name": "ProgressStyleModel",
      "_view_count": null,
      "_view_module": "@jupyter-widgets/base",
      "_view_module_version": "1.2.0",
      "_view_name": "StyleView",
      "bar_color": null,
      "description_width": ""
     }
    },
    "6b27c13c41284ed7accff42fe6bdfe11": {
     "model_module": "@jupyter-widgets/controls",
     "model_name": "DescriptionStyleModel",
     "state": {
      "_model_module": "@jupyter-widgets/controls",
      "_model_module_version": "1.5.0",
      "_model_name": "DescriptionStyleModel",
      "_view_count": null,
      "_view_module": "@jupyter-widgets/base",
      "_view_module_version": "1.2.0",
      "_view_name": "StyleView",
      "description_width": ""
     }
    },
    "7bb57dd3070b49069e9ca664f1d9c135": {
     "model_module": "@jupyter-widgets/base",
     "model_name": "LayoutModel",
     "state": {
      "_model_module": "@jupyter-widgets/base",
      "_model_module_version": "1.2.0",
      "_model_name": "LayoutModel",
      "_view_count": null,
      "_view_module": "@jupyter-widgets/base",
      "_view_module_version": "1.2.0",
      "_view_name": "LayoutView",
      "align_content": null,
      "align_items": null,
      "align_self": null,
      "border": null,
      "bottom": null,
      "display": null,
      "flex": null,
      "flex_flow": null,
      "grid_area": null,
      "grid_auto_columns": null,
      "grid_auto_flow": null,
      "grid_auto_rows": null,
      "grid_column": null,
      "grid_gap": null,
      "grid_row": null,
      "grid_template_areas": null,
      "grid_template_columns": null,
      "grid_template_rows": null,
      "height": null,
      "justify_content": null,
      "justify_items": null,
      "left": null,
      "margin": null,
      "max_height": null,
      "max_width": null,
      "min_height": null,
      "min_width": null,
      "object_fit": null,
      "object_position": null,
      "order": null,
      "overflow": null,
      "overflow_x": null,
      "overflow_y": null,
      "padding": null,
      "right": null,
      "top": null,
      "visibility": null,
      "width": null
     }
    },
    "872fcd4618d7473abc29de1e5476a673": {
     "model_module": "@jupyter-widgets/base",
     "model_name": "LayoutModel",
     "state": {
      "_model_module": "@jupyter-widgets/base",
      "_model_module_version": "1.2.0",
      "_model_name": "LayoutModel",
      "_view_count": null,
      "_view_module": "@jupyter-widgets/base",
      "_view_module_version": "1.2.0",
      "_view_name": "LayoutView",
      "align_content": null,
      "align_items": null,
      "align_self": null,
      "border": null,
      "bottom": null,
      "display": null,
      "flex": null,
      "flex_flow": null,
      "grid_area": null,
      "grid_auto_columns": null,
      "grid_auto_flow": null,
      "grid_auto_rows": null,
      "grid_column": null,
      "grid_gap": null,
      "grid_row": null,
      "grid_template_areas": null,
      "grid_template_columns": null,
      "grid_template_rows": null,
      "height": null,
      "justify_content": null,
      "justify_items": null,
      "left": null,
      "margin": null,
      "max_height": null,
      "max_width": null,
      "min_height": null,
      "min_width": null,
      "object_fit": null,
      "object_position": null,
      "order": null,
      "overflow": null,
      "overflow_x": null,
      "overflow_y": null,
      "padding": null,
      "right": null,
      "top": null,
      "visibility": null,
      "width": null
     }
    },
    "8d8e0e0b281243c99499d07ff6a4cede": {
     "model_module": "@jupyter-widgets/base",
     "model_name": "LayoutModel",
     "state": {
      "_model_module": "@jupyter-widgets/base",
      "_model_module_version": "1.2.0",
      "_model_name": "LayoutModel",
      "_view_count": null,
      "_view_module": "@jupyter-widgets/base",
      "_view_module_version": "1.2.0",
      "_view_name": "LayoutView",
      "align_content": null,
      "align_items": null,
      "align_self": null,
      "border": null,
      "bottom": null,
      "display": null,
      "flex": null,
      "flex_flow": null,
      "grid_area": null,
      "grid_auto_columns": null,
      "grid_auto_flow": null,
      "grid_auto_rows": null,
      "grid_column": null,
      "grid_gap": null,
      "grid_row": null,
      "grid_template_areas": null,
      "grid_template_columns": null,
      "grid_template_rows": null,
      "height": null,
      "justify_content": null,
      "justify_items": null,
      "left": null,
      "margin": null,
      "max_height": null,
      "max_width": null,
      "min_height": null,
      "min_width": null,
      "object_fit": null,
      "object_position": null,
      "order": null,
      "overflow": null,
      "overflow_x": null,
      "overflow_y": null,
      "padding": null,
      "right": null,
      "top": null,
      "visibility": null,
      "width": null
     }
    },
    "974b0e153d2142d6868df4f2252b8666": {
     "model_module": "@jupyter-widgets/base",
     "model_name": "LayoutModel",
     "state": {
      "_model_module": "@jupyter-widgets/base",
      "_model_module_version": "1.2.0",
      "_model_name": "LayoutModel",
      "_view_count": null,
      "_view_module": "@jupyter-widgets/base",
      "_view_module_version": "1.2.0",
      "_view_name": "LayoutView",
      "align_content": null,
      "align_items": null,
      "align_self": null,
      "border": null,
      "bottom": null,
      "display": null,
      "flex": null,
      "flex_flow": null,
      "grid_area": null,
      "grid_auto_columns": null,
      "grid_auto_flow": null,
      "grid_auto_rows": null,
      "grid_column": null,
      "grid_gap": null,
      "grid_row": null,
      "grid_template_areas": null,
      "grid_template_columns": null,
      "grid_template_rows": null,
      "height": null,
      "justify_content": null,
      "justify_items": null,
      "left": null,
      "margin": null,
      "max_height": null,
      "max_width": null,
      "min_height": null,
      "min_width": null,
      "object_fit": null,
      "object_position": null,
      "order": null,
      "overflow": null,
      "overflow_x": null,
      "overflow_y": null,
      "padding": null,
      "right": null,
      "top": null,
      "visibility": null,
      "width": null
     }
    },
    "97b3329dd4804a819eae5fdd990657e2": {
     "model_module": "@jupyter-widgets/base",
     "model_name": "LayoutModel",
     "state": {
      "_model_module": "@jupyter-widgets/base",
      "_model_module_version": "1.2.0",
      "_model_name": "LayoutModel",
      "_view_count": null,
      "_view_module": "@jupyter-widgets/base",
      "_view_module_version": "1.2.0",
      "_view_name": "LayoutView",
      "align_content": null,
      "align_items": null,
      "align_self": null,
      "border": null,
      "bottom": null,
      "display": null,
      "flex": null,
      "flex_flow": null,
      "grid_area": null,
      "grid_auto_columns": null,
      "grid_auto_flow": null,
      "grid_auto_rows": null,
      "grid_column": null,
      "grid_gap": null,
      "grid_row": null,
      "grid_template_areas": null,
      "grid_template_columns": null,
      "grid_template_rows": null,
      "height": null,
      "justify_content": null,
      "justify_items": null,
      "left": null,
      "margin": null,
      "max_height": null,
      "max_width": null,
      "min_height": null,
      "min_width": null,
      "object_fit": null,
      "object_position": null,
      "order": null,
      "overflow": null,
      "overflow_x": null,
      "overflow_y": null,
      "padding": null,
      "right": null,
      "top": null,
      "visibility": null,
      "width": null
     }
    },
    "98c22efb49d14f1d9fa1521027fc9538": {
     "model_module": "@jupyter-widgets/controls",
     "model_name": "DescriptionStyleModel",
     "state": {
      "_model_module": "@jupyter-widgets/controls",
      "_model_module_version": "1.5.0",
      "_model_name": "DescriptionStyleModel",
      "_view_count": null,
      "_view_module": "@jupyter-widgets/base",
      "_view_module_version": "1.2.0",
      "_view_name": "StyleView",
      "description_width": ""
     }
    },
    "b90a60b90d684bf2851a7d23ec5ab562": {
     "model_module": "@jupyter-widgets/controls",
     "model_name": "DescriptionStyleModel",
     "state": {
      "_model_module": "@jupyter-widgets/controls",
      "_model_module_version": "1.5.0",
      "_model_name": "DescriptionStyleModel",
      "_view_count": null,
      "_view_module": "@jupyter-widgets/base",
      "_view_module_version": "1.2.0",
      "_view_name": "StyleView",
      "description_width": ""
     }
    },
    "b9baac87888f47348d13cf5c522678f6": {
     "model_module": "@jupyter-widgets/base",
     "model_name": "LayoutModel",
     "state": {
      "_model_module": "@jupyter-widgets/base",
      "_model_module_version": "1.2.0",
      "_model_name": "LayoutModel",
      "_view_count": null,
      "_view_module": "@jupyter-widgets/base",
      "_view_module_version": "1.2.0",
      "_view_name": "LayoutView",
      "align_content": null,
      "align_items": null,
      "align_self": null,
      "border": null,
      "bottom": null,
      "display": null,
      "flex": null,
      "flex_flow": null,
      "grid_area": null,
      "grid_auto_columns": null,
      "grid_auto_flow": null,
      "grid_auto_rows": null,
      "grid_column": null,
      "grid_gap": null,
      "grid_row": null,
      "grid_template_areas": null,
      "grid_template_columns": null,
      "grid_template_rows": null,
      "height": null,
      "justify_content": null,
      "justify_items": null,
      "left": null,
      "margin": null,
      "max_height": null,
      "max_width": null,
      "min_height": null,
      "min_width": null,
      "object_fit": null,
      "object_position": null,
      "order": null,
      "overflow": null,
      "overflow_x": null,
      "overflow_y": null,
      "padding": null,
      "right": null,
      "top": null,
      "visibility": null,
      "width": null
     }
    },
    "c1ec42f7c3c9443c94b805eaed2f4f87": {
     "model_module": "@jupyter-widgets/base",
     "model_name": "LayoutModel",
     "state": {
      "_model_module": "@jupyter-widgets/base",
      "_model_module_version": "1.2.0",
      "_model_name": "LayoutModel",
      "_view_count": null,
      "_view_module": "@jupyter-widgets/base",
      "_view_module_version": "1.2.0",
      "_view_name": "LayoutView",
      "align_content": null,
      "align_items": null,
      "align_self": null,
      "border": null,
      "bottom": null,
      "display": null,
      "flex": null,
      "flex_flow": null,
      "grid_area": null,
      "grid_auto_columns": null,
      "grid_auto_flow": null,
      "grid_auto_rows": null,
      "grid_column": null,
      "grid_gap": null,
      "grid_row": null,
      "grid_template_areas": null,
      "grid_template_columns": null,
      "grid_template_rows": null,
      "height": null,
      "justify_content": null,
      "justify_items": null,
      "left": null,
      "margin": null,
      "max_height": null,
      "max_width": null,
      "min_height": null,
      "min_width": null,
      "object_fit": null,
      "object_position": null,
      "order": null,
      "overflow": null,
      "overflow_x": null,
      "overflow_y": null,
      "padding": null,
      "right": null,
      "top": null,
      "visibility": null,
      "width": null
     }
    },
    "ceb312335d454e3da5c460a965b425d0": {
     "model_module": "@jupyter-widgets/controls",
     "model_name": "HBoxModel",
     "state": {
      "_dom_classes": [],
      "_model_module": "@jupyter-widgets/controls",
      "_model_module_version": "1.5.0",
      "_model_name": "HBoxModel",
      "_view_count": null,
      "_view_module": "@jupyter-widgets/controls",
      "_view_module_version": "1.5.0",
      "_view_name": "HBoxView",
      "box_style": "",
      "children": [
       "IPY_MODEL_40d2c12153de4d45a9f13f13405bed9b",
       "IPY_MODEL_d02bd5cdaab344839a879559390e1091"
      ],
      "layout": "IPY_MODEL_4fc94422e2154f5ab30cb6e5e7a1306c"
     }
    },
    "d02bd5cdaab344839a879559390e1091": {
     "model_module": "@jupyter-widgets/controls",
     "model_name": "HTMLModel",
     "state": {
      "_dom_classes": [],
      "_model_module": "@jupyter-widgets/controls",
      "_model_module_version": "1.5.0",
      "_model_name": "HTMLModel",
      "_view_count": null,
      "_view_module": "@jupyter-widgets/controls",
      "_view_module_version": "1.5.0",
      "_view_name": "HTMLView",
      "description": "",
      "description_tooltip": null,
      "layout": "IPY_MODEL_7bb57dd3070b49069e9ca664f1d9c135",
      "placeholder": "​",
      "style": "IPY_MODEL_f8ca39a97cbc44ffbd8389bc27e2d52f",
      "value": "32768it [00:05, 6351.29it/s]"
     }
    },
    "d18f1830350945cab465770178d5366d": {
     "model_module": "@jupyter-widgets/controls",
     "model_name": "IntProgressModel",
     "state": {
      "_dom_classes": [],
      "_model_module": "@jupyter-widgets/controls",
      "_model_module_version": "1.5.0",
      "_model_name": "IntProgressModel",
      "_view_count": null,
      "_view_module": "@jupyter-widgets/controls",
      "_view_module_version": "1.5.0",
      "_view_name": "ProgressView",
      "bar_style": "success",
      "description": "",
      "description_tooltip": null,
      "layout": "IPY_MODEL_8d8e0e0b281243c99499d07ff6a4cede",
      "max": 1,
      "min": 0,
      "orientation": "horizontal",
      "style": "IPY_MODEL_69747ede55db406aa8ce10385ec8a347",
      "value": 1
     }
    },
    "d66b7ef7d5f54d2e98d02c53c9f8048f": {
     "model_module": "@jupyter-widgets/base",
     "model_name": "LayoutModel",
     "state": {
      "_model_module": "@jupyter-widgets/base",
      "_model_module_version": "1.2.0",
      "_model_name": "LayoutModel",
      "_view_count": null,
      "_view_module": "@jupyter-widgets/base",
      "_view_module_version": "1.2.0",
      "_view_name": "LayoutView",
      "align_content": null,
      "align_items": null,
      "align_self": null,
      "border": null,
      "bottom": null,
      "display": null,
      "flex": null,
      "flex_flow": null,
      "grid_area": null,
      "grid_auto_columns": null,
      "grid_auto_flow": null,
      "grid_auto_rows": null,
      "grid_column": null,
      "grid_gap": null,
      "grid_row": null,
      "grid_template_areas": null,
      "grid_template_columns": null,
      "grid_template_rows": null,
      "height": null,
      "justify_content": null,
      "justify_items": null,
      "left": null,
      "margin": null,
      "max_height": null,
      "max_width": null,
      "min_height": null,
      "min_width": null,
      "object_fit": null,
      "object_position": null,
      "order": null,
      "overflow": null,
      "overflow_x": null,
      "overflow_y": null,
      "padding": null,
      "right": null,
      "top": null,
      "visibility": null,
      "width": null
     }
    },
    "d84af69013d349219e67e3fa711c77ec": {
     "model_module": "@jupyter-widgets/base",
     "model_name": "LayoutModel",
     "state": {
      "_model_module": "@jupyter-widgets/base",
      "_model_module_version": "1.2.0",
      "_model_name": "LayoutModel",
      "_view_count": null,
      "_view_module": "@jupyter-widgets/base",
      "_view_module_version": "1.2.0",
      "_view_name": "LayoutView",
      "align_content": null,
      "align_items": null,
      "align_self": null,
      "border": null,
      "bottom": null,
      "display": null,
      "flex": null,
      "flex_flow": null,
      "grid_area": null,
      "grid_auto_columns": null,
      "grid_auto_flow": null,
      "grid_auto_rows": null,
      "grid_column": null,
      "grid_gap": null,
      "grid_row": null,
      "grid_template_areas": null,
      "grid_template_columns": null,
      "grid_template_rows": null,
      "height": null,
      "justify_content": null,
      "justify_items": null,
      "left": null,
      "margin": null,
      "max_height": null,
      "max_width": null,
      "min_height": null,
      "min_width": null,
      "object_fit": null,
      "object_position": null,
      "order": null,
      "overflow": null,
      "overflow_x": null,
      "overflow_y": null,
      "padding": null,
      "right": null,
      "top": null,
      "visibility": null,
      "width": null
     }
    },
    "d865ed2098944935a9a27245bde5f2b9": {
     "model_module": "@jupyter-widgets/controls",
     "model_name": "IntProgressModel",
     "state": {
      "_dom_classes": [],
      "_model_module": "@jupyter-widgets/controls",
      "_model_module_version": "1.5.0",
      "_model_name": "IntProgressModel",
      "_view_count": null,
      "_view_module": "@jupyter-widgets/controls",
      "_view_module_version": "1.5.0",
      "_view_name": "ProgressView",
      "bar_style": "success",
      "description": "",
      "description_tooltip": null,
      "layout": "IPY_MODEL_97b3329dd4804a819eae5fdd990657e2",
      "max": 1,
      "min": 0,
      "orientation": "horizontal",
      "style": "IPY_MODEL_306b116c7830404a9cd207038503587d",
      "value": 1
     }
    },
    "e36be13b19bd4c58b460d51057f23045": {
     "model_module": "@jupyter-widgets/base",
     "model_name": "LayoutModel",
     "state": {
      "_model_module": "@jupyter-widgets/base",
      "_model_module_version": "1.2.0",
      "_model_name": "LayoutModel",
      "_view_count": null,
      "_view_module": "@jupyter-widgets/base",
      "_view_module_version": "1.2.0",
      "_view_name": "LayoutView",
      "align_content": null,
      "align_items": null,
      "align_self": null,
      "border": null,
      "bottom": null,
      "display": null,
      "flex": null,
      "flex_flow": null,
      "grid_area": null,
      "grid_auto_columns": null,
      "grid_auto_flow": null,
      "grid_auto_rows": null,
      "grid_column": null,
      "grid_gap": null,
      "grid_row": null,
      "grid_template_areas": null,
      "grid_template_columns": null,
      "grid_template_rows": null,
      "height": null,
      "justify_content": null,
      "justify_items": null,
      "left": null,
      "margin": null,
      "max_height": null,
      "max_width": null,
      "min_height": null,
      "min_width": null,
      "object_fit": null,
      "object_position": null,
      "order": null,
      "overflow": null,
      "overflow_x": null,
      "overflow_y": null,
      "padding": null,
      "right": null,
      "top": null,
      "visibility": null,
      "width": null
     }
    },
    "f8ca39a97cbc44ffbd8389bc27e2d52f": {
     "model_module": "@jupyter-widgets/controls",
     "model_name": "DescriptionStyleModel",
     "state": {
      "_model_module": "@jupyter-widgets/controls",
      "_model_module_version": "1.5.0",
      "_model_name": "DescriptionStyleModel",
      "_view_count": null,
      "_view_module": "@jupyter-widgets/base",
      "_view_module_version": "1.2.0",
      "_view_name": "StyleView",
      "description_width": ""
     }
    }
   }
  }
 },
 "nbformat": 4,
 "nbformat_minor": 1
}
