{
 "cells": [
  {
   "cell_type": "code",
   "execution_count": 1,
   "id": "a0085cf5",
   "metadata": {},
   "outputs": [],
   "source": [
    "# Imports\n",
    "import sklearn\n",
    "import numpy as np\n",
    "import pandas as pd\n",
    "from sklearn.datasets import load_digits\n",
    "import matplotlib\n",
    "import matplotlib.pyplot as plt\n",
    "%matplotlib inline\n",
    "import sys\n",
    "import warnings\n",
    "import matplotlib.cbook\n",
    "if not sys.warnoptions:\n",
    "    warnings.simplefilter(\"ignore\")\n",
    "warnings.simplefilter(action='ignore', category=FutureWarning)\n",
    "warnings.filterwarnings(\"ignore\", category=FutureWarning)\n",
    "warnings.filterwarnings(\"ignore\", category=matplotlib.cbook.mplDeprecation)"
   ]
  },
  {
   "cell_type": "code",
   "execution_count": 2,
   "id": "879cf022",
   "metadata": {},
   "outputs": [],
   "source": [
    "!pip install -q -U watermark"
   ]
  },
  {
   "cell_type": "code",
   "execution_count": 3,
   "id": "5f473b98",
   "metadata": {},
   "outputs": [
    {
     "name": "stdout",
     "output_type": "stream",
     "text": [
      "Author: Rodrigo\n",
      "\n",
      "pandas    : 1.3.4\n",
      "sys       : 3.9.7 (default, Sep 16 2021, 16:59:28) [MSC v.1916 64 bit (AMD64)]\n",
      "sklearn   : 0.24.2\n",
      "numpy     : 1.19.5\n",
      "matplotlib: 3.4.3\n",
      "\n"
     ]
    }
   ],
   "source": [
    "# Versões dos pacotes usados neste jupyter notebook\n",
    "%reload_ext watermark\n",
    "%watermark -a \"Rodrigo\" --iversions"
   ]
  },
  {
   "cell_type": "code",
   "execution_count": 4,
   "id": "c5397308",
   "metadata": {},
   "outputs": [],
   "source": [
    "# Carregando os dados\n",
    "treino = pd.read_csv('dados/train.csv')\n",
    "teste = pd.read_csv('dados/test.csv')"
   ]
  },
  {
   "cell_type": "code",
   "execution_count": 5,
   "id": "a2a012f5",
   "metadata": {},
   "outputs": [],
   "source": [
    "# Separando a classe nos dados de treino\n",
    "range_class = np.arange(10)\n",
    "y = np.asfarray(treino.iloc[:,0])\n",
    "\n",
    "# Ajustando os datasets\n",
    "treino_x = treino.iloc[:,1:].values\n",
    "treino_y = np.array([(range_class == label).astype(np.float) for label in y])"
   ]
  },
  {
   "cell_type": "code",
   "execution_count": 6,
   "id": "d4b68aa7",
   "metadata": {},
   "outputs": [],
   "source": [
    "# Ajustando os dados para teste\n",
    "teste_x = teste.values"
   ]
  },
  {
   "cell_type": "code",
   "execution_count": 7,
   "id": "083171cb",
   "metadata": {},
   "outputs": [
    {
     "data": {
      "image/png": "[encoded data removed]",
      "text/plain": [
       "<Figure size 432x288 with 1 Axes>"
      ]
     },
     "metadata": {
      "needs_background": "light"
     },
     "output_type": "display_data"
    }
   ],
   "source": [
    "# Visualizando os Dados\n",
    "y = treino.iloc[:,0].value_counts()\n",
    "x = range(len(y))\n",
    "plt.bar(x, y)\n",
    "plt.xticks(x, x)\n",
    "plt.ylabel('Número de Imagens')\n",
    "plt.xlabel('Labels entre 0-9')\n",
    "plt.grid()"
   ]
  },
  {
   "cell_type": "code",
   "execution_count": 8,
   "id": "c5d4d58c",
   "metadata": {},
   "outputs": [
    {
     "data": {
      "image/png": "[encoded data removed]",
      "text/plain": [
       "<Figure size 1476x612 with 9 Axes>"
      ]
     },
     "metadata": {
      "needs_background": "light"
     },
     "output_type": "display_data"
    }
   ],
   "source": [
    "# Criando uma figura para exibir imagens em padrão de linhas e colunas (1 x 10)\n",
    "figure = plt.figure()\n",
    "\n",
    "# Definir manualmente a largura e a altura da figura\n",
    "figure.set_size_inches(20.5, 8.5)\n",
    "\n",
    "# Configurando uma imagem em cada figura com um título para o rótulo da imagem\n",
    "for itr in range(1, 10):\n",
    "    plt.subplot(1, 10, itr)\n",
    "    label = treino.loc[itr,'label']\n",
    "    pixels = treino.iloc[itr,1:].values.reshape((28,28))\n",
    "    plt.title('Label = {label}'.format(label = label))\n",
    "    plt.imshow(pixels)\n",
    "\n",
    "# Exibindo toda a imagem presente na figura\n",
    "plt.show()"
   ]
  },
  {
   "cell_type": "code",
   "execution_count": 9,
   "id": "3e5ccf4e",
   "metadata": {},
   "outputs": [],
   "source": [
    "# Normalizando os Dados de entrada x\n",
    "treino_x = treino_x / 255.\n",
    "teste_x  = teste_x  / 255."
   ]
  },
  {
   "cell_type": "code",
   "execution_count": 10,
   "id": "5026c899",
   "metadata": {},
   "outputs": [
    {
     "name": "stdout",
     "output_type": "stream",
     "text": [
      "O shape de X é: (42000, 784)\n",
      "O shape de Y é: (42000, 10)\n",
      "Temos 42000 exemplos de treinamento!\n"
     ]
    }
   ],
   "source": [
    "# Visualizando o formato dos dados\n",
    "shape_x = treino_x.shape\n",
    "shape_y = treino_y.shape\n",
    "\n",
    "# Total de linhas (observações ou exemplos)\n",
    "total = treino_y.shape[0]\n",
    "\n",
    "# Print\n",
    "print ('O shape de X é: ' + str(shape_x))\n",
    "print ('O shape de Y é: ' + str(shape_y))\n",
    "print ('Temos %d exemplos de treinamento!' % (total))"
   ]
  },
  {
   "cell_type": "code",
   "execution_count": 11,
   "id": "1d509087",
   "metadata": {},
   "outputs": [],
   "source": [
    "#Definindo o tamanho das camadas\n",
    "def layer_size(X, Y):\n",
    "    \n",
    "    n_x = X.shape[1]\n",
    "    n_h = 4\n",
    "    n_y = Y.shape[1]\n",
    "    \n",
    "    return (n_x, n_h, n_y)"
   ]
  },
  {
   "cell_type": "code",
   "execution_count": 12,
   "id": "2683a3be",
   "metadata": {},
   "outputs": [],
   "source": [
    "#Inicialização dos parâmetros\n",
    "def initialise_parameter(n_x, n_h, n_y):\n",
    "    \n",
    "    np.random.seed(0)\n",
    "    \n",
    "    W1 = np.random.randn(n_h[0], n_x) * 0.1\n",
    "    b1 = np.zeros(shape = (n_h[0], 1))\n",
    "    \n",
    "    W2 = np.random.randn(n_h[1], n_h[0]) * 0.1\n",
    "    b2 = np.zeros(shape = (n_h[1], 1))\n",
    "    \n",
    "    W3 = np.random.randn(n_y, n_h[1]) * 0.1\n",
    "    b3 = np.zeros(shape = (n_y, 1))\n",
    "    \n",
    "    assert(W1.shape == (n_h[0], n_x))\n",
    "    assert(b1.shape == (n_h[0], 1))\n",
    "\n",
    "    assert(W2.shape == (n_h[1], n_h[0]))\n",
    "    assert(b2.shape == (n_h[1], 1))\n",
    "    \n",
    "    assert(W3.shape == (n_y, n_h[1]))\n",
    "    assert(b3.shape == (n_y, 1))\n",
    "    \n",
    "    parameters = {\"W1\": W1, \n",
    "                  \"b1\": b1, \n",
    "                  \"W2\": W2, \n",
    "                  \"b2\": b2, \n",
    "                  \"W3\": W3, \n",
    "                  \"b3\": b3\n",
    "                 }\n",
    "    \n",
    "    return parameters"
   ]
  },
  {
   "cell_type": "code",
   "execution_count": 13,
   "id": "705e4c4f",
   "metadata": {},
   "outputs": [],
   "source": [
    "#Função de Ativação\n",
    "def sigmoid(x):\n",
    "    return 1 / (1 + np.exp(-x))\n",
    "\n",
    "def sigmoid_derivative(x):\n",
    "    return x * (1 - x)"
   ]
  },
  {
   "cell_type": "code",
   "execution_count": 14,
   "id": "96a5d345",
   "metadata": {},
   "outputs": [],
   "source": [
    "#Função Forward Propagation\n",
    "def forward_propagation(X, parameters):\n",
    "    \n",
    "    # Coleta os parâmetros do dicionário parameters\n",
    "    W1 = parameters[\"W1\"]\n",
    "    b1 = parameters[\"b1\"]\n",
    "    W2 = parameters[\"W2\"]\n",
    "    b2 = parameters[\"b2\"]\n",
    "    W3 = parameters[\"W3\"]\n",
    "    b3 = parameters[\"b3\"]\n",
    "    \n",
    "    # Camada de entrada\n",
    "    Z1 = (np.dot(W1, X.T) + b1).T\n",
    "    \n",
    "    # Função de Ativação\n",
    "    A1 = sigmoid(Z1)\n",
    "    \n",
    "    # Camada oculta 1\n",
    "    Z2 = (np.dot(W2, A1.T) + b2).T\n",
    "    \n",
    "    # Função de Ativação\n",
    "    A2 = sigmoid(Z2)\n",
    "    \n",
    "    # Camada oculta 2 \n",
    "    Z3 = (np.dot(W3, A2.T) + b3).T\n",
    "    \n",
    "    # Função de Ativação\n",
    "    # Como vai entregar as probabilidades, não precisamos de uma camada de saída\n",
    "    A3 = sigmoid(Z3)\n",
    "    \n",
    "    assert(A3.shape == (X.shape[0], 10))\n",
    "    \n",
    "    cache = {\n",
    "        \"Z1\" : Z1,\n",
    "        \"A1\" : A1,\n",
    "        \"Z2\" : Z2,\n",
    "        \"A2\" : A2,\n",
    "        \"Z3\" : Z3,\n",
    "        \"A3\" : A3\n",
    "    }\n",
    "\n",
    "    return A3, cache"
   ]
  },
  {
   "cell_type": "code",
   "execution_count": 15,
   "id": "e65f7c4a",
   "metadata": {},
   "outputs": [],
   "source": [
    "#Função de custo\n",
    "def compute_cost(A3, Y):\n",
    "    \n",
    "    # Número de linhas de Y\n",
    "    m = Y.shape[0] \n",
    "    \n",
    "    # Log das probabilidades das previsões\n",
    "    logprobs = np.multiply(Y, np.log(A3)) + np.multiply((1 - Y), np.log(1 - A3))\n",
    "    \n",
    "    # Cálculo do custo\n",
    "    cost = - np.sum(logprobs) / m\n",
    "    \n",
    "    # Ajuste do formato dos dados\n",
    "    cost = float(np.squeeze(cost))\n",
    "    \n",
    "    assert(isinstance(cost, float))\n",
    "    \n",
    "    return cost"
   ]
  },
  {
   "cell_type": "code",
   "execution_count": 16,
   "id": "7bf8b88c",
   "metadata": {},
   "outputs": [],
   "source": [
    "#Backward Propagation\n",
    "def backward_propagation(parameters, cache, X, Y):\n",
    "    \n",
    "    # Shape de Y\n",
    "    m = Y.shape[0]\n",
    "    \n",
    "    # Extrai do \"cache\" os valores da saída de cada ativação\n",
    "    A1 = cache[\"A1\"]\n",
    "    A2 = cache[\"A2\"]\n",
    "    A3 = cache[\"A3\"]\n",
    "    \n",
    "    # Extrai os parâmetros\n",
    "    W1 = parameters[\"W1\"]\n",
    "    W2 = parameters[\"W2\"]\n",
    "    W3 = parameters[\"W3\"]\n",
    "    \n",
    "    # Calcula a derivada do custo (perceba que estamos calculando na sequência inversa ao forward propagation)\n",
    "    dZ3 = (A3 - Y)\n",
    "    dW3 = (1 / m) * np.dot(dZ3.T, A2)\n",
    "    db3 = (1 / m) * np.sum(dZ3, keepdims = True)\n",
    "\n",
    "    dZ2 = np.multiply(np.dot(dZ3, W3), sigmoid_derivative(A2))\n",
    "    dW2 = (1 / m) * np.dot(dZ2.T, A1)\n",
    "    db2 = (1 / m) * np.sum(dZ2, keepdims = True)\n",
    "    \n",
    "    dZ1 = np.multiply(np.dot(dZ2, W2), sigmoid_derivative(A1))\n",
    "    dW1 = (1 / m) * np.dot(dZ1.T, X)\n",
    "    db1 = (1 / m) * np.sum(dZ1, keepdims = True)\n",
    "    \n",
    "    # Dicionário de gradientes\n",
    "    grads = {\"dW1\": dW1, \n",
    "             \"db1\": db1, \n",
    "             \"dW2\": dW2, \n",
    "             \"db2\": db2, \n",
    "             \"dW3\": dW3, \n",
    "             \"db3\": db3\n",
    "            }\n",
    "    \n",
    "    return grads"
   ]
  },
  {
   "cell_type": "code",
   "execution_count": 17,
   "id": "bf7f255d",
   "metadata": {},
   "outputs": [],
   "source": [
    "#Atualização dos coeficientes\n",
    "def update_parameters(parameters, grads, learning_rate):\n",
    "    \n",
    "    # Extrai os pesos\n",
    "    W1 = parameters[\"W1\"]\n",
    "    b1 = parameters[\"b1\"]\n",
    "    W2 = parameters[\"W2\"]\n",
    "    b2 = parameters[\"b2\"]\n",
    "    W3 = parameters[\"W3\"]\n",
    "    b3 = parameters[\"b3\"]\n",
    "    \n",
    "    # Extrai os gradientes\n",
    "    dW1 = grads[\"dW1\"]\n",
    "    db1 = grads[\"db1\"]\n",
    "    dW2 = grads[\"dW2\"]\n",
    "    db2 = grads[\"db2\"]\n",
    "    dW3 = grads[\"dW3\"]\n",
    "    db3 = grads[\"db3\"]\n",
    "    \n",
    "    # Multiplica os gradientes pela taxa de aprendizagem e então subtrai do valor do coeficiente\n",
    "    # O gradiente define a direção da mudança (positiva ou negativa)\n",
    "    # A taxa de aprendizagem define a magnitude (mudança maior ou menor)\n",
    "    W1 = W1 - (learning_rate * dW1)\n",
    "    b1 = b1 - (learning_rate * db1)\n",
    "    W2 = W2 - (learning_rate * dW2)\n",
    "    b2 = b2 - (learning_rate * db2)\n",
    "    W3 = W3 - (learning_rate * dW3)\n",
    "    b3 = b3 - (learning_rate * db3)\n",
    "    \n",
    "    # Novo dicionário de parâmetros\n",
    "    parameters = {\"W1\": W1, \n",
    "                  \"b1\": b1, \n",
    "                  \"W2\": W2, \n",
    "                  \"b2\": b2, \n",
    "                  \"W3\": W3, \n",
    "                  \"b3\": b3\n",
    "                 }\n",
    "    \n",
    "    return parameters"
   ]
  },
  {
   "cell_type": "code",
   "execution_count": 18,
   "id": "10e859bc",
   "metadata": {},
   "outputs": [],
   "source": [
    "#Função para previsão\n",
    "def predict(X, parameters):\n",
    "    \n",
    "    m = X.shape[0]\n",
    "    \n",
    "    W1 = parameters[\"W1\"]\n",
    "    b1 = parameters[\"b1\"]\n",
    "    W2 = parameters[\"W2\"]\n",
    "    b2 = parameters[\"b2\"]\n",
    "    \n",
    "    A3, cache = forward_propagation(X, parameters)\n",
    "    \n",
    "    return A3"
   ]
  },
  {
   "cell_type": "code",
   "execution_count": 19,
   "id": "f45319aa",
   "metadata": {},
   "outputs": [],
   "source": [
    "#Modelo Rede Neural\n",
    "def nn_model(X, Y, n_h, learning_rate, num_iterations, print_cost = False):\n",
    "\n",
    "    # Para reproduzir sempre os mesmos resultados\n",
    "    np.random.seed(3)\n",
    "\n",
    "    # Lista para o custo em cada iteração\n",
    "    cost_per_iter = []\n",
    "    \n",
    "    # Tamanho das camadas\n",
    "    n_x = layer_size(X, Y)[0]\n",
    "    n_y = layer_size(X, Y)[2]\n",
    "    \n",
    "    # Inicialização dos parâmetros\n",
    "    parameters = initialise_parameter(n_x, n_h, n_y)\n",
    "    \n",
    "    # Loop (gradient descent)\n",
    "    for i in range(0, num_iterations):\n",
    "\n",
    "        # Forward propagation. Inputs: \"X, pesos\". Outputs: \"A2, cache\".\n",
    "        A3, cache = forward_propagation(X, parameters)\n",
    "        \n",
    "        # Função de custo. Inputs: \"A2, Y, pesos\". Outputs: \"custo\".\n",
    "        cost = compute_cost(A3, Y)\n",
    " \n",
    "        # Grava o custo por iteração\n",
    "        cost_per_iter.append(cost)\n",
    "\n",
    "        # Backpropagation. Inputs: \"pesos, cache, X, Y\". Outputs: \"grads\".\n",
    "        grads = backward_propagation(parameters, cache, X, Y)\n",
    " \n",
    "        # Gradient descent. Inputs: \"pesos, grads\". Outputs: \"pesos\".\n",
    "        parameters = update_parameters(parameters, grads, learning_rate)\n",
    "        \n",
    "        # Imprime o custo a cada 100 iterações\n",
    "        if print_cost and i % 100 == 0:\n",
    "            print (\"Custo após iteração %i: %f\" %(i, cost))\n",
    "    \n",
    "    # Previsão em treino\n",
    "    train_prediction = (treino.iloc[:,0].values != np.array(predict(treino_x, parameters).argmax(axis = 1)).T).astype(int)\n",
    "\n",
    "    # Previsão em teste\n",
    "    test_prediction = np.vstack((np.arange(1,28001), predict(teste_x, parameters).argmax(axis = 1).T)).T\n",
    "    \n",
    "    # Dados para submeter ao Kaggle mais tarde (opcional)\n",
    "    data_to_submit = pd.DataFrame(test_prediction, columns = ['ImageId','Label']) \n",
    "    \n",
    "    # Print\n",
    "    print(\"Acurácia em Treino: {} %\".format(100 - np.mean(train_prediction) * 100))\n",
    "    \n",
    "    # Saída\n",
    "    output = {\n",
    "        \"cost\" : cost_per_iter[-1],\n",
    "        \"parameters\" : parameters,\n",
    "        \"cost_per_iter\" : cost_per_iter,\n",
    "        \"train_prediction\" : train_prediction,\n",
    "        \"test_prediction\" : test_prediction,\n",
    "        \"data_to_submit\" : data_to_submit\n",
    "    }\n",
    "    \n",
    "    return output"
   ]
  },
  {
   "cell_type": "code",
   "execution_count": 20,
   "id": "fbfa5787",
   "metadata": {},
   "outputs": [
    {
     "name": "stdout",
     "output_type": "stream",
     "text": [
      "Taxa de Aprendizado = 2.1\n",
      "Custo após iteração 0: 6.616198\n",
      "Custo após iteração 100: 1.916392\n",
      "Custo após iteração 200: 0.918496\n",
      "Acurácia em Treino: 91.7 %\n",
      "O custo é: 0.6334650620313301\n",
      "-------------------------------------------------------\n",
      "\n"
     ]
    },
    {
     "data": {
      "image/png": "[encoded data removed]",
      "text/plain": [
       "<Figure size 432x288 with 1 Axes>"
      ]
     },
     "metadata": {
      "needs_background": "light"
     },
     "output_type": "display_data"
    }
   ],
   "source": [
    "#Função Treinamento\n",
    "models = {}\n",
    "learning_rates = [2.1]\n",
    "\n",
    "# Loop de treinamento\n",
    "for i in learning_rates:\n",
    "    \n",
    "    # Print\n",
    "    print (\"Taxa de Aprendizado = \" + str(i))\n",
    "    \n",
    "    models[str(i)] = nn_model(treino_x, \n",
    "                              treino_y, \n",
    "                              n_h = [400, 40], \n",
    "                              learning_rate = i, \n",
    "                              num_iterations = 300, \n",
    "                              print_cost = True)\n",
    "    \n",
    "    \n",
    "    print (\"O custo é: \" + str(models[str(i)][\"cost\"]))\n",
    "    print (\"-------------------------------------------------------\" + '\\n')\n",
    "\n",
    "# Plot do custo por iteração\n",
    "for i in learning_rates:\n",
    "    plt.plot(np.squeeze(models[str(i)][\"cost_per_iter\"]), label = str(i))\n",
    "\n",
    "# Plot\n",
    "plt.ylabel('Custo')\n",
    "plt.xlabel('Iterações')\n",
    "legend = plt.legend(loc = 'upper center', shadow = True)\n",
    "frame = legend.get_frame()\n",
    "frame.set_facecolor('0.90')\n",
    "plt.grid()\n",
    "plt.show()"
   ]
  }
 ],
 "metadata": {
  "kernelspec": {
   "display_name": "Python 3 (ipykernel)",
   "language": "python",
   "name": "python3"
  },
  "language_info": {
   "codemirror_mode": {
    "name": "ipython",
    "version": 3
   },
   "file_extension": ".py",
   "mimetype": "text/x-python",
   "name": "python",
   "nbconvert_exporter": "python",
   "pygments_lexer": "ipython3",
   "version": "3.9.7"
  }
 },
 "nbformat": 4,
 "nbformat_minor": 5
}
